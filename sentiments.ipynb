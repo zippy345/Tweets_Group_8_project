{
 "cells": [
  {
   "cell_type": "markdown",
   "id": "c079f90a",
   "metadata": {},
   "source": [
    "# **TWITTER SENTIMENT ANALYSIS**\n",
    "\n",
    "![Tweets.png](Tweets.png)\n"
   ]
  },
  {
   "cell_type": "markdown",
   "id": "0fcd3852",
   "metadata": {},
   "source": [
    "## **1.0 BUSINESS UNDERSTANDING**"
   ]
  },
  {
   "cell_type": "markdown",
   "id": "3a2d8e35",
   "metadata": {},
   "source": [
    "### 1.1 Project Overview\n",
    "Sentiment analysis is an automated process that interprets written or spoken opinions about a specific subject. Companies leverage sentiment analysis of tweets to get a sense of how customers are talking about their products and services, get insights to drive business decisions and identify product issues and potential PR crises early on.\n",
    "\n",
    "A 2023 systematic review published in [Information Processing & Management](https://www.sciencedirect.com/science/article/abs/pii/S0306457323001413?via%3Dihub) confirms that social media analytics have become a cornerstone of business intelligence, directly enabling data-driven decisions in product innovation and competitive positioning. This project applies sentiment analysis to tweets about Apple and Google products, aiming to classify and analyze public opinion. The insights will help technology companies identify emerging issues, leverage positive feedback, and make strategic decisions based on real-time customer sentiment.\n"
   ]
  },
  {
   "cell_type": "markdown",
   "id": "8562d67a",
   "metadata": {},
   "source": [
    "### 1.2 Business Problem\n",
    "Apple and Google face the challenge of managing customer opinions expressed on social media. Negative sentiment about products or services can quickly harm brand perception, reduce customer loyalty, and impact sales.Without an automated solution, emerging product issues or trending complaints may go unnoticed, leading to reputational risks and missed market opportunities.This project aims to address this problem by using Natural Language Processing (NLP) to classify and analyze tweets, enabling Apple and Google to respond promptly, leverage positive feedback and make data-driven strategic decisions."
   ]
  },
  {
   "cell_type": "markdown",
   "id": "e1371a2e",
   "metadata": {},
   "source": [
    "### 1.3 Business Objectives\n",
    "The main objective of this project is to build an NLP model that can rate the sentiment of a Tweet based on its content.\n",
    "\n",
    "Specific objectives\n",
    "1. Develop machine learning model to classify tweets as positive, negative, or neutral.\n",
    "2. Identify sentiment trends and patterns for Apple and Google products.\n",
    "3. Identify common topics and keywords driving positive or negative sentiment for each brand.\n",
    "\n",
    "Key questions\n",
    "1. What proportion of tweets about Apple and Google products are positive, negative, or neutral?\n",
    "2. Which brand generally receives more positive or negative mentions on Twitter?\n",
    "3. What are the most common words or phrases driving positive sentiment for each brand?"
   ]
  },
  {
   "cell_type": "markdown",
   "id": "86789484",
   "metadata": {},
   "source": [
    "### 1.4 Sucees Criteria\n",
    "1. The machine learning model accurately classifies tweets as positive, negative, or neutral, with a target accuracy of at least 75–80%.\n",
    "2. The model demonstrates good precision, recall, and F1-score across all sentiment categories."
   ]
  },
  {
   "cell_type": "markdown",
   "id": "5322bf38",
   "metadata": {},
   "source": [
    "## **2.0 DATA UNDERSTANDING**"
   ]
  },
  {
   "cell_type": "markdown",
   "id": "ce0e9380",
   "metadata": {},
   "source": [
    "The dataset for this project comes from [CrowdFlower via data.world](https://data.world/crowdflower/brands-and-product-emotions) and consists of tweets related to Apple and Google products. The dataset contains a total of 9,093 records and 3 features. Most tweets are text-based and include user mentions, hashtags and product names.\n",
    "\n",
    "Key Features in the Dataset:\n",
    "\n",
    "1. `tweet_text` -  The actual content of the tweet as written by the user. This serves as the main input for Natural Language Processing (NLP) to determine the expressed sentiment.\n",
    "\n",
    "2. `emotion_in_tweet_is_directed_at` - Specifies the brand, company or product that the emotion is directed at (e.g., Apple, Google, iPhone, Android). This helps in comparing sentiment between brands.\n",
    "\n",
    "3. `is_there_an_emotion_directed_at_a_brand_or_product` - The target variable indicating whether a tweet expresses a positive, negative, or neutral emotion toward a brand or product."
   ]
  },
  {
   "cell_type": "markdown",
   "id": "0dcebe3b",
   "metadata": {},
   "source": [
    "### 2.1 Load data\n",
    "Import necessary libraries and load the dataset."
   ]
  },
  {
   "cell_type": "code",
   "execution_count": 1,
   "id": "3947c1df",
   "metadata": {},
   "outputs": [
    {
     "name": "stderr",
     "output_type": "stream",
     "text": [
      "[nltk_data] Downloading package punkt to C:\\Users\\USER/nltk_data...\n",
      "[nltk_data]   Package punkt is already up-to-date!\n",
      "[nltk_data] Downloading package stopwords to\n",
      "[nltk_data]     C:\\Users\\USER/nltk_data...\n",
      "[nltk_data]   Package stopwords is already up-to-date!\n",
      "[nltk_data] Downloading package wordnet to C:\\Users\\USER/nltk_data...\n",
      "[nltk_data]   Package wordnet is already up-to-date!\n"
     ]
    }
   ],
   "source": [
    "# Import libraries\n",
    "\n",
    "# Data loading and manipulation\n",
    "import pandas as pd\n",
    "import numpy as np\n",
    "\n",
    "# Data visualization\n",
    "import matplotlib.pyplot as plt\n",
    "import seaborn as sns\n",
    "%matplotlib inline\n",
    "\n",
    "# NLP libraries\n",
    "import re\n",
    "import nltk\n",
    "from nltk.corpus import stopwords\n",
    "from nltk import FreqDist\n",
    "from nltk.tokenize import word_tokenize\n",
    "from nltk.stem import WordNetLemmatizer\n",
    "from nltk.tokenize import RegexpTokenizer, word_tokenize\n",
    "\n",
    "# Download required NLTK data\n",
    "nltk.download('punkt')\n",
    "nltk.download('stopwords')\n",
    "nltk.download('wordnet')\n",
    "\n",
    "# Warnings\n",
    "import warnings\n",
    "warnings.filterwarnings('ignore')"
   ]
  },
  {
   "cell_type": "code",
   "execution_count": 2,
   "id": "95cfbbe3",
   "metadata": {},
   "outputs": [
    {
     "data": {
      "text/html": [
       "<div>\n",
       "<style scoped>\n",
       "    .dataframe tbody tr th:only-of-type {\n",
       "        vertical-align: middle;\n",
       "    }\n",
       "\n",
       "    .dataframe tbody tr th {\n",
       "        vertical-align: top;\n",
       "    }\n",
       "\n",
       "    .dataframe thead th {\n",
       "        text-align: right;\n",
       "    }\n",
       "</style>\n",
       "<table border=\"1\" class=\"dataframe\">\n",
       "  <thead>\n",
       "    <tr style=\"text-align: right;\">\n",
       "      <th></th>\n",
       "      <th>tweet_text</th>\n",
       "      <th>emotion_in_tweet_is_directed_at</th>\n",
       "      <th>is_there_an_emotion_directed_at_a_brand_or_product</th>\n",
       "    </tr>\n",
       "  </thead>\n",
       "  <tbody>\n",
       "    <tr>\n",
       "      <th>0</th>\n",
       "      <td>.@wesley83 I have a 3G iPhone. After 3 hrs twe...</td>\n",
       "      <td>iPhone</td>\n",
       "      <td>Negative emotion</td>\n",
       "    </tr>\n",
       "    <tr>\n",
       "      <th>1</th>\n",
       "      <td>@jessedee Know about @fludapp ? Awesome iPad/i...</td>\n",
       "      <td>iPad or iPhone App</td>\n",
       "      <td>Positive emotion</td>\n",
       "    </tr>\n",
       "    <tr>\n",
       "      <th>2</th>\n",
       "      <td>@swonderlin Can not wait for #iPad 2 also. The...</td>\n",
       "      <td>iPad</td>\n",
       "      <td>Positive emotion</td>\n",
       "    </tr>\n",
       "    <tr>\n",
       "      <th>3</th>\n",
       "      <td>@sxsw I hope this year's festival isn't as cra...</td>\n",
       "      <td>iPad or iPhone App</td>\n",
       "      <td>Negative emotion</td>\n",
       "    </tr>\n",
       "    <tr>\n",
       "      <th>4</th>\n",
       "      <td>@sxtxstate great stuff on Fri #SXSW: Marissa M...</td>\n",
       "      <td>Google</td>\n",
       "      <td>Positive emotion</td>\n",
       "    </tr>\n",
       "  </tbody>\n",
       "</table>\n",
       "</div>"
      ],
      "text/plain": [
       "                                          tweet_text  \\\n",
       "0  .@wesley83 I have a 3G iPhone. After 3 hrs twe...   \n",
       "1  @jessedee Know about @fludapp ? Awesome iPad/i...   \n",
       "2  @swonderlin Can not wait for #iPad 2 also. The...   \n",
       "3  @sxsw I hope this year's festival isn't as cra...   \n",
       "4  @sxtxstate great stuff on Fri #SXSW: Marissa M...   \n",
       "\n",
       "  emotion_in_tweet_is_directed_at  \\\n",
       "0                          iPhone   \n",
       "1              iPad or iPhone App   \n",
       "2                            iPad   \n",
       "3              iPad or iPhone App   \n",
       "4                          Google   \n",
       "\n",
       "  is_there_an_emotion_directed_at_a_brand_or_product  \n",
       "0                                   Negative emotion  \n",
       "1                                   Positive emotion  \n",
       "2                                   Positive emotion  \n",
       "3                                   Negative emotion  \n",
       "4                                   Positive emotion  "
      ]
     },
     "execution_count": 2,
     "metadata": {},
     "output_type": "execute_result"
    }
   ],
   "source": [
    "# Load dataset \n",
    "data = pd.read_csv(\"judge-1377884607_tweet_product_company.csv\", encoding = 'latin-1')\n",
    "\n",
    "# Preview the dataset\n",
    "data.head()"
   ]
  },
  {
   "cell_type": "markdown",
   "id": "88b26961",
   "metadata": {},
   "source": [
    "### 2.2 Dataset Overview"
   ]
  },
  {
   "cell_type": "code",
   "execution_count": 3,
   "id": "13717adc",
   "metadata": {},
   "outputs": [
    {
     "name": "stdout",
     "output_type": "stream",
     "text": [
      "<class 'pandas.core.frame.DataFrame'>\n",
      "RangeIndex: 9093 entries, 0 to 9092\n",
      "Data columns (total 3 columns):\n",
      " #   Column                                              Non-Null Count  Dtype \n",
      "---  ------                                              --------------  ----- \n",
      " 0   tweet_text                                          9092 non-null   object\n",
      " 1   emotion_in_tweet_is_directed_at                     3291 non-null   object\n",
      " 2   is_there_an_emotion_directed_at_a_brand_or_product  9093 non-null   object\n",
      "dtypes: object(3)\n",
      "memory usage: 213.2+ KB\n"
     ]
    }
   ],
   "source": [
    "# Summary information about dataset\n",
    "data.info()"
   ]
  },
  {
   "cell_type": "code",
   "execution_count": 4,
   "id": "69a2239a",
   "metadata": {},
   "outputs": [
    {
     "name": "stdout",
     "output_type": "stream",
     "text": [
      "This dataset contains 9093 rows\n",
      "This dataset contains 3 columns\n"
     ]
    }
   ],
   "source": [
    "# Check the number of records and features using the shape method\n",
    "data.shape\n",
    "print(f'This dataset contains {data.shape[0]} rows')\n",
    "print(f'This dataset contains {data.shape[1]} columns')"
   ]
  },
  {
   "cell_type": "code",
   "execution_count": 5,
   "id": "c548bad1",
   "metadata": {},
   "outputs": [
    {
     "data": {
      "text/html": [
       "<div>\n",
       "<style scoped>\n",
       "    .dataframe tbody tr th:only-of-type {\n",
       "        vertical-align: middle;\n",
       "    }\n",
       "\n",
       "    .dataframe tbody tr th {\n",
       "        vertical-align: top;\n",
       "    }\n",
       "\n",
       "    .dataframe thead th {\n",
       "        text-align: right;\n",
       "    }\n",
       "</style>\n",
       "<table border=\"1\" class=\"dataframe\">\n",
       "  <thead>\n",
       "    <tr style=\"text-align: right;\">\n",
       "      <th></th>\n",
       "      <th>tweet_text</th>\n",
       "      <th>emotion_in_tweet_is_directed_at</th>\n",
       "      <th>is_there_an_emotion_directed_at_a_brand_or_product</th>\n",
       "    </tr>\n",
       "  </thead>\n",
       "  <tbody>\n",
       "    <tr>\n",
       "      <th>count</th>\n",
       "      <td>9092</td>\n",
       "      <td>3291</td>\n",
       "      <td>9093</td>\n",
       "    </tr>\n",
       "    <tr>\n",
       "      <th>unique</th>\n",
       "      <td>9065</td>\n",
       "      <td>9</td>\n",
       "      <td>4</td>\n",
       "    </tr>\n",
       "    <tr>\n",
       "      <th>top</th>\n",
       "      <td>RT @mention Marissa Mayer: Google Will Connect...</td>\n",
       "      <td>iPad</td>\n",
       "      <td>No emotion toward brand or product</td>\n",
       "    </tr>\n",
       "    <tr>\n",
       "      <th>freq</th>\n",
       "      <td>5</td>\n",
       "      <td>946</td>\n",
       "      <td>5389</td>\n",
       "    </tr>\n",
       "  </tbody>\n",
       "</table>\n",
       "</div>"
      ],
      "text/plain": [
       "                                               tweet_text  \\\n",
       "count                                                9092   \n",
       "unique                                               9065   \n",
       "top     RT @mention Marissa Mayer: Google Will Connect...   \n",
       "freq                                                    5   \n",
       "\n",
       "       emotion_in_tweet_is_directed_at  \\\n",
       "count                             3291   \n",
       "unique                               9   \n",
       "top                               iPad   \n",
       "freq                               946   \n",
       "\n",
       "       is_there_an_emotion_directed_at_a_brand_or_product  \n",
       "count                                                9093  \n",
       "unique                                                  4  \n",
       "top                    No emotion toward brand or product  \n",
       "freq                                                 5389  "
      ]
     },
     "execution_count": 5,
     "metadata": {},
     "output_type": "execute_result"
    }
   ],
   "source": [
    "# Get summary statistics of our data\n",
    "data.describe(include = 'all')"
   ]
  },
  {
   "cell_type": "code",
   "execution_count": 6,
   "id": "505b672b",
   "metadata": {},
   "outputs": [
    {
     "name": "stdout",
     "output_type": "stream",
     "text": [
      "The dataset has 5803 missing values\n"
     ]
    }
   ],
   "source": [
    "# Checking for missing values\n",
    "print(\"The dataset has\", data.isna().sum().sum(), \"missing values\")"
   ]
  },
  {
   "cell_type": "markdown",
   "id": "457f51ec",
   "metadata": {},
   "source": [
    "The dataset has missing values to be cleaned in the next step."
   ]
  },
  {
   "cell_type": "code",
   "execution_count": 7,
   "id": "a8885de3",
   "metadata": {},
   "outputs": [
    {
     "name": "stdout",
     "output_type": "stream",
     "text": [
      "The dataset has 22 duplicates\n"
     ]
    }
   ],
   "source": [
    "# Check for duplicate values\n",
    "print(\"The dataset has\", data.duplicated().sum(), \"duplicates\")"
   ]
  },
  {
   "cell_type": "markdown",
   "id": "cc0f621e",
   "metadata": {},
   "source": [
    "A total of 22 duplicates in the dataset to be dropped."
   ]
  },
  {
   "cell_type": "code",
   "execution_count": 8,
   "id": "9288f32e",
   "metadata": {},
   "outputs": [
    {
     "data": {
      "text/plain": [
       "is_there_an_emotion_directed_at_a_brand_or_product\n",
       "No emotion toward brand or product    5389\n",
       "Positive emotion                      2978\n",
       "Negative emotion                       570\n",
       "I can't tell                           156\n",
       "Name: count, dtype: int64"
      ]
     },
     "execution_count": 8,
     "metadata": {},
     "output_type": "execute_result"
    }
   ],
   "source": [
    "# Check the distribution of the target variable\n",
    "data['is_there_an_emotion_directed_at_a_brand_or_product'].value_counts()"
   ]
  },
  {
   "cell_type": "markdown",
   "id": "42ed03fa",
   "metadata": {},
   "source": [
    " - In summary, the dataset contains 9,093 tweets related to Apple and Google products, with three main featuress describing the tweet text, the mentioned product or brand and the corresponding sentiment label. \n",
    "\n",
    " - Most tweets express no direct emotion toward a brand or product, while positive emotions significantly outnumber negative ones. \n",
    " \n",
    " - The data cannot be used for modelling since it's not ready. Let's implement the cleaning and preprocessing methods to make it fit for modelling."
   ]
  },
  {
   "cell_type": "markdown",
   "id": "5082c736",
   "metadata": {},
   "source": [
    "## **3.0 DATA PREPARATION**\n",
    "In this section, we will look into data cleaning, Exploratory Data Analysis (EDA) and data preprocessing for our dataset."
   ]
  },
  {
   "cell_type": "markdown",
   "id": "16351307",
   "metadata": {},
   "source": [
    "### 3.1 Data Cleaning\n",
    "Data cleaning is a crucial step to prepare the dataset for reliable analysis and modeling. The goal is to remove inconsistencies, handle missing, handle duplicate values, and standardize formats so that the data is accurate, consistent and ready for further exploration."
   ]
  },
  {
   "cell_type": "markdown",
   "id": "703ce1ba",
   "metadata": {},
   "source": [
    "#### 3.1.1 Handling Missing Values"
   ]
  },
  {
   "cell_type": "code",
   "execution_count": 9,
   "id": "fa8728b2",
   "metadata": {},
   "outputs": [
    {
     "name": "stdout",
     "output_type": "stream",
     "text": [
      "Missing values:\n",
      "tweet_text                                               1\n",
      "emotion_in_tweet_is_directed_at                       5802\n",
      "is_there_an_emotion_directed_at_a_brand_or_product       0\n",
      "dtype: int64\n"
     ]
    }
   ],
   "source": [
    "# Create a copy of the original dataset to work on\n",
    "df = data.copy()\n",
    "\n",
    "# Check missing values\n",
    "print(f\"Missing values:\\n{df.isnull().sum()}\")"
   ]
  },
  {
   "cell_type": "code",
   "execution_count": 10,
   "id": "4092f54d",
   "metadata": {},
   "outputs": [
    {
     "data": {
      "text/plain": [
       "0"
      ]
     },
     "execution_count": 10,
     "metadata": {},
     "output_type": "execute_result"
    }
   ],
   "source": [
    "# Handle missing values in tweet_text\n",
    "df = df.dropna(subset = ['tweet_text']).copy()\n",
    "\n",
    "# Confirm that there are no missing values in tweet_text\n",
    "df['tweet_text'].isnull().sum()"
   ]
  },
  {
   "cell_type": "code",
   "execution_count": 11,
   "id": "8b94b6a6",
   "metadata": {},
   "outputs": [
    {
     "name": "stdout",
     "output_type": "stream",
     "text": [
      "emotion_in_tweet_is_directed_at\n",
      "iPad                               946\n",
      "Apple                              661\n",
      "iPad or iPhone App                 470\n",
      "Google                             430\n",
      "iPhone                             297\n",
      "Other Google product or service    293\n",
      "Android App                         81\n",
      "Android                             78\n",
      "Other Apple product or service      35\n",
      "Name: count, dtype: int64\n",
      "Missing values in this column: 5801\n"
     ]
    }
   ],
   "source": [
    "# Let's analyze the emotion_in_tweet_is_directed_at column\n",
    "# Check value counts\n",
    "print(df['emotion_in_tweet_is_directed_at'].value_counts())\n",
    "\n",
    "# Check missing values\n",
    "print(f\"Missing values in this column: {df['emotion_in_tweet_is_directed_at'].isnull().sum()}\")"
   ]
  },
  {
   "cell_type": "markdown",
   "id": "686dabab",
   "metadata": {},
   "source": [
    "Since we have 5801 empty rows in `emotion_in_tweet_is_directed_at` column If we drop all of them that could be half of our dataset gone meaning fewer examples for our model to learn from, so instead we replace the NaN with \"Unknown\" category."
   ]
  },
  {
   "cell_type": "code",
   "execution_count": 12,
   "id": "c5ecc443",
   "metadata": {},
   "outputs": [
    {
     "data": {
      "text/plain": [
       "0"
      ]
     },
     "execution_count": 12,
     "metadata": {},
     "output_type": "execute_result"
    }
   ],
   "source": [
    "# Fill missing values with Unknown\n",
    "df['emotion_in_tweet_is_directed_at'] = df['emotion_in_tweet_is_directed_at'].fillna('Unknown') \n",
    "\n",
    "# Confirm no missing values left\n",
    "df['emotion_in_tweet_is_directed_at'].isnull().sum()"
   ]
  },
  {
   "cell_type": "code",
   "execution_count": 13,
   "id": "263fa9d8",
   "metadata": {},
   "outputs": [
    {
     "data": {
      "text/plain": [
       "tweet_text                                            0\n",
       "emotion_in_tweet_is_directed_at                       0\n",
       "is_there_an_emotion_directed_at_a_brand_or_product    0\n",
       "dtype: int64"
      ]
     },
     "execution_count": 13,
     "metadata": {},
     "output_type": "execute_result"
    }
   ],
   "source": [
    "# Check missing values again\n",
    "df.isnull().sum()"
   ]
  },
  {
   "cell_type": "markdown",
   "id": "9ac1edfd",
   "metadata": {},
   "source": [
    "#### 3.1.2 Handling duplicates"
   ]
  },
  {
   "cell_type": "code",
   "execution_count": 14,
   "id": "0d36428d",
   "metadata": {},
   "outputs": [
    {
     "data": {
      "text/plain": [
       "22"
      ]
     },
     "execution_count": 14,
     "metadata": {},
     "output_type": "execute_result"
    }
   ],
   "source": [
    "# Check for duplicates\n",
    "df.duplicated().sum()"
   ]
  },
  {
   "cell_type": "code",
   "execution_count": 15,
   "id": "0717903c",
   "metadata": {},
   "outputs": [
    {
     "name": "stdout",
     "output_type": "stream",
     "text": [
      "\n",
      "Before removing duplicates: (9092, 3)\n",
      "After removing duplicates: (9070, 3)\n"
     ]
    }
   ],
   "source": [
    "# Remove duplicate rows\n",
    "print(f\"\\nBefore removing duplicates: {df.shape}\")\n",
    "\n",
    "df = df.drop_duplicates()\n",
    "\n",
    "print(f\"After removing duplicates: {df.shape}\")"
   ]
  },
  {
   "cell_type": "markdown",
   "id": "50b95527",
   "metadata": {},
   "source": [
    "### 3.2 Feature Engineering"
   ]
  },
  {
   "cell_type": "markdown",
   "id": "2eb2624b",
   "metadata": {},
   "source": [
    "#### 3.2.1 Create Band Categories"
   ]
  },
  {
   "cell_type": "code",
   "execution_count": 16,
   "id": "fef84aa8",
   "metadata": {},
   "outputs": [
    {
     "name": "stdout",
     "output_type": "stream",
     "text": [
      "brand_category\n",
      "Unknown    5788\n",
      "Apple      2404\n",
      "Google      878\n",
      "Name: count, dtype: int64\n"
     ]
    }
   ],
   "source": [
    "brand_mapping = {\n",
    "    'iPad': 'Apple',\n",
    "    'Apple': 'Apple', \n",
    "    'iPad or iPhone App': 'Apple',\n",
    "    'iPhone': 'Apple',\n",
    "    'Other Apple product or service': 'Apple',\n",
    "    'Google': 'Google',\n",
    "    'Other Google product or service': 'Google',\n",
    "    'Android App': 'Google', \n",
    "    'Android': 'Google'\n",
    "}\n",
    "\n",
    "# Apply the mapping \n",
    "df['brand_category'] = df['emotion_in_tweet_is_directed_at'].map(brand_mapping).fillna('Unknown')\n",
    "\n",
    "# Check Value counts of the new column\n",
    "print(df['brand_category'].value_counts())"
   ]
  },
  {
   "cell_type": "markdown",
   "id": "93b5fa05",
   "metadata": {},
   "source": [
    "#### 3.2.2 Transform Target Variable"
   ]
  },
  {
   "cell_type": "code",
   "execution_count": 17,
   "id": "3f7e1846",
   "metadata": {},
   "outputs": [
    {
     "name": "stdout",
     "output_type": "stream",
     "text": [
      "is_there_an_emotion_directed_at_a_brand_or_product\n",
      "No emotion toward brand or product    5375\n",
      "Positive emotion                      2970\n",
      "Negative emotion                       569\n",
      "I can't tell                           156\n",
      "Name: count, dtype: int64\n"
     ]
    }
   ],
   "source": [
    "# Check distribution of target variable\n",
    "print(df['is_there_an_emotion_directed_at_a_brand_or_product'].value_counts())\n"
   ]
  },
  {
   "cell_type": "code",
   "execution_count": 18,
   "id": "9f3201fd",
   "metadata": {},
   "outputs": [],
   "source": [
    "# Create  sentiment mapping\n",
    "sentiment_mapping = {\n",
    "                    'Positive emotion': 'positive',\n",
    "                    'Negative emotion': 'negative',\n",
    "                    'No emotion toward brand or product': 'neutral', \n",
    "                    \"I can't tell\": 'neutral'\n",
    "                }\n",
    "\n",
    "# Apply the mapping to create a new column sentiments\n",
    "df['sentiments'] = df['is_there_an_emotion_directed_at_a_brand_or_product'].map(sentiment_mapping)\n"
   ]
  },
  {
   "cell_type": "code",
   "execution_count": 19,
   "id": "64fa1221",
   "metadata": {},
   "outputs": [
    {
     "name": "stdout",
     "output_type": "stream",
     "text": [
      "sentiments\n",
      "neutral     5531\n",
      "positive    2970\n",
      "negative     569\n",
      "Name: count, dtype: int64\n"
     ]
    }
   ],
   "source": [
    "# Check the distribution of the new target variable\n",
    "print(df['sentiments'].value_counts())"
   ]
  },
  {
   "cell_type": "markdown",
   "id": "5d3c194c",
   "metadata": {},
   "source": [
    "### 3.3 Text Preprocessing\n",
    "This process involves removing stopwords, punctuation marks and lemmatizing etc"
   ]
  },
  {
   "cell_type": "code",
   "execution_count": 20,
   "id": "8d140d62",
   "metadata": {},
   "outputs": [
    {
     "name": "stdout",
     "output_type": "stream",
     "text": [
      "\n",
      "POSITIVE TWEETS\n",
      "1. @jessedee Know about @fludapp ? Awesome iPad/iPhone app that you'll likely appreciate for its design. Also, they're giving free Ts at #SXSW\n",
      "2. @swonderlin Can not wait for #iPad 2 also. They should sale them down at #SXSW.\n",
      "\n",
      "NEGATIVE TWEETS\n",
      "1. .@wesley83 I have a 3G iPhone. After 3 hrs tweeting at #RISE_Austin, it was dead!  I need to upgrade. Plugin stations at #SXSW.\n",
      "2. @sxsw I hope this year's festival isn't as crashy as this year's iPhone app. #sxsw\n",
      "\n",
      "NEUTRAL TWEETS\n",
      "1. @teachntech00 New iPad Apps For #SpeechTherapy And Communication Are Showcased At The #SXSW Conference http://ht.ly/49n4M #iear #edchat #asd\n",
      "2. Holler Gram for iPad on the iTunes App Store -  http://t.co/kfN3f5Q (via @marc_is_ken) #sxsw\n"
     ]
    }
   ],
   "source": [
    "# Examine sample tweets from each sentiment category\n",
    "for sentiment in ['positive', 'negative', 'neutral']:\n",
    "    print(f\"\\n{sentiment.upper()} TWEETS\")\n",
    "    sample_tweets = df[df['sentiments'] == sentiment]['tweet_text'].head(2)\n",
    "    for i, tweet in enumerate(sample_tweets):\n",
    "        print(f\"{i+1}. {tweet}\")"
   ]
  },
  {
   "cell_type": "code",
   "execution_count": 21,
   "id": "ca20427f",
   "metadata": {},
   "outputs": [],
   "source": [
    "# Initialize tools\n",
    "stopwordlist = stopwords.words('english')\n",
    "lemmatizer = WordNetLemmatizer()"
   ]
  },
  {
   "cell_type": "code",
   "execution_count": 22,
   "id": "e54e04fa",
   "metadata": {},
   "outputs": [],
   "source": [
    "def clean_text(text):\n",
    "   \n",
    "    # Convert to lowercase\n",
    "    text = text.lower()\n",
    "    \n",
    "    # Remove URLs, mentions, hashtags, special characters\n",
    "    text = re.sub(r'https?://\\S+/www.\\S+', '', text) # Remove URLs\n",
    "    text = re.sub(r'www.\\S+', '', text)# Remove urls\n",
    "    text = re.sub(r'@\\w+', '', text) # Remove mentions\n",
    "    text = re.sub(r\"#(\\w+)\", r\"\\1\", text) # Remove the # symbol from hashtags but keep the text\n",
    "    text = re.sub(r\"\\brt\\b\", \"\", text, flags = re.IGNORECASE)  # Remove 'RT' for retweets\n",
    "    text = re.sub(r\"[^a-zA-Z\\s]\", \" \", text) # Keep letters and spaces\n",
    "    \n",
    "    # Tokenize the text\n",
    "    tokens = word_tokenize(text)\n",
    "    \n",
    "    # Remove stopwords and lemmatize\n",
    "    \n",
    "    cleaned_tokens = [lemmatizer.lemmatize(token) for token in tokens if token not in stopwordlist]\n",
    "    \n",
    "    # Join tokens back to string\n",
    "    cleaned_text = ' '.join(cleaned_tokens)\n",
    "    return cleaned_text\n"
   ]
  },
  {
   "cell_type": "markdown",
   "id": "7c0418ec",
   "metadata": {},
   "source": [
    "Apply the function to the text column"
   ]
  },
  {
   "cell_type": "code",
   "execution_count": 23,
   "id": "11568965",
   "metadata": {},
   "outputs": [
    {
     "data": {
      "text/html": [
       "<div>\n",
       "<style scoped>\n",
       "    .dataframe tbody tr th:only-of-type {\n",
       "        vertical-align: middle;\n",
       "    }\n",
       "\n",
       "    .dataframe tbody tr th {\n",
       "        vertical-align: top;\n",
       "    }\n",
       "\n",
       "    .dataframe thead th {\n",
       "        text-align: right;\n",
       "    }\n",
       "</style>\n",
       "<table border=\"1\" class=\"dataframe\">\n",
       "  <thead>\n",
       "    <tr style=\"text-align: right;\">\n",
       "      <th></th>\n",
       "      <th>tweet_text</th>\n",
       "      <th>cleaned_tweet</th>\n",
       "    </tr>\n",
       "  </thead>\n",
       "  <tbody>\n",
       "    <tr>\n",
       "      <th>0</th>\n",
       "      <td>.@wesley83 I have a 3G iPhone. After 3 hrs twe...</td>\n",
       "      <td>g iphone hr tweeting rise austin dead need upg...</td>\n",
       "    </tr>\n",
       "    <tr>\n",
       "      <th>1</th>\n",
       "      <td>@jessedee Know about @fludapp ? Awesome iPad/i...</td>\n",
       "      <td>know awesome ipad iphone app likely appreciate...</td>\n",
       "    </tr>\n",
       "    <tr>\n",
       "      <th>2</th>\n",
       "      <td>@swonderlin Can not wait for #iPad 2 also. The...</td>\n",
       "      <td>wait ipad also sale sxsw</td>\n",
       "    </tr>\n",
       "    <tr>\n",
       "      <th>3</th>\n",
       "      <td>@sxsw I hope this year's festival isn't as cra...</td>\n",
       "      <td>hope year festival crashy year iphone app sxsw</td>\n",
       "    </tr>\n",
       "    <tr>\n",
       "      <th>4</th>\n",
       "      <td>@sxtxstate great stuff on Fri #SXSW: Marissa M...</td>\n",
       "      <td>great stuff fri sxsw marissa mayer google tim ...</td>\n",
       "    </tr>\n",
       "  </tbody>\n",
       "</table>\n",
       "</div>"
      ],
      "text/plain": [
       "                                          tweet_text  \\\n",
       "0  .@wesley83 I have a 3G iPhone. After 3 hrs twe...   \n",
       "1  @jessedee Know about @fludapp ? Awesome iPad/i...   \n",
       "2  @swonderlin Can not wait for #iPad 2 also. The...   \n",
       "3  @sxsw I hope this year's festival isn't as cra...   \n",
       "4  @sxtxstate great stuff on Fri #SXSW: Marissa M...   \n",
       "\n",
       "                                       cleaned_tweet  \n",
       "0  g iphone hr tweeting rise austin dead need upg...  \n",
       "1  know awesome ipad iphone app likely appreciate...  \n",
       "2                           wait ipad also sale sxsw  \n",
       "3     hope year festival crashy year iphone app sxsw  \n",
       "4  great stuff fri sxsw marissa mayer google tim ...  "
      ]
     },
     "execution_count": 23,
     "metadata": {},
     "output_type": "execute_result"
    }
   ],
   "source": [
    "# Apply the cleaning to the tweet_text column\n",
    "df['cleaned_tweet'] = df['tweet_text'].apply(clean_text)\n",
    "\n",
    "# Preview the cleaned tweets\n",
    "df[['tweet_text', 'cleaned_tweet']].head()"
   ]
  },
  {
   "cell_type": "code",
   "execution_count": 24,
   "id": "48092709",
   "metadata": {},
   "outputs": [
    {
     "name": "stdout",
     "output_type": "stream",
     "text": [
      "Empty tweets after cleaning: 1\n"
     ]
    }
   ],
   "source": [
    "# Check for empty tweets\n",
    "empty_tweets = (df['cleaned_tweet'].str.len() == 0).sum()\n",
    "print(f\"Empty tweets after cleaning: {empty_tweets}\")"
   ]
  },
  {
   "cell_type": "code",
   "execution_count": 25,
   "id": "e4599421",
   "metadata": {},
   "outputs": [
    {
     "name": "stdout",
     "output_type": "stream",
     "text": [
      "Empty tweets after cleaning: 0\n"
     ]
    }
   ],
   "source": [
    "# Remove empty tweets \n",
    "df = df[df['cleaned_tweet'].str.len() > 0].copy()\n",
    "\n",
    "# Verify removal of empty tweets\n",
    "print(f\"Empty tweets after cleaning: {(df['cleaned_tweet'].str.len() == 0).sum()}\")"
   ]
  },
  {
   "cell_type": "markdown",
   "id": "623d3d8e",
   "metadata": {},
   "source": [
    "### 3.4 Exploratory Data Analysis\n",
    "This step involves investigating a dataset to understand its main characteristics and uncover patterns."
   ]
  },
  {
   "cell_type": "markdown",
   "id": "da724b73",
   "metadata": {},
   "source": [
    "Data Visualization of Target variable"
   ]
  },
  {
   "cell_type": "code",
   "execution_count": 26,
   "id": "269fd251",
   "metadata": {},
   "outputs": [
    {
     "data": {
      "image/png": "[encoded data removed]",
      "text/plain": [
       "<Figure size 800x500 with 1 Axes>"
      ]
     },
     "metadata": {},
     "output_type": "display_data"
    }
   ],
   "source": [
    "# Data visualization of target variable\n",
    "plt.figure(figsize = (8, 5))\n",
    "sns.countplot(data = df, x = 'sentiments', order = ['positive', 'negative', 'neutral'], palette = 'viridis')\n",
    "plt.title('Distribution of Sentiment Categories')\n",
    "plt.xlabel('Sentiment')\n",
    "plt.ylabel('Count')\n",
    "plt.show();"
   ]
  },
  {
   "cell_type": "markdown",
   "id": "7a697e75",
   "metadata": {},
   "source": [
    "Most tweets are labeled as neutral, followed by positive with negative tweets being the least frequent. Positive sentiment is more than negative sentiment meaning there is class imbalance."
   ]
  },
  {
   "cell_type": "markdown",
   "id": "aa98823b",
   "metadata": {},
   "source": [
    "Data Visualization for Tweet Lengths"
   ]
  },
  {
   "cell_type": "code",
   "execution_count": 27,
   "id": "d12d7598",
   "metadata": {},
   "outputs": [
    {
     "name": "stdout",
     "output_type": "stream",
     "text": [
      "Average tweet length: 67.80 characters\n",
      "Average word count: 11.09 words\n",
      "Longest tweet: 131 characters\n",
      "Shortest tweet: 14 characters\n"
     ]
    }
   ],
   "source": [
    "# Text length analysis\n",
    "df['tweet_length'] = df['cleaned_tweet'].str.len()\n",
    "df['word_count'] = df['cleaned_tweet'].str.split().str.len()\n",
    "\n",
    "# Summary of text statistics\n",
    "print(f\"Average tweet length: {df['tweet_length'].mean():.2f} characters\")\n",
    "print(f\"Average word count: {df['word_count'].mean():.2f} words\")\n",
    "print(f\"Longest tweet: {df['tweet_length'].max()} characters\")\n",
    "print(f\"Shortest tweet: {df['tweet_length'].min()} characters\")"
   ]
  },
  {
   "cell_type": "code",
   "execution_count": 28,
   "id": "4d802adb",
   "metadata": {},
   "outputs": [
    {
     "data": {
      "image/png": "[encoded data removed]",
      "text/plain": [
       "<Figure size 1000x600 with 1 Axes>"
      ]
     },
     "metadata": {},
     "output_type": "display_data"
    }
   ],
   "source": [
    "# Tweet length distribution\n",
    "plt.figure(figsize = (10, 6))\n",
    "sns.histplot(df['tweet_length'], bins = 30, kde = True, color = 'blue')\n",
    "plt.title('Distribution of Tweet Lengths')\n",
    "plt.xlabel('Tweet Length')\n",
    "plt.ylabel('Frequency')\n",
    "plt.show();\n"
   ]
  },
  {
   "cell_type": "markdown",
   "id": "b356040a",
   "metadata": {},
   "source": [
    "The distribution of tweets lengths is slightly right-skewed, indicating that most tweets are moderately short(between 60 - 100 characters)\n",
    "\n",
    "This explains that twitter users often express opinions concisely but occasionally write longer posts when elaborating on product experiences."
   ]
  },
  {
   "cell_type": "markdown",
   "id": "deb739b0",
   "metadata": {},
   "source": [
    "Data Visualization for Brands"
   ]
  },
  {
   "cell_type": "code",
   "execution_count": 29,
   "id": "0cab6a0e",
   "metadata": {},
   "outputs": [
    {
     "data": {
      "image/png": "[encoded data removed]",
      "text/plain": [
       "<Figure size 1000x600 with 1 Axes>"
      ]
     },
     "metadata": {},
     "output_type": "display_data"
    }
   ],
   "source": [
    "# Brand category distribution\n",
    "plt.figure(figsize = (10, 6))\n",
    "sns.countplot(data = df, x = 'brand_category', order = df['brand_category'].value_counts().index, palette = 'magma')\n",
    "plt.title('Distribution of Brand Categories')\n",
    "plt.xlabel('Brand Category')\n",
    "plt.ylabel('Number of Tweets')\n",
    "plt.show();"
   ]
  },
  {
   "cell_type": "markdown",
   "id": "6e5034f8",
   "metadata": {},
   "source": [
    "Apple is mentioned more frequently than Google."
   ]
  },
  {
   "cell_type": "markdown",
   "id": "de9e589d",
   "metadata": {},
   "source": [
    "**Bivariate Analysis**"
   ]
  },
  {
   "cell_type": "markdown",
   "id": "ed32ed9c",
   "metadata": {},
   "source": [
    "Sentiments vs Brand category"
   ]
  },
  {
   "cell_type": "code",
   "execution_count": 30,
   "id": "52c53cae",
   "metadata": {},
   "outputs": [
    {
     "data": {
      "image/png": "[encoded data removed]",
      "text/plain": [
       "<Figure size 1000x600 with 1 Axes>"
      ]
     },
     "metadata": {},
     "output_type": "display_data"
    }
   ],
   "source": [
    "# Sentiment vs Brand Category\n",
    "plt.figure(figsize = (10, 6))\n",
    "sns.countplot(data = df, x = 'brand_category', hue = 'sentiments', order = df['brand_category'].value_counts().index, palette = 'Set2')\n",
    "plt.title('Sentiment Distribution Across Brand Categories')\n",
    "plt.xlabel('Brand Category')\n",
    "plt.ylabel('Count')\n",
    "plt.show()"
   ]
  },
  {
   "cell_type": "markdown",
   "id": "502d21ee",
   "metadata": {},
   "source": [
    "Apple has a higher count of positive tweets compared to Google."
   ]
  },
  {
   "cell_type": "markdown",
   "id": "fc38d211",
   "metadata": {},
   "source": [
    "Tweet length vs Sentiment"
   ]
  },
  {
   "cell_type": "code",
   "execution_count": 31,
   "id": "c815c112",
   "metadata": {},
   "outputs": [
    {
     "data": {
      "image/png": "[encoded data removed]",
      "text/plain": [
       "<Figure size 1000x600 with 1 Axes>"
      ]
     },
     "metadata": {},
     "output_type": "display_data"
    }
   ],
   "source": [
    "# Tweet length vs sentiment\n",
    "plt.figure(figsize = (10, 6))\n",
    "sns.boxplot(data = df, x = 'sentiments', y = 'tweet_length', palette = 'Set1')\n",
    "plt.title('Tweet Length Distribution by Sentiment')\n",
    "plt.xlabel('Sentiment')\n",
    "plt.ylabel('Tweet Length')\n",
    "plt.show()"
   ]
  },
  {
   "cell_type": "markdown",
   "id": "a6827207",
   "metadata": {},
   "source": [
    "The median tweet length is similar across sentiment categories.\n"
   ]
  },
  {
   "cell_type": "markdown",
   "id": "ac6ac052",
   "metadata": {},
   "source": [
    "Brand Category v Tweet length"
   ]
  },
  {
   "cell_type": "code",
   "execution_count": 32,
   "id": "01d65b15",
   "metadata": {},
   "outputs": [
    {
     "data": {
      "image/png": "[encoded data removed]",
      "text/plain": [
       "<Figure size 1000x600 with 1 Axes>"
      ]
     },
     "metadata": {},
     "output_type": "display_data"
    }
   ],
   "source": [
    "# Brand Category vs Tweet Length\n",
    "plt.figure(figsize = (10, 6))\n",
    "sns.boxplot(data = df, x = 'brand_category', y = 'tweet_length', palette = 'Set1')\n",
    "plt.title('Tweet Length Distribution by Brand Category')\n",
    "plt.xlabel('Brand Category')\n",
    "plt.ylabel('Tweet Length')\n",
    "plt.show()"
   ]
  },
  {
   "cell_type": "markdown",
   "id": "967dd14b",
   "metadata": {},
   "source": [
    "Google tweets have a higher median tweet length compared to Apple."
   ]
  },
  {
   "cell_type": "markdown",
   "id": "b2b00f1d",
   "metadata": {},
   "source": [
    "**Multivariate Analysis**"
   ]
  },
  {
   "cell_type": "code",
   "execution_count": 33,
   "id": "f4985afb",
   "metadata": {},
   "outputs": [
    {
     "data": {
      "image/png": "[encoded data removed]",
      "text/plain": [
       "<Figure size 1200x600 with 1 Axes>"
      ]
     },
     "metadata": {},
     "output_type": "display_data"
    }
   ],
   "source": [
    "plt.figure(figsize = (12, 6))\n",
    "sns.boxplot(data = df, x = 'brand_category', y = 'tweet_length', hue = 'sentiments', palette = 'Set2')\n",
    "plt.title('Tweet Length v Sentiment v Brand Category')\n",
    "plt.xlabel('Brand Category')\n",
    "plt.ylabel('Tweet Length')\n",
    "plt.legend(title = 'Sentiments', bbox_to_anchor=(1.05, 1), loc = 'upper left')\n",
    "plt.xticks(rotation = 45)\n",
    "plt.show()\n"
   ]
  },
  {
   "cell_type": "markdown",
   "id": "1d59cb98",
   "metadata": {},
   "source": [
    "Positive tweets about Apple tend to be slightly longer than negative or neutral ones.\n",
    "Google tweets show a similar pattern, but differences are minor."
   ]
  },
  {
   "cell_type": "markdown",
   "id": "c63443c8",
   "metadata": {},
   "source": [
    "### 3.5 Frequency Distribution\n",
    "Now that we've done some basic cleaning and tokenization, let's go ahead and create a Frequency Distributionto see the number of times each word is used."
   ]
  },
  {
   "cell_type": "code",
   "execution_count": 34,
   "id": "31f8ad5b",
   "metadata": {},
   "outputs": [
    {
     "data": {
      "text/plain": [
       "[('sxsw', 9641),\n",
       " ('link', 4308),\n",
       " ('ipad', 3007),\n",
       " ('google', 2655),\n",
       " ('apple', 2341),\n",
       " ('quot', 1696),\n",
       " ('iphone', 1592),\n",
       " ('store', 1529),\n",
       " ('new', 1084),\n",
       " ('austin', 974),\n",
       " ('amp', 829),\n",
       " ('app', 826),\n",
       " ('circle', 685),\n",
       " ('launch', 684),\n",
       " ('social', 663),\n",
       " ('pop', 599),\n",
       " ('android', 598),\n",
       " ('today', 577),\n",
       " ('network', 468),\n",
       " ('get', 457)]"
      ]
     },
     "execution_count": 34,
     "metadata": {},
     "output_type": "execute_result"
    }
   ],
   "source": [
    "# Frequency distribution of most common words in the dataset\n",
    "all_words = ' '.join(df['cleaned_tweet']).split()\n",
    "freq_dist = FreqDist(all_words)\n",
    "common_words = freq_dist.most_common(20)\n",
    "common_words"
   ]
  },
  {
   "cell_type": "markdown",
   "id": "10a6108a",
   "metadata": {},
   "source": [
    "Some words like 'sxsw', 'mention', 'link', 'rt', 'amp', 'quot' do not add meaning to our text so we add them to our stopwords list."
   ]
  },
  {
   "cell_type": "code",
   "execution_count": 35,
   "id": "1bde8860",
   "metadata": {},
   "outputs": [],
   "source": [
    "# Add additional stopwords\n",
    "additional_stopwords = ['sxsw', 'mention', 'link', 'rt', 'amp', 'quot']\n",
    "stopwordlist.extend(additional_stopwords)"
   ]
  },
  {
   "cell_type": "code",
   "execution_count": 36,
   "id": "8d818f88",
   "metadata": {},
   "outputs": [],
   "source": [
    "# Apply the function after updating the stopword list\n",
    "df['final_tweet'] = df['cleaned_tweet'].apply(clean_text)"
   ]
  },
  {
   "cell_type": "code",
   "execution_count": 37,
   "id": "2d45935a",
   "metadata": {},
   "outputs": [
    {
     "data": {
      "text/html": [
       "<div>\n",
       "<style scoped>\n",
       "    .dataframe tbody tr th:only-of-type {\n",
       "        vertical-align: middle;\n",
       "    }\n",
       "\n",
       "    .dataframe tbody tr th {\n",
       "        vertical-align: top;\n",
       "    }\n",
       "\n",
       "    .dataframe thead th {\n",
       "        text-align: right;\n",
       "    }\n",
       "</style>\n",
       "<table border=\"1\" class=\"dataframe\">\n",
       "  <thead>\n",
       "    <tr style=\"text-align: right;\">\n",
       "      <th></th>\n",
       "      <th>tweet_text</th>\n",
       "      <th>cleaned_tweet</th>\n",
       "      <th>final_tweet</th>\n",
       "    </tr>\n",
       "  </thead>\n",
       "  <tbody>\n",
       "    <tr>\n",
       "      <th>0</th>\n",
       "      <td>.@wesley83 I have a 3G iPhone. After 3 hrs twe...</td>\n",
       "      <td>g iphone hr tweeting rise austin dead need upg...</td>\n",
       "      <td>g iphone hr tweeting rise austin dead need upg...</td>\n",
       "    </tr>\n",
       "    <tr>\n",
       "      <th>1</th>\n",
       "      <td>@jessedee Know about @fludapp ? Awesome iPad/i...</td>\n",
       "      <td>know awesome ipad iphone app likely appreciate...</td>\n",
       "      <td>know awesome ipad iphone app likely appreciate...</td>\n",
       "    </tr>\n",
       "    <tr>\n",
       "      <th>2</th>\n",
       "      <td>@swonderlin Can not wait for #iPad 2 also. The...</td>\n",
       "      <td>wait ipad also sale sxsw</td>\n",
       "      <td>wait ipad also sale</td>\n",
       "    </tr>\n",
       "    <tr>\n",
       "      <th>3</th>\n",
       "      <td>@sxsw I hope this year's festival isn't as cra...</td>\n",
       "      <td>hope year festival crashy year iphone app sxsw</td>\n",
       "      <td>hope year festival crashy year iphone app</td>\n",
       "    </tr>\n",
       "    <tr>\n",
       "      <th>4</th>\n",
       "      <td>@sxtxstate great stuff on Fri #SXSW: Marissa M...</td>\n",
       "      <td>great stuff fri sxsw marissa mayer google tim ...</td>\n",
       "      <td>great stuff fri marissa mayer google tim reill...</td>\n",
       "    </tr>\n",
       "  </tbody>\n",
       "</table>\n",
       "</div>"
      ],
      "text/plain": [
       "                                          tweet_text  \\\n",
       "0  .@wesley83 I have a 3G iPhone. After 3 hrs twe...   \n",
       "1  @jessedee Know about @fludapp ? Awesome iPad/i...   \n",
       "2  @swonderlin Can not wait for #iPad 2 also. The...   \n",
       "3  @sxsw I hope this year's festival isn't as cra...   \n",
       "4  @sxtxstate great stuff on Fri #SXSW: Marissa M...   \n",
       "\n",
       "                                       cleaned_tweet  \\\n",
       "0  g iphone hr tweeting rise austin dead need upg...   \n",
       "1  know awesome ipad iphone app likely appreciate...   \n",
       "2                           wait ipad also sale sxsw   \n",
       "3     hope year festival crashy year iphone app sxsw   \n",
       "4  great stuff fri sxsw marissa mayer google tim ...   \n",
       "\n",
       "                                         final_tweet  \n",
       "0  g iphone hr tweeting rise austin dead need upg...  \n",
       "1  know awesome ipad iphone app likely appreciate...  \n",
       "2                                wait ipad also sale  \n",
       "3          hope year festival crashy year iphone app  \n",
       "4  great stuff fri marissa mayer google tim reill...  "
      ]
     },
     "execution_count": 37,
     "metadata": {},
     "output_type": "execute_result"
    }
   ],
   "source": [
    "# Confirm the changes\n",
    "df[['tweet_text', 'cleaned_tweet', 'final_tweet']].head()"
   ]
  },
  {
   "cell_type": "code",
   "execution_count": 38,
   "id": "3b229263",
   "metadata": {},
   "outputs": [
    {
     "data": {
      "text/plain": [
       "[('ipad', 3007),\n",
       " ('google', 2655),\n",
       " ('apple', 2341),\n",
       " ('iphone', 1592),\n",
       " ('store', 1529),\n",
       " ('new', 1084),\n",
       " ('austin', 974),\n",
       " ('app', 826),\n",
       " ('circle', 685),\n",
       " ('launch', 684),\n",
       " ('social', 663),\n",
       " ('pop', 599),\n",
       " ('android', 598),\n",
       " ('today', 577),\n",
       " ('network', 468),\n",
       " ('get', 457),\n",
       " ('line', 450),\n",
       " ('via', 436),\n",
       " ('party', 401),\n",
       " ('free', 390)]"
      ]
     },
     "execution_count": 38,
     "metadata": {},
     "output_type": "execute_result"
    }
   ],
   "source": [
    "# Combining\n",
    "all_words = ' '.join(df['final_tweet']).split()\n",
    "all_words_freqdist = FreqDist(all_words)\n",
    "all_words_freqdist.most_common(20)"
   ]
  }
 ],
 "metadata": {
  "kernelspec": {
   "display_name": "Python 3.11 (py311-env)",
   "language": "python",
   "name": "py311-env"
  },
  "language_info": {
   "codemirror_mode": {
    "name": "ipython",
    "version": 3
   },
   "file_extension": ".py",
   "mimetype": "text/x-python",
   "name": "python",
   "nbconvert_exporter": "python",
   "pygments_lexer": "ipython3",
   "version": "3.11.13"
  }
 },
 "nbformat": 4,
 "nbformat_minor": 5
}
