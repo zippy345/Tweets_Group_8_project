{
 "cells": [
  {
   "cell_type": "markdown",
   "id": "e40475d3-150f-4ce5-b542-4b592646a0c1",
   "metadata": {},
   "source": [
    "# 🐦💬 **PUBLIC SENTIMENTAL ANALYSIS OF TWEETS ABOUT APPLE AND GOOGLE PRODUCTS USING `NLP`**  \n",
    "\n",
    "## **Business Understanding**\n",
    "###  Business overview:\n",
    "A *Tweet* is a short  message shared by users on  **Twitter**(*now known as X*) expressing their opinions, experiences, or reactions towards  events, products, and brands. Tweets can include  texts, images, videos, and links.\n",
    "In this project, we focus on analysing tweets about `APPLE` and `GOOGLE` products. The dataset, provided by **Crowdflower via Data.world**, contains over 9000 tweets labeled by human raters as positive, negative, or neutral in sentiment. The primary objective of this project is to  develop a Natural Language Processing model  that can automatically identify tweets based on their text. \n",
    "\n",
    "## **Stake Holders**\n",
    "* APPLE and GOOGLE Management Team\n",
    "\n",
    "## **Problem Statement**\n",
    "* Users frequently share their views and experiences about Apple and Google products on Twitter. However, the massive volume of tweets makes it challenging to assess the general public sentiment manually. A system that can automatically detect whether a tweet is positive, negative, or neutral would make this process easier and faster.\n",
    "\n",
    "## **Business Objectives**\n",
    "### Main Objective: \n",
    "*  The main goal of this project is to build an `NLP` model that can rate the sentiment of a Tweet based on its content.\n",
    "\n",
    "### Specific objectives:\n",
    "1. To compare the distribution of positive  and negative sentiments in tweets about Apple and Google products.\n",
    "2. To build and refine an NLP sentiment model, beginning with binary classification and later expanding to Multiclass, evaluated using appropriate performance metrics.\n",
    "3. To evaluate the model’s predictions and interpret sentiment trends to draw meaningful business insights.\n",
    "\n",
    "\n",
    "## **Reasearch Questions**\n",
    "1. Which of these two companies, Apple or Google, receives more positive or negative sentiment in tweets?\n",
    "2. How does expanding a sentiment model from binary to multiclass classification affect its accuracy and ability to capture real public sentiment?\n",
    "3. How accurately can the model predict tweet sentiments, and what do the results reveal about public perceptions of Apple and Google products?\n",
    "\n",
    "\n",
    "## **Project Goals**\n",
    "* To develop an effective Natural Language Processing (NLP) model capable of automatically determining the sentiment expressed in tweets about Apple and Google products.\n",
    "* To analyze and interpret public sentiment trends toward Apple and Google to provide meaningful insights that can support brand perception and marketing decisions.\n",
    "\n",
    "\n",
    "## **Success Criteria**\n",
    "* Model performance: The NLP model achieves a high level of accuracy and reliability in classifying tweet sentiments (positive, negative, and neutral)\n",
    "* Actionable insight: The analysis provides clear, data-driven insights into public perceptions of Apple and Google products.\n",
    "\n"
   ]
  },
  {
   "cell_type": "markdown",
   "id": "460c0eac-04c0-44e7-9d1c-3a0c10794260",
   "metadata": {},
   "source": [
    "## **Data Understanding**\n",
    "### Data source and Description:\n",
    "* **source**: This data is  from CrowdFlower. It is publicly available for use in data science projects. For more information about the data, follow this publicly hosted link[data.world](https://data.world/crowdflower)\n",
    "*  **Description**:  The dataset  contains Twitter tweets  from users about Apple and Google products. It includes 3 features and 9093 records. Our target is to predict the sentiment (positive, negative, or neutral) based on the text in each tweet.\n",
    "\n",
    "| **Feature Name**                                       | **Description**                                                                                                                                                          |\n",
    "| ------------------------------------------------------ | ------------------------------------------------------------------------------------------------------------------------------------------------------------------------ |\n",
    "| **tweet_text**                                         | The actual content of the tweet as written by the user. This serves as the main input                                                               for Natural Language Processing (NLP) to determine the expressed sentiment.        |\n",
    "| **is_there_an_emotion_directed_at_a_brand_or_product** | The target variable indicating whether a tweet expresses a positive, negative, or                                                                  neutral emotion toward a brand or product.                                             |\n",
    "| **emotion_in_tweet_is_directed_at**                    | Specifies the brand, company, or product that the emotion is directed at (e.g., *Apple,                                                             Google, iPhone, Android*). This helps in comparing sentiment between brands.     |                                             |\n",
    "\n",
    "\n",
    "  "
   ]
  },
  {
   "cell_type": "markdown",
   "id": "5d35686d-6768-4b29-898b-b6cf99bf77dc",
   "metadata": {},
   "source": [
    "## Data Loading and Exploration \n",
    "###  Import neccessary libraries for the project:\n"
   ]
  },
  {
   "cell_type": "code",
   "execution_count": 4,
   "id": "d5def5bd-3dae-49d8-91d9-f159c87a23f0",
   "metadata": {},
   "outputs": [],
   "source": [
    "# Imports \n",
    "import pandas as pd\n",
    "import matplotlib.pyplot as plt\n",
    "import seaborn as sns\n",
    "import nltk # natural language toolkit\n",
    "import re # regular expressions\n",
    "import string\n",
    "from nltk.corpus import stopwords\n",
    "from nltk.tokenize import word_tokenize, RegexpTokenizer\n",
    "from nltk.stem import PorterStemmer, WordNetLemmatizer\n",
    "from nltk import FreqDist\n",
    "from sklearn.feature_extraction.text import CountVectorizer\n",
    "\n",
    "%matplotlib inline \n",
    "import warnings\n",
    "warnings.filterwarnings('ignore')"
   ]
  },
  {
   "cell_type": "code",
   "execution_count": 5,
   "id": "15d5301e-0c50-4f76-9801-ff5b95f5c532",
   "metadata": {},
   "outputs": [
    {
     "name": "stderr",
     "output_type": "stream",
     "text": [
      "[nltk_data] Downloading package punkt to\n",
      "[nltk_data]     C:\\Users\\Admin\\AppData\\Roaming\\nltk_data...\n",
      "[nltk_data]   Package punkt is already up-to-date!\n",
      "[nltk_data] Downloading package punkt_tab to\n",
      "[nltk_data]     C:\\Users\\Admin\\AppData\\Roaming\\nltk_data...\n",
      "[nltk_data]   Package punkt_tab is already up-to-date!\n",
      "[nltk_data] Downloading package stopwords to\n",
      "[nltk_data]     C:\\Users\\Admin\\AppData\\Roaming\\nltk_data...\n",
      "[nltk_data]   Package stopwords is already up-to-date!\n",
      "[nltk_data] Downloading package wordnet to\n",
      "[nltk_data]     C:\\Users\\Admin\\AppData\\Roaming\\nltk_data...\n",
      "[nltk_data]   Package wordnet is already up-to-date!\n",
      "[nltk_data] Downloading package omw-1.4 to\n",
      "[nltk_data]     C:\\Users\\Admin\\AppData\\Roaming\\nltk_data...\n",
      "[nltk_data]   Package omw-1.4 is already up-to-date!\n"
     ]
    },
    {
     "data": {
      "text/plain": [
       "True"
      ]
     },
     "execution_count": 5,
     "metadata": {},
     "output_type": "execute_result"
    }
   ],
   "source": [
    "# NlTK necessary tools \n",
    "nltk.download('punkt')\n",
    "nltk.download(\"punkt_tab\")\n",
    "nltk.download('stopwords') \n",
    "nltk.download('wordnet')\n",
    "nltk.download('omw-1.4') "
   ]
  },
  {
   "cell_type": "markdown",
   "id": "b132f414-9c93-41cc-ad20-2f6e0962594e",
   "metadata": {},
   "source": [
    " Downloading  NLTK data resources later to use later: tokenizers, stopwords, WordNet lemmatizer resources, and the Gutenberg corpus.\n",
    "\n",
    "* punkt — required by word_tokenize.\n",
    "\n",
    "* stopwords — provides the English stopword list.\n",
    "\n",
    "* wordnet & omw-1.4 — needed for WordNetLemmatizer."
   ]
  },
  {
   "cell_type": "markdown",
   "id": "a3facfa8-d35e-4874-b536-0727aa97e866",
   "metadata": {},
   "source": [
    "## Data Exploration "
   ]
  },
  {
   "cell_type": "code",
   "execution_count": 8,
   "id": "f9290185-ba36-4917-9b14-1a0656c525ee",
   "metadata": {},
   "outputs": [
    {
     "data": {
      "text/html": [
       "<div>\n",
       "<style scoped>\n",
       "    .dataframe tbody tr th:only-of-type {\n",
       "        vertical-align: middle;\n",
       "    }\n",
       "\n",
       "    .dataframe tbody tr th {\n",
       "        vertical-align: top;\n",
       "    }\n",
       "\n",
       "    .dataframe thead th {\n",
       "        text-align: right;\n",
       "    }\n",
       "</style>\n",
       "<table border=\"1\" class=\"dataframe\">\n",
       "  <thead>\n",
       "    <tr style=\"text-align: right;\">\n",
       "      <th></th>\n",
       "      <th>tweet_text</th>\n",
       "      <th>emotion_in_tweet_is_directed_at</th>\n",
       "      <th>is_there_an_emotion_directed_at_a_brand_or_product</th>\n",
       "    </tr>\n",
       "  </thead>\n",
       "  <tbody>\n",
       "    <tr>\n",
       "      <th>0</th>\n",
       "      <td>.@wesley83 I have a 3G iPhone. After 3 hrs twe...</td>\n",
       "      <td>iPhone</td>\n",
       "      <td>Negative emotion</td>\n",
       "    </tr>\n",
       "    <tr>\n",
       "      <th>1</th>\n",
       "      <td>@jessedee Know about @fludapp ? Awesome iPad/i...</td>\n",
       "      <td>iPad or iPhone App</td>\n",
       "      <td>Positive emotion</td>\n",
       "    </tr>\n",
       "    <tr>\n",
       "      <th>2</th>\n",
       "      <td>@swonderlin Can not wait for #iPad 2 also. The...</td>\n",
       "      <td>iPad</td>\n",
       "      <td>Positive emotion</td>\n",
       "    </tr>\n",
       "    <tr>\n",
       "      <th>3</th>\n",
       "      <td>@sxsw I hope this year's festival isn't as cra...</td>\n",
       "      <td>iPad or iPhone App</td>\n",
       "      <td>Negative emotion</td>\n",
       "    </tr>\n",
       "    <tr>\n",
       "      <th>4</th>\n",
       "      <td>@sxtxstate great stuff on Fri #SXSW: Marissa M...</td>\n",
       "      <td>Google</td>\n",
       "      <td>Positive emotion</td>\n",
       "    </tr>\n",
       "  </tbody>\n",
       "</table>\n",
       "</div>"
      ],
      "text/plain": [
       "                                          tweet_text  \\\n",
       "0  .@wesley83 I have a 3G iPhone. After 3 hrs twe...   \n",
       "1  @jessedee Know about @fludapp ? Awesome iPad/i...   \n",
       "2  @swonderlin Can not wait for #iPad 2 also. The...   \n",
       "3  @sxsw I hope this year's festival isn't as cra...   \n",
       "4  @sxtxstate great stuff on Fri #SXSW: Marissa M...   \n",
       "\n",
       "  emotion_in_tweet_is_directed_at  \\\n",
       "0                          iPhone   \n",
       "1              iPad or iPhone App   \n",
       "2                            iPad   \n",
       "3              iPad or iPhone App   \n",
       "4                          Google   \n",
       "\n",
       "  is_there_an_emotion_directed_at_a_brand_or_product  \n",
       "0                                   Negative emotion  \n",
       "1                                   Positive emotion  \n",
       "2                                   Positive emotion  \n",
       "3                                   Negative emotion  \n",
       "4                                   Positive emotion  "
      ]
     },
     "execution_count": 8,
     "metadata": {},
     "output_type": "execute_result"
    }
   ],
   "source": [
    "# Loading the dataset\n",
    "Tweets_df = pd.read_csv(\"judge-1377884607_tweet_product_company.csv\", encoding = 'latin' )\n",
    "Tweets_df.head()"
   ]
  },
  {
   "cell_type": "markdown",
   "id": "8f9c1a0b-4d6c-4b84-9616-73be338ead86",
   "metadata": {},
   "source": [
    "### Data exploring class"
   ]
  },
  {
   "cell_type": "code",
   "execution_count": 10,
   "id": "4fa4302d-b8ee-4139-8745-15ca2a84aec8",
   "metadata": {},
   "outputs": [],
   "source": [
    "class Data_exploring:\n",
    "    # A class for exploring and understanding a preloaded tweet dataset.\n",
    "    \n",
    "    def __init__(self, Tweets_df: pd.DataFrame):\n",
    "        # This initializes the dataframe.\n",
    "        self.df = Tweets_df\n",
    "        \n",
    "    def data_overview(self):\n",
    "        # Brings and info / basic summary of the dataset.\n",
    "        print(\"Tweets_df basic overview\")\n",
    "        print(self.df.info())\n",
    "        \n",
    "    def Missing_value_check(self):\n",
    "        # Check for missing values in the data.\n",
    "        print(\"Missing values summary\")\n",
    "        print(self.df.isnull().sum())\n",
    "        \n",
    "    def Duplicated_values_check(self):\n",
    "        # Checks for duplicated values in the dataset.\n",
    "        print(\"Duplicated values summary\")\n",
    "        print(self.df.duplicated().sum())\n",
    "        \n",
    "    def sentiment_distribution(self):\n",
    "        # Analyzes and visualizes the distribution of sentiments.\n",
    "        sentiment_col = 'is_there_an_emotion_directed_at_a_brand_or_product'\n",
    "        \n",
    "        if sentiment_col in self.df.columns:\n",
    "            print('Sentiment column counts')\n",
    "            print(self.df[sentiment_col].value_counts())\n",
    "            \n",
    "            # Visualization\n",
    "            plt.figure(figsize=(7, 5))\n",
    "            sns.countplot(\n",
    "                y=sentiment_col,\n",
    "                data=self.df,\n",
    "                order=self.df[sentiment_col].value_counts().index,\n",
    "                palette=\"viridis\"\n",
    "            )\n",
    "            plt.title(\"Distribution of Tweet Sentiments\")\n",
    "            plt.xlabel(\"Count\")\n",
    "            plt.ylabel(\"Sentiment Type\")\n",
    "            plt.show()\n",
    "        else:\n",
    "            print(f\"Column '{sentiment_col}' not found in dataset.\")\n"
   ]
  },
  {
   "cell_type": "code",
   "execution_count": 11,
   "id": "90bc75c3-1069-49c4-97d6-8d496507bcc1",
   "metadata": {},
   "outputs": [
    {
     "data": {
      "text/plain": [
       "<__main__.Data_exploring at 0x2132b336c00>"
      ]
     },
     "execution_count": 11,
     "metadata": {},
     "output_type": "execute_result"
    }
   ],
   "source": [
    "EDA = Data_exploring(Tweets_df)\n",
    "EDA"
   ]
  },
  {
   "cell_type": "code",
   "execution_count": 12,
   "id": "7cb6cdad-6b41-4f1b-983e-7a2cd6191594",
   "metadata": {},
   "outputs": [
    {
     "name": "stdout",
     "output_type": "stream",
     "text": [
      "Tweets_df basic overview\n",
      "<class 'pandas.core.frame.DataFrame'>\n",
      "RangeIndex: 9093 entries, 0 to 9092\n",
      "Data columns (total 3 columns):\n",
      " #   Column                                              Non-Null Count  Dtype \n",
      "---  ------                                              --------------  ----- \n",
      " 0   tweet_text                                          9092 non-null   object\n",
      " 1   emotion_in_tweet_is_directed_at                     3291 non-null   object\n",
      " 2   is_there_an_emotion_directed_at_a_brand_or_product  9093 non-null   object\n",
      "dtypes: object(3)\n",
      "memory usage: 213.2+ KB\n",
      "None\n"
     ]
    }
   ],
   "source": [
    "EDA.data_overview()"
   ]
  },
  {
   "cell_type": "code",
   "execution_count": 13,
   "id": "b3563908-fd95-40e2-830d-e9328f60a7d1",
   "metadata": {},
   "outputs": [
    {
     "name": "stdout",
     "output_type": "stream",
     "text": [
      "Missing values summary\n",
      "tweet_text                                               1\n",
      "emotion_in_tweet_is_directed_at                       5802\n",
      "is_there_an_emotion_directed_at_a_brand_or_product       0\n",
      "dtype: int64\n"
     ]
    }
   ],
   "source": [
    "EDA.Missing_value_check()"
   ]
  },
  {
   "cell_type": "code",
   "execution_count": 14,
   "id": "09f075e5-93b8-4778-a67c-09c87e0da75b",
   "metadata": {},
   "outputs": [
    {
     "name": "stdout",
     "output_type": "stream",
     "text": [
      "Duplicated values summary\n",
      "22\n"
     ]
    }
   ],
   "source": [
    "EDA.Duplicated_values_check()"
   ]
  },
  {
   "cell_type": "code",
   "execution_count": 15,
   "id": "fb08719a-8ceb-49ed-98be-5a0688ca45e6",
   "metadata": {},
   "outputs": [
    {
     "name": "stdout",
     "output_type": "stream",
     "text": [
      "Sentiment column counts\n",
      "is_there_an_emotion_directed_at_a_brand_or_product\n",
      "No emotion toward brand or product    5389\n",
      "Positive emotion                      2978\n",
      "Negative emotion                       570\n",
      "I can't tell                           156\n",
      "Name: count, dtype: int64\n"
     ]
    },
    {
     "data": {
      "image/png": "[encoded data removed]",
      "text/plain": [
       "<Figure size 700x500 with 1 Axes>"
      ]
     },
     "metadata": {},
     "output_type": "display_data"
    }
   ],
   "source": [
    "EDA.sentiment_distribution()"
   ]
  },
  {
   "cell_type": "markdown",
   "id": "15abf3e1-b276-4a6d-b5fa-0f272928e877",
   "metadata": {},
   "source": [
    "* The data sets nedds further cleaning since, it has  22(duplicates), the `emotion_in_tweet_is_directed_at` columns as 5802 missing values and the`tweet_text` test has 1 missing value.\n",
    "*  So far, the data cannot be used for modelling since it's not ready. Let's implement the cleaning and preprocessing methods for it to be fit for modelling. "
   ]
  },
  {
   "cell_type": "markdown",
   "id": "0dc164e4-7ae2-4233-a614-790d0687f379",
   "metadata": {},
   "source": [
    "## Data Cleaning and preprocessing."
   ]
  },
  {
   "cell_type": "markdown",
   "id": "a0b4149a-17e1-44e5-83e4-5261d8252f32",
   "metadata": {},
   "source": [
    "### Data cleaning class and preprocessing class"
   ]
  },
  {
   "cell_type": "code",
   "execution_count": 19,
   "id": "9d57936e-dc48-433d-bfbd-882d89283bac",
   "metadata": {},
   "outputs": [],
   "source": [
    "class Data_cleaning_and_preprocessing:\n",
    "    \n",
    "    def __init__(self, Tweets_df:pd.DataFrame, text_column: str, brand_column:str = None, sentiment_column:str =None):\n",
    "        # Initializes the dataframe \n",
    "        \n",
    "        self.df = Tweets_df.copy()\n",
    "        self.text_column = text_column\n",
    "        self.brand_column = brand_column\n",
    "        self.sentiment_column = sentiment_column\n",
    "        self.lemmatizer = WordNetLemmatizer()\n",
    "        self.stop_words = set(stopwords.words(\"english\"))\n",
    "\n",
    "    # -------------Basic cleaning-------------------\n",
    "    def remove_duplicates(self):\n",
    "        # removes the duplicates from the dataset\n",
    "        \n",
    "        self.df.drop_duplicates(inplace = True)\n",
    "        print(\"After duplicates removal\")\n",
    "        print(self.df.duplicated().any())\n",
    "        \n",
    "    def handling_missing_values(self, text_column, sec_column = None):\n",
    "        # fills and drops the subset of columns \n",
    "        before = len(self.df)\n",
    "        \n",
    "        # Drop the row with a missing value on the tweet text col\n",
    "        self.df = self.df.dropna(subset=[text_column])\n",
    "        \n",
    "        # this fills the column of emotion_in_tweet_is_directed_at with 'unkonwn'\n",
    "        if sec_column:\n",
    "            missing_before = self.df[sec_column].isna().sum()\n",
    "            self.df[sec_column] = self.df[sec_column].fillna(\"Unknown\")\n",
    "            missing_after = self.df[sec_column].isna().sum()\n",
    "        after = len(self.df)\n",
    "        print(\"Remaining missing values summary:\")\n",
    "        print(self.df.isnull().sum().any())\n",
    "        \n",
    "        #-------------------Text preprocessing---------------\n",
    "    def Clean_text(self, text_column):\n",
    "        # this cleans by lowercasing words and removing non-word items from the  tweets_text_cl\n",
    "        \n",
    "        def clean(tweet):\n",
    "            tweet = tweet.lower().strip()                          # Lowercase\n",
    "            tweet = re.sub(r\"http\\S+|www\\S+|https\\S+\", '', tweet)  # URLs\n",
    "            tweet = re.sub(r\"@\\w+\", '', tweet)                     # Mentions\n",
    "            tweet = re.sub(r\"#\", '', tweet)                        # Hashtags\n",
    "            tweet = re.sub(r\"[^A-Za-z\\s]\", '', tweet)              # Non-alphabetic char\n",
    "            return tweet\n",
    "        \n",
    "        self.df[text_column] = self.df[text_column].apply(clean)\n",
    "        print(\"Cleaning text complete...\")\n",
    "        \n",
    "        # example  with no  non-word items\n",
    "        print(\"Example of cleaned text (index 0):\")\n",
    "        print(self.df[text_column].iloc[0])\n",
    "        \n",
    "        \n",
    "    def tokenize_text(self):\n",
    "        # separates words in text_col\n",
    "        \n",
    "        print(\"Tokenizing tweets...\")\n",
    "        self.df['tokens'] = self.df[self.text_column].apply(lambda x: word_tokenize(x))\n",
    "        print(\"Tokenization complete.\")\n",
    "        \n",
    "        # example  of tokenized texts\n",
    "        print(\"Example of tokenized text (index 0):\")\n",
    "        print(self.df['tokens'].iloc[0])\n",
    "        \n",
    "    def remove_stopwords(self):\n",
    "        # Remove English stopwords from tokenized text.\n",
    "        \n",
    "        print(\"Removing stopwords...\")\n",
    "        # count before \n",
    "        before = self.df['tokens'].apply(len).sum()\n",
    "        \n",
    "        self.df['tokens'] = self.df['tokens'].apply(\n",
    "            lambda x: [word for word in x if word.isalpha() and word not in self.stop_words]\n",
    "        )\n",
    "        print(\"Stopword removal complete.\")\n",
    "        \n",
    "        #count after stop word removal\n",
    "        after = self.df['tokens'].apply(len).sum()\n",
    "        \n",
    "        # calculate words removed \n",
    "        removed_words = before - after\n",
    "        print(f\"Total tokens before: {before:,}\")\n",
    "        print(f\"Total tokens after: {after:,}\")\n",
    "        print(f\"Tokens removed: {removed_words:,}\")\n",
    "        \n",
    "    def lemmatize_tokens(self):\n",
    "        # Lemmatize each word in the tokenized text.\n",
    "        \n",
    "        print(\"Lemmatizing tokens...\")\n",
    "        self.df['tokens'] = self.df['tokens'].apply(\n",
    "            lambda x: [self.lemmatizer.lemmatize(word) for word in x]\n",
    "        )\n",
    "        print(\"Lemmatization complete.\")\n",
    "        \n",
    "        # example  of lemmatized  tokens\n",
    "        print(\"Example of lemmatized tokens (index 0):\")\n",
    "        print(self.df['tokens'].iloc[0])\n",
    "        \n",
    "    # ------------ a bit of visuals------------------\n",
    "    def plot_tweet_length_distribution(self):\n",
    "        # Plot the distribution of tweet lengths.\n",
    "        \n",
    "        self.df['tweet_length'] = self.df[self.text_column].apply(lambda x: len(x))\n",
    "        plt.figure(figsize=(11, 7))\n",
    "        sns.histplot(self.df['tweet_length'], bins=30, kde = True, color = 'blue')\n",
    "        plt.title(\"Distribution of Tweet Lengths (with Kde)\")\n",
    "        plt.xlabel(\"Tweet Length (characters)\")\n",
    "        plt.ylabel(\"Frequency\")\n",
    "        plt.show()\n",
    "\n",
    "    def plot_word_frequency(self, top_n=15):\n",
    "        # Plot the most frequent words after preprocessing.\n",
    "        \n",
    "        all_words = [word for tokens in self.df['tokens'] for word in tokens]\n",
    "        common_words = Counter(all_words).most_common(top_n)\n",
    "        freq_df = pd.DataFrame(common_words, columns=['Word', 'Frequency'])\n",
    "        plt.figure(figsize=(11, 6))\n",
    "        sns.barplot(data=freq_df, x='Frequency', y='Word', palette='mako')\n",
    "        plt.title(f\"Top {top_n} Most Frequent Words\")\n",
    "        plt.show()\n",
    "\n",
    "    \n",
    "    def get_processed_data(self):\n",
    "        # Return the preprocessed DataFrame.\n",
    "        \n",
    "        return self.df"
   ]
  },
  {
   "cell_type": "code",
   "execution_count": 20,
   "id": "11d7add9-711f-46db-8504-8147f97f563a",
   "metadata": {},
   "outputs": [],
   "source": [
    "# set the class in use \n",
    "cleaner = Data_cleaning_and_preprocessing(\n",
    "    Tweets_df= Tweets_df,\n",
    "    text_column='tweet_text',\n",
    "    brand_column='emotion_in_tweet_is_directed_at',\n",
    "    sentiment_column='is_there_an_emotion_directed_at_a_brand_or_product'\n",
    ")\n"
   ]
  },
  {
   "cell_type": "code",
   "execution_count": 21,
   "id": "ffb2fe90-ad1f-4844-aa31-0377ca1f1929",
   "metadata": {},
   "outputs": [
    {
     "name": "stdout",
     "output_type": "stream",
     "text": [
      "After duplicates removal\n",
      "False\n"
     ]
    }
   ],
   "source": [
    "# handling duplicates\n",
    "cleaner.remove_duplicates()"
   ]
  },
  {
   "cell_type": "code",
   "execution_count": 22,
   "id": "41c47144-00fd-43c9-bf69-f78c6d6defbb",
   "metadata": {},
   "outputs": [
    {
     "name": "stdout",
     "output_type": "stream",
     "text": [
      "Remaining missing values summary:\n",
      "False\n"
     ]
    }
   ],
   "source": [
    "# handling missing val\n",
    "cleaner.handling_missing_values(text_column='tweet_text', sec_column='emotion_in_tweet_is_directed_at')\n"
   ]
  },
  {
   "cell_type": "code",
   "execution_count": 23,
   "id": "33d5c7ed-d36f-4b17-8ac5-d826bb3de14f",
   "metadata": {},
   "outputs": [
    {
     "name": "stdout",
     "output_type": "stream",
     "text": [
      "Cleaning text complete...\n",
      "Example of cleaned text (index 0):\n",
      " i have a g iphone after  hrs tweeting at riseaustin it was dead  i need to upgrade plugin stations at sxsw\n"
     ]
    }
   ],
   "source": [
    "# make the texts lowercase and remove non-words\n",
    "cleaner.Clean_text(\"tweet_text\")\n"
   ]
  },
  {
   "cell_type": "code",
   "execution_count": 24,
   "id": "097df0fe-b212-4ed8-8e63-c8fe042a7435",
   "metadata": {},
   "outputs": [
    {
     "name": "stdout",
     "output_type": "stream",
     "text": [
      "Tokenizing tweets...\n",
      "Tokenization complete.\n",
      "Example of tokenized text (index 0):\n",
      "['i', 'have', 'a', 'g', 'iphone', 'after', 'hrs', 'tweeting', 'at', 'riseaustin', 'it', 'was', 'dead', 'i', 'need', 'to', 'upgrade', 'plugin', 'stations', 'at', 'sxsw']\n"
     ]
    }
   ],
   "source": [
    "# Tokenize the data\n",
    "cleaner.tokenize_text()\n"
   ]
  },
  {
   "cell_type": "code",
   "execution_count": 25,
   "id": "b5e305a8-5047-4f1e-8635-c1f1a7ce8d00",
   "metadata": {},
   "outputs": [
    {
     "name": "stdout",
     "output_type": "stream",
     "text": [
      "Removing stopwords...\n",
      "Stopword removal complete.\n",
      "Total tokens before: 149,603\n",
      "Total tokens after: 102,175\n",
      "Tokens removed: 47,428\n"
     ]
    }
   ],
   "source": [
    "# remove stop words \n",
    "cleaner.remove_stopwords()\n"
   ]
  },
  {
   "cell_type": "code",
   "execution_count": 26,
   "id": "ab200a81-4add-4bb7-a89b-abb9ba690c63",
   "metadata": {},
   "outputs": [
    {
     "name": "stdout",
     "output_type": "stream",
     "text": [
      "Lemmatizing tokens...\n",
      "Lemmatization complete.\n",
      "Example of lemmatized tokens (index 0):\n",
      "['g', 'iphone', 'hr', 'tweeting', 'riseaustin', 'dead', 'need', 'upgrade', 'plugin', 'station', 'sxsw']\n"
     ]
    }
   ],
   "source": [
    "# lemmatize  the tokens\n",
    "cleaner.lemmatize_tokens()"
   ]
  },
  {
   "cell_type": "markdown",
   "id": "46f8622d-aabe-4057-9de1-bbe57aea52a5",
   "metadata": {},
   "source": [
    "## Visualizations\n",
    "\n",
    "\n",
    "### Bivariate and Multivariate analysis mostly in action"
   ]
  },
  {
   "cell_type": "code",
   "execution_count": 28,
   "id": "68a33669-5985-46af-8f7b-1e53f7a32c93",
   "metadata": {},
   "outputs": [
    {
     "data": {
      "image/png": "[encoded data removed]",
      "text/plain": [
       "<Figure size 1100x700 with 1 Axes>"
      ]
     },
     "metadata": {},
     "output_type": "display_data"
    }
   ],
   "source": [
    "# A hist plot showing the length of the tweets.\n",
    "cleaner.plot_tweet_length_distribution()"
   ]
  },
  {
   "cell_type": "markdown",
   "id": "7828acaf-d873-4de1-af7c-e99fe13b30cb",
   "metadata": {},
   "source": [
    "* The distribution of tweets lengths is slightly right-skewed, indicating that most tweets are moderately short(between 80 - 120 characters)\n",
    "* This explains that twitter users  often express opinions concisely but occasionally write longer posts when elaborating on product experiences.\n"
   ]
  },
  {
   "cell_type": "code",
   "execution_count": 30,
   "id": "08bbb0e3-3510-4231-abd6-26b3da211475",
   "metadata": {},
   "outputs": [
    {
     "data": {
      "image/png": "[encoded data removed]",
      "text/plain": [
       "<Figure size 1100x600 with 1 Axes>"
      ]
     },
     "metadata": {},
     "output_type": "display_data"
    }
   ],
   "source": [
    "from collections import Counter\n",
    "cleaner.plot_word_frequency(top_n=15)\n"
   ]
  },
  {
   "cell_type": "code",
   "execution_count": 31,
   "id": "5d9cd20b-ecf6-4d2a-a3b8-a39cf7249f78",
   "metadata": {},
   "outputs": [
    {
     "data": {
      "text/html": [
       "<div>\n",
       "<style scoped>\n",
       "    .dataframe tbody tr th:only-of-type {\n",
       "        vertical-align: middle;\n",
       "    }\n",
       "\n",
       "    .dataframe tbody tr th {\n",
       "        vertical-align: top;\n",
       "    }\n",
       "\n",
       "    .dataframe thead th {\n",
       "        text-align: right;\n",
       "    }\n",
       "</style>\n",
       "<table border=\"1\" class=\"dataframe\">\n",
       "  <thead>\n",
       "    <tr style=\"text-align: right;\">\n",
       "      <th></th>\n",
       "      <th>tweet_text</th>\n",
       "      <th>emotion_in_tweet_is_directed_at</th>\n",
       "      <th>is_there_an_emotion_directed_at_a_brand_or_product</th>\n",
       "      <th>tokens</th>\n",
       "      <th>tweet_length</th>\n",
       "    </tr>\n",
       "  </thead>\n",
       "  <tbody>\n",
       "    <tr>\n",
       "      <th>0</th>\n",
       "      <td>i have a g iphone after  hrs tweeting at rise...</td>\n",
       "      <td>iPhone</td>\n",
       "      <td>Negative emotion</td>\n",
       "      <td>[g, iphone, hr, tweeting, riseaustin, dead, ne...</td>\n",
       "      <td>107</td>\n",
       "    </tr>\n",
       "    <tr>\n",
       "      <th>1</th>\n",
       "      <td>know about   awesome ipadiphone app that youl...</td>\n",
       "      <td>iPad or iPhone App</td>\n",
       "      <td>Positive emotion</td>\n",
       "      <td>[know, awesome, ipadiphone, app, youll, likely...</td>\n",
       "      <td>115</td>\n",
       "    </tr>\n",
       "    <tr>\n",
       "      <th>2</th>\n",
       "      <td>can not wait for ipad  also they should sale ...</td>\n",
       "      <td>iPad</td>\n",
       "      <td>Positive emotion</td>\n",
       "      <td>[wait, ipad, also, sale, sxsw]</td>\n",
       "      <td>63</td>\n",
       "    </tr>\n",
       "    <tr>\n",
       "      <th>3</th>\n",
       "      <td>i hope this years festival isnt as crashy as ...</td>\n",
       "      <td>iPad or iPhone App</td>\n",
       "      <td>Negative emotion</td>\n",
       "      <td>[hope, year, festival, isnt, crashy, year, iph...</td>\n",
       "      <td>72</td>\n",
       "    </tr>\n",
       "    <tr>\n",
       "      <th>4</th>\n",
       "      <td>great stuff on fri sxsw marissa mayer google ...</td>\n",
       "      <td>Google</td>\n",
       "      <td>Positive emotion</td>\n",
       "      <td>[great, stuff, fri, sxsw, marissa, mayer, goog...</td>\n",
       "      <td>108</td>\n",
       "    </tr>\n",
       "  </tbody>\n",
       "</table>\n",
       "</div>"
      ],
      "text/plain": [
       "                                          tweet_text  \\\n",
       "0   i have a g iphone after  hrs tweeting at rise...   \n",
       "1   know about   awesome ipadiphone app that youl...   \n",
       "2   can not wait for ipad  also they should sale ...   \n",
       "3   i hope this years festival isnt as crashy as ...   \n",
       "4   great stuff on fri sxsw marissa mayer google ...   \n",
       "\n",
       "  emotion_in_tweet_is_directed_at  \\\n",
       "0                          iPhone   \n",
       "1              iPad or iPhone App   \n",
       "2                            iPad   \n",
       "3              iPad or iPhone App   \n",
       "4                          Google   \n",
       "\n",
       "  is_there_an_emotion_directed_at_a_brand_or_product  \\\n",
       "0                                   Negative emotion   \n",
       "1                                   Positive emotion   \n",
       "2                                   Positive emotion   \n",
       "3                                   Negative emotion   \n",
       "4                                   Positive emotion   \n",
       "\n",
       "                                              tokens  tweet_length  \n",
       "0  [g, iphone, hr, tweeting, riseaustin, dead, ne...           107  \n",
       "1  [know, awesome, ipadiphone, app, youll, likely...           115  \n",
       "2                     [wait, ipad, also, sale, sxsw]            63  \n",
       "3  [hope, year, festival, isnt, crashy, year, iph...            72  \n",
       "4  [great, stuff, fri, sxsw, marissa, mayer, goog...           108  "
      ]
     },
     "execution_count": 31,
     "metadata": {},
     "output_type": "execute_result"
    }
   ],
   "source": [
    "# Dataset Half way cleaned \n",
    "processed_df = cleaner.get_processed_data()\n",
    "processed_df.head()"
   ]
  },
  {
   "cell_type": "markdown",
   "id": "21fb6c6f-86ef-4dfe-b15b-b01589350376",
   "metadata": {},
   "source": [
    "* **The data looks better form the previous one. We now have to do some feature engineering that  will lead to more cleaning of this dataframe.**  "
   ]
  },
  {
   "cell_type": "markdown",
   "id": "ae1473fd-fedc-41db-897b-063cf31d7787",
   "metadata": {},
   "source": [
    "## Feature engineering"
   ]
  },
  {
   "cell_type": "markdown",
   "id": "cb39dc3b-515e-4e36-b486-657ffab59eed",
   "metadata": {},
   "source": [
    "### Feature engineering class:\n",
    "* This class contains Mapping of sentiments to three categories  which are (`Positive_emotion`, `Negative_ emotion`, `Neutral/No_emotion`.)\n",
    "* It also contains the brand mapping  of the `emotion_in_tweet_is_directed_at` column  for more clarity.\n",
    "* it also contains visuals of the actions taken."
   ]
  },
  {
   "cell_type": "code",
   "execution_count": 35,
   "id": "3cf139f6-267f-4414-85c6-2f996f1e4a8d",
   "metadata": {},
   "outputs": [
    {
     "data": {
      "text/plain": [
       "emotion_in_tweet_is_directed_at\n",
       "Unknown                            5788\n",
       "iPad                                945\n",
       "Apple                               659\n",
       "iPad or iPhone App                  469\n",
       "Google                              428\n",
       "iPhone                              296\n",
       "Other Google product or service     293\n",
       "Android App                          80\n",
       "Android                              77\n",
       "Other Apple product or service       35\n",
       "Name: count, dtype: int64"
      ]
     },
     "execution_count": 35,
     "metadata": {},
     "output_type": "execute_result"
    }
   ],
   "source": [
    "processed_df['emotion_in_tweet_is_directed_at'].value_counts()"
   ]
  },
  {
   "cell_type": "code",
   "execution_count": 36,
   "id": "5b7d9dec-6ee8-41b9-ae9b-1ead5040e21f",
   "metadata": {},
   "outputs": [],
   "source": [
    "class Feature_Engineering:\n",
    "    \n",
    "    def __init__(self, df: pd.DataFrame, text_col: str, brand_col: str, sentiment_col: str):\n",
    "        self.df = df.copy()\n",
    "        self.text_col = text_col\n",
    "        self.brand_col = brand_col\n",
    "        self.sentiment_col = sentiment_col\n",
    "\n",
    "    # Sentiment Mapping\n",
    "    def map_sentiments(self):\n",
    "        sentiment_mapping = {\n",
    "            'Positive emotion': 'Positive',\n",
    "            'Negative emotion': 'Negative',\n",
    "            \"I can't tell\": 'Neutral/No emotion',\n",
    "            'No emotion toward brand or product': 'Neutral/No emotion'\n",
    "        }\n",
    "        self.df['mapped_sentiment'] = self.df[self.sentiment_col].map(sentiment_mapping)\n",
    "        print(\"Sentiment mapping complete....\")\n",
    "        display(self.df[[self.sentiment_col, 'mapped_sentiment']].head(10))\n",
    "\n",
    "    # Brand Mapping\n",
    "    def map_brands(self):\n",
    "        brand_mapping = {\n",
    "            'iPad': 'Apple',\n",
    "            'Apple': 'Apple',\n",
    "            'iPad or iPhone App': 'Apple',\n",
    "            'iPhone': 'Apple',\n",
    "            'Other Apple product or service': 'Apple',\n",
    "            'Google': 'Google',\n",
    "            'Other Google product or service': 'Google',\n",
    "            'Android App': 'Google',\n",
    "            'Android': 'Google',\n",
    "            'Unknown': 'Unknown'\n",
    "        }\n",
    "        # clean and normalize before mapping\n",
    "        self.df[self.brand_col] = self.df[self.brand_col].astype(str).str.strip()\n",
    "        # map\n",
    "        self.df['mapped_brand'] = self.df[self.brand_col].map(brand_mapping)\n",
    "        \n",
    "        print(\"Brand mapping complete.\")\n",
    "        print(\"Brand distribution after mapping:\")\n",
    "        print(self.df['mapped_brand'].value_counts())\n",
    "        \n",
    "        display(self.df[[self.brand_col, 'mapped_brand']].head(10))\n",
    "        \n",
    "\n",
    "    # Text Feature Visualizations\n",
    "\n",
    "    # Sentiment & Brand Visualizations\n",
    "    def plot_sentiment_distribution(self):\n",
    "        plt.figure(figsize=(11, 6))\n",
    "        sns.countplot(data=self.df, x='mapped_sentiment', order=self.df['mapped_sentiment'].value_counts().index)\n",
    "        plt.title(\"Distribution of Sentiment Categories\")\n",
    "        plt.xlabel(\"Sentiment Type\")\n",
    "        plt.ylabel(\"Tweet Count\")\n",
    "        plt.show()\n",
    "\n",
    "    def plot_brand_distribution(self):\n",
    "        plt.figure(figsize=(8, 5))\n",
    "        sns.countplot(data=self.df, x='mapped_brand', order=self.df['mapped_brand'].value_counts().index)\n",
    "        plt.title(\"Distribution of Brand Mentions (Apple vs Google)\")\n",
    "        plt.xlabel(\"Brand\")\n",
    "        plt.ylabel(\"Tweet Count\")\n",
    "        plt.show()\n",
    "\n",
    "    # Combined Brand vs Sentiment Plot\n",
    "    def plot_brand_sentiment_comparison(self):\n",
    "        \"\"\"Compare brand mentions by sentiment category.\"\"\"\n",
    "        plt.figure(figsize=(10, 6))\n",
    "        sns.countplot(data=self.df, x='mapped_brand', hue='mapped_sentiment', palette='cool')\n",
    "        plt.title(\"Brand Mentions by Sentiment (Apple vs Google)\")\n",
    "        plt.xlabel(\"Brand\")\n",
    "        plt.ylabel(\"Count\")\n",
    "        plt.legend(title=\"Sentiment\")\n",
    "        plt.show()\n",
    "        #having removed the Unkown cartegory\n",
    "    def plot_brand_sentiment_comparison_no_Unknown(self):\n",
    "\n",
    "        filtered_df = self.df[self.df['mapped_brand'] != 'Unknown']\n",
    "        plt.figure(figsize=(10, 6))\n",
    "        sns.countplot(\n",
    "        data=filtered_df,\n",
    "        x='mapped_brand',\n",
    "        hue='mapped_sentiment',\n",
    "        palette='cool'\n",
    "        )\n",
    "        plt.title(\"Brand Mentions by Sentiment (Apple vs Google)\")\n",
    "        plt.xlabel(\"Brand\")\n",
    "        plt.ylabel(\"Count\")\n",
    "        plt.legend(title=\"Sentiment\")\n",
    "        plt.show()\n",
    "\n",
    "    # Return processed data\n",
    "    def get_features(self):\n",
    "        # Return the processed DataFrame for modeling.\n",
    "        return self.df\n"
   ]
  },
  {
   "cell_type": "code",
   "execution_count": 37,
   "id": "5555a5ee-30f0-4ad2-888d-f7464fa2ecb6",
   "metadata": {},
   "outputs": [],
   "source": [
    "# Class in use \n",
    "# Initialize the class\n",
    "features = Feature_Engineering(\n",
    "    df=cleaner.get_processed_data(),\n",
    "    text_col='tweet_text',\n",
    "    brand_col='emotion_in_tweet_is_directed_at',\n",
    "    sentiment_col='is_there_an_emotion_directed_at_a_brand_or_product'\n",
    ")\n"
   ]
  },
  {
   "cell_type": "code",
   "execution_count": 38,
   "id": "96cdd0af-4dae-4f6a-8445-07932691871c",
   "metadata": {},
   "outputs": [
    {
     "name": "stdout",
     "output_type": "stream",
     "text": [
      "Sentiment mapping complete....\n"
     ]
    },
    {
     "data": {
      "text/html": [
       "<div>\n",
       "<style scoped>\n",
       "    .dataframe tbody tr th:only-of-type {\n",
       "        vertical-align: middle;\n",
       "    }\n",
       "\n",
       "    .dataframe tbody tr th {\n",
       "        vertical-align: top;\n",
       "    }\n",
       "\n",
       "    .dataframe thead th {\n",
       "        text-align: right;\n",
       "    }\n",
       "</style>\n",
       "<table border=\"1\" class=\"dataframe\">\n",
       "  <thead>\n",
       "    <tr style=\"text-align: right;\">\n",
       "      <th></th>\n",
       "      <th>is_there_an_emotion_directed_at_a_brand_or_product</th>\n",
       "      <th>mapped_sentiment</th>\n",
       "    </tr>\n",
       "  </thead>\n",
       "  <tbody>\n",
       "    <tr>\n",
       "      <th>0</th>\n",
       "      <td>Negative emotion</td>\n",
       "      <td>Negative</td>\n",
       "    </tr>\n",
       "    <tr>\n",
       "      <th>1</th>\n",
       "      <td>Positive emotion</td>\n",
       "      <td>Positive</td>\n",
       "    </tr>\n",
       "    <tr>\n",
       "      <th>2</th>\n",
       "      <td>Positive emotion</td>\n",
       "      <td>Positive</td>\n",
       "    </tr>\n",
       "    <tr>\n",
       "      <th>3</th>\n",
       "      <td>Negative emotion</td>\n",
       "      <td>Negative</td>\n",
       "    </tr>\n",
       "    <tr>\n",
       "      <th>4</th>\n",
       "      <td>Positive emotion</td>\n",
       "      <td>Positive</td>\n",
       "    </tr>\n",
       "    <tr>\n",
       "      <th>5</th>\n",
       "      <td>No emotion toward brand or product</td>\n",
       "      <td>Neutral/No emotion</td>\n",
       "    </tr>\n",
       "    <tr>\n",
       "      <th>7</th>\n",
       "      <td>Positive emotion</td>\n",
       "      <td>Positive</td>\n",
       "    </tr>\n",
       "    <tr>\n",
       "      <th>8</th>\n",
       "      <td>Positive emotion</td>\n",
       "      <td>Positive</td>\n",
       "    </tr>\n",
       "    <tr>\n",
       "      <th>9</th>\n",
       "      <td>Positive emotion</td>\n",
       "      <td>Positive</td>\n",
       "    </tr>\n",
       "    <tr>\n",
       "      <th>10</th>\n",
       "      <td>Positive emotion</td>\n",
       "      <td>Positive</td>\n",
       "    </tr>\n",
       "  </tbody>\n",
       "</table>\n",
       "</div>"
      ],
      "text/plain": [
       "   is_there_an_emotion_directed_at_a_brand_or_product    mapped_sentiment\n",
       "0                                    Negative emotion            Negative\n",
       "1                                    Positive emotion            Positive\n",
       "2                                    Positive emotion            Positive\n",
       "3                                    Negative emotion            Negative\n",
       "4                                    Positive emotion            Positive\n",
       "5                  No emotion toward brand or product  Neutral/No emotion\n",
       "7                                    Positive emotion            Positive\n",
       "8                                    Positive emotion            Positive\n",
       "9                                    Positive emotion            Positive\n",
       "10                                   Positive emotion            Positive"
      ]
     },
     "metadata": {},
     "output_type": "display_data"
    }
   ],
   "source": [
    "# Run transformation\n",
    "# Sentiment mappings \n",
    "features.map_sentiments()\n"
   ]
  },
  {
   "cell_type": "code",
   "execution_count": 39,
   "id": "5c76c355-3bce-4dd5-912b-97fc2e570863",
   "metadata": {},
   "outputs": [
    {
     "name": "stdout",
     "output_type": "stream",
     "text": [
      "Brand mapping complete.\n",
      "Brand distribution after mapping:\n",
      "mapped_brand\n",
      "Unknown    5788\n",
      "Apple      2404\n",
      "Google      878\n",
      "Name: count, dtype: int64\n"
     ]
    },
    {
     "data": {
      "text/html": [
       "<div>\n",
       "<style scoped>\n",
       "    .dataframe tbody tr th:only-of-type {\n",
       "        vertical-align: middle;\n",
       "    }\n",
       "\n",
       "    .dataframe tbody tr th {\n",
       "        vertical-align: top;\n",
       "    }\n",
       "\n",
       "    .dataframe thead th {\n",
       "        text-align: right;\n",
       "    }\n",
       "</style>\n",
       "<table border=\"1\" class=\"dataframe\">\n",
       "  <thead>\n",
       "    <tr style=\"text-align: right;\">\n",
       "      <th></th>\n",
       "      <th>emotion_in_tweet_is_directed_at</th>\n",
       "      <th>mapped_brand</th>\n",
       "    </tr>\n",
       "  </thead>\n",
       "  <tbody>\n",
       "    <tr>\n",
       "      <th>0</th>\n",
       "      <td>iPhone</td>\n",
       "      <td>Apple</td>\n",
       "    </tr>\n",
       "    <tr>\n",
       "      <th>1</th>\n",
       "      <td>iPad or iPhone App</td>\n",
       "      <td>Apple</td>\n",
       "    </tr>\n",
       "    <tr>\n",
       "      <th>2</th>\n",
       "      <td>iPad</td>\n",
       "      <td>Apple</td>\n",
       "    </tr>\n",
       "    <tr>\n",
       "      <th>3</th>\n",
       "      <td>iPad or iPhone App</td>\n",
       "      <td>Apple</td>\n",
       "    </tr>\n",
       "    <tr>\n",
       "      <th>4</th>\n",
       "      <td>Google</td>\n",
       "      <td>Google</td>\n",
       "    </tr>\n",
       "    <tr>\n",
       "      <th>5</th>\n",
       "      <td>Unknown</td>\n",
       "      <td>Unknown</td>\n",
       "    </tr>\n",
       "    <tr>\n",
       "      <th>7</th>\n",
       "      <td>Android</td>\n",
       "      <td>Google</td>\n",
       "    </tr>\n",
       "    <tr>\n",
       "      <th>8</th>\n",
       "      <td>iPad or iPhone App</td>\n",
       "      <td>Apple</td>\n",
       "    </tr>\n",
       "    <tr>\n",
       "      <th>9</th>\n",
       "      <td>Apple</td>\n",
       "      <td>Apple</td>\n",
       "    </tr>\n",
       "    <tr>\n",
       "      <th>10</th>\n",
       "      <td>Android</td>\n",
       "      <td>Google</td>\n",
       "    </tr>\n",
       "  </tbody>\n",
       "</table>\n",
       "</div>"
      ],
      "text/plain": [
       "   emotion_in_tweet_is_directed_at mapped_brand\n",
       "0                           iPhone        Apple\n",
       "1               iPad or iPhone App        Apple\n",
       "2                             iPad        Apple\n",
       "3               iPad or iPhone App        Apple\n",
       "4                           Google       Google\n",
       "5                          Unknown      Unknown\n",
       "7                          Android       Google\n",
       "8               iPad or iPhone App        Apple\n",
       "9                            Apple        Apple\n",
       "10                         Android       Google"
      ]
     },
     "metadata": {},
     "output_type": "display_data"
    }
   ],
   "source": [
    "# Brand mapping \n",
    "features.map_brands()\n"
   ]
  },
  {
   "cell_type": "markdown",
   "id": "b8ef1a15-442d-4678-a554-f7bd783d526e",
   "metadata": {},
   "source": [
    "## Visualize "
   ]
  },
  {
   "cell_type": "code",
   "execution_count": 41,
   "id": "6c943777-2383-49c8-b31d-aa81c15469e4",
   "metadata": {},
   "outputs": [
    {
     "data": {
      "image/png": "[encoded data removed]",
      "text/plain": [
       "<Figure size 1100x600 with 1 Axes>"
      ]
     },
     "metadata": {},
     "output_type": "display_data"
    }
   ],
   "source": [
    "# sentiment Mapping visualization\n",
    "features.plot_sentiment_distribution()\n"
   ]
  },
  {
   "cell_type": "code",
   "execution_count": 42,
   "id": "43db0e84-4669-4cc0-aecf-211c4632235a",
   "metadata": {},
   "outputs": [
    {
     "data": {
      "image/png": "[encoded data removed]",
      "text/plain": [
       "<Figure size 800x500 with 1 Axes>"
      ]
     },
     "metadata": {},
     "output_type": "display_data"
    }
   ],
   "source": [
    "# Branding  mapping visualization\n",
    "features.plot_brand_distribution()\n"
   ]
  },
  {
   "cell_type": "code",
   "execution_count": 43,
   "id": "ac91509f-8f4b-4bfa-9bf4-149c50d58bb9",
   "metadata": {},
   "outputs": [
    {
     "data": {
      "image/png": "[encoded data removed]",
      "text/plain": [
       "<Figure size 1000x600 with 1 Axes>"
      ]
     },
     "metadata": {},
     "output_type": "display_data"
    }
   ],
   "source": [
    "# comparison of the two \n",
    "features.plot_brand_sentiment_comparison()\n"
   ]
  },
  {
   "cell_type": "code",
   "execution_count": 44,
   "id": "38c9632c-6287-46a0-b27a-23133c7b4ad5",
   "metadata": {},
   "outputs": [
    {
     "data": {
      "image/png": "[encoded data removed]",
      "text/plain": [
       "<Figure size 1000x600 with 1 Axes>"
      ]
     },
     "metadata": {},
     "output_type": "display_data"
    }
   ],
   "source": [
    "features.plot_brand_sentiment_comparison_no_Unknown()"
   ]
  },
  {
   "cell_type": "code",
   "execution_count": 45,
   "id": "bf131f4a-bbba-443a-b862-89caf4a14387",
   "metadata": {},
   "outputs": [
    {
     "data": {
      "text/html": [
       "<div>\n",
       "<style scoped>\n",
       "    .dataframe tbody tr th:only-of-type {\n",
       "        vertical-align: middle;\n",
       "    }\n",
       "\n",
       "    .dataframe tbody tr th {\n",
       "        vertical-align: top;\n",
       "    }\n",
       "\n",
       "    .dataframe thead th {\n",
       "        text-align: right;\n",
       "    }\n",
       "</style>\n",
       "<table border=\"1\" class=\"dataframe\">\n",
       "  <thead>\n",
       "    <tr style=\"text-align: right;\">\n",
       "      <th></th>\n",
       "      <th>tweet_text</th>\n",
       "      <th>emotion_in_tweet_is_directed_at</th>\n",
       "      <th>is_there_an_emotion_directed_at_a_brand_or_product</th>\n",
       "      <th>tokens</th>\n",
       "      <th>tweet_length</th>\n",
       "      <th>mapped_sentiment</th>\n",
       "      <th>mapped_brand</th>\n",
       "    </tr>\n",
       "  </thead>\n",
       "  <tbody>\n",
       "    <tr>\n",
       "      <th>0</th>\n",
       "      <td>i have a g iphone after  hrs tweeting at rise...</td>\n",
       "      <td>iPhone</td>\n",
       "      <td>Negative emotion</td>\n",
       "      <td>[g, iphone, hr, tweeting, riseaustin, dead, ne...</td>\n",
       "      <td>107</td>\n",
       "      <td>Negative</td>\n",
       "      <td>Apple</td>\n",
       "    </tr>\n",
       "    <tr>\n",
       "      <th>1</th>\n",
       "      <td>know about   awesome ipadiphone app that youl...</td>\n",
       "      <td>iPad or iPhone App</td>\n",
       "      <td>Positive emotion</td>\n",
       "      <td>[know, awesome, ipadiphone, app, youll, likely...</td>\n",
       "      <td>115</td>\n",
       "      <td>Positive</td>\n",
       "      <td>Apple</td>\n",
       "    </tr>\n",
       "    <tr>\n",
       "      <th>2</th>\n",
       "      <td>can not wait for ipad  also they should sale ...</td>\n",
       "      <td>iPad</td>\n",
       "      <td>Positive emotion</td>\n",
       "      <td>[wait, ipad, also, sale, sxsw]</td>\n",
       "      <td>63</td>\n",
       "      <td>Positive</td>\n",
       "      <td>Apple</td>\n",
       "    </tr>\n",
       "    <tr>\n",
       "      <th>3</th>\n",
       "      <td>i hope this years festival isnt as crashy as ...</td>\n",
       "      <td>iPad or iPhone App</td>\n",
       "      <td>Negative emotion</td>\n",
       "      <td>[hope, year, festival, isnt, crashy, year, iph...</td>\n",
       "      <td>72</td>\n",
       "      <td>Negative</td>\n",
       "      <td>Apple</td>\n",
       "    </tr>\n",
       "    <tr>\n",
       "      <th>4</th>\n",
       "      <td>great stuff on fri sxsw marissa mayer google ...</td>\n",
       "      <td>Google</td>\n",
       "      <td>Positive emotion</td>\n",
       "      <td>[great, stuff, fri, sxsw, marissa, mayer, goog...</td>\n",
       "      <td>108</td>\n",
       "      <td>Positive</td>\n",
       "      <td>Google</td>\n",
       "    </tr>\n",
       "  </tbody>\n",
       "</table>\n",
       "</div>"
      ],
      "text/plain": [
       "                                          tweet_text  \\\n",
       "0   i have a g iphone after  hrs tweeting at rise...   \n",
       "1   know about   awesome ipadiphone app that youl...   \n",
       "2   can not wait for ipad  also they should sale ...   \n",
       "3   i hope this years festival isnt as crashy as ...   \n",
       "4   great stuff on fri sxsw marissa mayer google ...   \n",
       "\n",
       "  emotion_in_tweet_is_directed_at  \\\n",
       "0                          iPhone   \n",
       "1              iPad or iPhone App   \n",
       "2                            iPad   \n",
       "3              iPad or iPhone App   \n",
       "4                          Google   \n",
       "\n",
       "  is_there_an_emotion_directed_at_a_brand_or_product  \\\n",
       "0                                   Negative emotion   \n",
       "1                                   Positive emotion   \n",
       "2                                   Positive emotion   \n",
       "3                                   Negative emotion   \n",
       "4                                   Positive emotion   \n",
       "\n",
       "                                              tokens  tweet_length  \\\n",
       "0  [g, iphone, hr, tweeting, riseaustin, dead, ne...           107   \n",
       "1  [know, awesome, ipadiphone, app, youll, likely...           115   \n",
       "2                     [wait, ipad, also, sale, sxsw]            63   \n",
       "3  [hope, year, festival, isnt, crashy, year, iph...            72   \n",
       "4  [great, stuff, fri, sxsw, marissa, mayer, goog...           108   \n",
       "\n",
       "  mapped_sentiment mapped_brand  \n",
       "0         Negative        Apple  \n",
       "1         Positive        Apple  \n",
       "2         Positive        Apple  \n",
       "3         Negative        Apple  \n",
       "4         Positive       Google  "
      ]
     },
     "execution_count": 45,
     "metadata": {},
     "output_type": "execute_result"
    }
   ],
   "source": [
    "# Get the updated DataFrame\n",
    "final_df = features.get_features()\n",
    "final_df.head()"
   ]
  },
  {
   "cell_type": "markdown",
   "id": "fee7c46a-aeb0-4c92-857a-fb6060b56ec3",
   "metadata": {},
   "source": [
    "So  close to winning...\n",
    "* The tokens are in Unigram format and  for a model to understand and make predictions properly, the   the tokens should  be bigrams."
   ]
  },
  {
   "cell_type": "markdown",
   "id": "0190b444-7cc8-41af-a975-735c1d8685d0",
   "metadata": {},
   "source": [
    " ## BI GRAMS "
   ]
  },
  {
   "cell_type": "code",
   "execution_count": null,
   "id": "b58b9193-2d2a-4aba-b6ee-a21dafa30c2d",
   "metadata": {},
   "outputs": [],
   "source": []
  },
  {
   "cell_type": "markdown",
   "id": "8772a1d7-1ef8-43fe-b9a7-c6f05dbc17fe",
   "metadata": {},
   "source": []
  },
  {
   "cell_type": "markdown",
   "id": "2b39e3c8-072b-4b52-9d4e-3d398179c902",
   "metadata": {},
   "source": [
    "## VECTORIZATION OF DATA "
   ]
  },
  {
   "cell_type": "code",
   "execution_count": null,
   "id": "f2d8173e-2b23-4a7a-a9eb-4f6083de16d5",
   "metadata": {},
   "outputs": [],
   "source": []
  },
  {
   "cell_type": "code",
   "execution_count": null,
   "id": "76451032-1280-498e-9ae4-4b99ef2c7b9f",
   "metadata": {},
   "outputs": [],
   "source": []
  },
  {
   "cell_type": "code",
   "execution_count": null,
   "id": "3714340c-ab43-482c-a6eb-93bd3e76535b",
   "metadata": {},
   "outputs": [],
   "source": []
  },
  {
   "cell_type": "code",
   "execution_count": null,
   "id": "b3383f6b-f669-4bf6-965e-28853442660d",
   "metadata": {},
   "outputs": [],
   "source": []
  },
  {
   "cell_type": "code",
   "execution_count": null,
   "id": "72c5135b-a01d-43f3-8e04-66eb4c5b00a5",
   "metadata": {},
   "outputs": [],
   "source": []
  },
  {
   "cell_type": "code",
   "execution_count": null,
   "id": "7583b330-8f84-460d-b2e3-4bbcac2f7bc4",
   "metadata": {},
   "outputs": [],
   "source": []
  },
  {
   "cell_type": "code",
   "execution_count": null,
   "id": "03b193b6-f6f7-47a0-b0fe-94c9abf983a3",
   "metadata": {},
   "outputs": [],
   "source": []
  },
  {
   "cell_type": "code",
   "execution_count": null,
   "id": "7d9b7400-90b4-4e7d-9f65-f0038b8061ed",
   "metadata": {},
   "outputs": [],
   "source": []
  },
  {
   "cell_type": "code",
   "execution_count": null,
   "id": "9581f0f9-24eb-45ea-a2fb-74e3c3c3b348",
   "metadata": {},
   "outputs": [],
   "source": []
  },
  {
   "cell_type": "code",
   "execution_count": null,
   "id": "3c1e27cd-3bb8-49e3-8fe0-157081f544ba",
   "metadata": {},
   "outputs": [],
   "source": []
  },
  {
   "cell_type": "code",
   "execution_count": null,
   "id": "cf383ea8-4be4-421e-89cd-e82d3e62c61d",
   "metadata": {},
   "outputs": [],
   "source": []
  },
  {
   "cell_type": "code",
   "execution_count": null,
   "id": "86cf2a0c-7829-4a4c-8a50-da970063800b",
   "metadata": {},
   "outputs": [],
   "source": []
  },
  {
   "cell_type": "code",
   "execution_count": null,
   "id": "408b6716-d201-4628-84c1-e22770c187c5",
   "metadata": {},
   "outputs": [],
   "source": []
  },
  {
   "cell_type": "code",
   "execution_count": null,
   "id": "1c38f95f-c109-416a-a5e5-17dc98d28416",
   "metadata": {},
   "outputs": [],
   "source": []
  },
  {
   "cell_type": "code",
   "execution_count": null,
   "id": "cf14093e-0e1d-4823-8e5f-38e314bf8b67",
   "metadata": {},
   "outputs": [],
   "source": []
  },
  {
   "cell_type": "code",
   "execution_count": null,
   "id": "b5c8a82b-86a4-4e5f-b66d-fe3afd9168df",
   "metadata": {},
   "outputs": [],
   "source": []
  },
  {
   "cell_type": "code",
   "execution_count": null,
   "id": "ebfbb351-5ee8-43c6-99aa-fbe423346d46",
   "metadata": {},
   "outputs": [],
   "source": []
  },
  {
   "cell_type": "code",
   "execution_count": null,
   "id": "2d35c7fa-6772-4796-97d7-dc5632047921",
   "metadata": {},
   "outputs": [],
   "source": []
  },
  {
   "cell_type": "code",
   "execution_count": null,
   "id": "f26670e1-743d-48fb-a9f6-15138d69f906",
   "metadata": {},
   "outputs": [],
   "source": []
  },
  {
   "cell_type": "code",
   "execution_count": null,
   "id": "f8845c83-c1ec-4ce6-927d-6b4e2162991a",
   "metadata": {},
   "outputs": [],
   "source": []
  },
  {
   "cell_type": "code",
   "execution_count": null,
   "id": "dc37fc9f-680d-4951-bcb3-183d5aeb5420",
   "metadata": {},
   "outputs": [],
   "source": []
  },
  {
   "cell_type": "code",
   "execution_count": null,
   "id": "fb9fa3ae-c6cc-4580-aab6-1bf08dc0cea2",
   "metadata": {},
   "outputs": [],
   "source": []
  },
  {
   "cell_type": "code",
   "execution_count": null,
   "id": "b03d05da-3c53-4dea-93da-68c2abd301cc",
   "metadata": {},
   "outputs": [],
   "source": []
  },
  {
   "cell_type": "code",
   "execution_count": null,
   "id": "a73e0ab2-3f9a-4dd3-8abc-171ba3224235",
   "metadata": {},
   "outputs": [],
   "source": []
  },
  {
   "cell_type": "code",
   "execution_count": null,
   "id": "5bc9bf95-d1ee-44c1-b31a-adf7a17cc686",
   "metadata": {},
   "outputs": [],
   "source": []
  },
  {
   "cell_type": "code",
   "execution_count": null,
   "id": "e647191e-eff4-4de8-b216-dc09bfa3efe8",
   "metadata": {},
   "outputs": [],
   "source": []
  },
  {
   "cell_type": "code",
   "execution_count": null,
   "id": "ce808276-71c0-48d4-9e09-bfa3742f30ce",
   "metadata": {},
   "outputs": [],
   "source": []
  },
  {
   "cell_type": "code",
   "execution_count": null,
   "id": "f6ff5786-c94f-4169-bb53-72f85d3f2a77",
   "metadata": {},
   "outputs": [],
   "source": []
  },
  {
   "cell_type": "code",
   "execution_count": null,
   "id": "ffc0e4ad-5b40-4154-973b-a33bd5eabd76",
   "metadata": {},
   "outputs": [],
   "source": []
  },
  {
   "cell_type": "code",
   "execution_count": null,
   "id": "6860132b-766f-4a10-b04b-3c1a7e99155a",
   "metadata": {},
   "outputs": [],
   "source": []
  },
  {
   "cell_type": "code",
   "execution_count": null,
   "id": "94f1b1fb-de88-4384-9403-ef6f0b57a8ee",
   "metadata": {},
   "outputs": [],
   "source": []
  },
  {
   "cell_type": "code",
   "execution_count": null,
   "id": "7d06619d-cbe2-4c40-91aa-d2f55854c549",
   "metadata": {},
   "outputs": [],
   "source": []
  },
  {
   "cell_type": "code",
   "execution_count": null,
   "id": "d317aedd-62a5-40b8-916d-ca4ad773980b",
   "metadata": {},
   "outputs": [],
   "source": []
  },
  {
   "cell_type": "code",
   "execution_count": null,
   "id": "e4083df1-6ff1-487f-9fe0-c1964a2c119d",
   "metadata": {},
   "outputs": [],
   "source": []
  },
  {
   "cell_type": "code",
   "execution_count": null,
   "id": "c35e9fb9-d807-468c-92f1-fb64edf533e6",
   "metadata": {},
   "outputs": [],
   "source": []
  },
  {
   "cell_type": "code",
   "execution_count": null,
   "id": "08abd6db-2d47-4e2c-891f-7a6f124e7137",
   "metadata": {},
   "outputs": [],
   "source": []
  },
  {
   "cell_type": "code",
   "execution_count": null,
   "id": "c6df217e-3753-45aa-a46b-ca6b95819079",
   "metadata": {},
   "outputs": [],
   "source": []
  },
  {
   "cell_type": "code",
   "execution_count": null,
   "id": "ad5dba44-9c22-4671-86f3-768200a67ac0",
   "metadata": {},
   "outputs": [],
   "source": []
  },
  {
   "cell_type": "code",
   "execution_count": null,
   "id": "9f913453-df92-4e50-848f-7292583f9271",
   "metadata": {},
   "outputs": [],
   "source": []
  },
  {
   "cell_type": "code",
   "execution_count": null,
   "id": "64c76888-d0b5-4d6f-a4a2-1266e034940f",
   "metadata": {},
   "outputs": [],
   "source": []
  },
  {
   "cell_type": "code",
   "execution_count": null,
   "id": "342ff315-dee2-459c-a8d3-f375ed91d936",
   "metadata": {},
   "outputs": [],
   "source": []
  },
  {
   "cell_type": "code",
   "execution_count": null,
   "id": "9f88472d-a6fc-462e-b797-8abc36238b14",
   "metadata": {},
   "outputs": [],
   "source": []
  },
  {
   "cell_type": "code",
   "execution_count": null,
   "id": "8cb5e22c-1385-4fb3-98df-962820d0b504",
   "metadata": {},
   "outputs": [],
   "source": []
  },
  {
   "cell_type": "code",
   "execution_count": null,
   "id": "0fd591a0-9187-4bde-acde-2075533bfb7a",
   "metadata": {},
   "outputs": [],
   "source": []
  },
  {
   "cell_type": "code",
   "execution_count": null,
   "id": "a76a5f5e-4c08-491c-9061-b97197845769",
   "metadata": {},
   "outputs": [],
   "source": []
  }
 ],
 "metadata": {
  "kernelspec": {
   "display_name": "Python [conda env:base] *",
   "language": "python",
   "name": "conda-base-py"
  },
  "language_info": {
   "codemirror_mode": {
    "name": "ipython",
    "version": 3
   },
   "file_extension": ".py",
   "mimetype": "text/x-python",
   "name": "python",
   "nbconvert_exporter": "python",
   "pygments_lexer": "ipython3",
   "version": "3.12.7"
  }
 },
 "nbformat": 4,
 "nbformat_minor": 5
}
