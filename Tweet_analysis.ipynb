{
 "cells": [
  {
   "cell_type": "markdown",
   "id": "e40475d3-150f-4ce5-b542-4b592646a0c1",
   "metadata": {},
   "source": [
    "# 🐦💬 **PUBLIC SENTIMENTAL ANALYSIS OF TWEETS ABOUT APPLE AND GOOGLE PRODUCTS USING `NLP`**  \n",
    "\n",
    "## **Business Understanding**\n",
    "###  Business overview:\n",
    "A *Tweet* is a short  message shared by users on  **Twitter**(*now known as X*) expressing their opinions, experiences, or reactions towards  events, products, and brands. Tweets can include  texts, images, videos, and links.\n",
    "In this project, we focus on analysing tweets about `APPLE` and `GOOGLE` products. The dataset, provided by **Crowdflower via Data.world**, contains over 9000 tweets labeled by human raters as positive, negative, or neutral in sentiment. The primary objective of this project is to  develop a Natural Language Processing model  that can automatically identify tweets based on their text. \n",
    "\n",
    "## **Stake Holders**\n",
    "* APPLE and GOOGLE Management Team\n",
    "\n",
    "## **Problem Statement**\n",
    "* Users frequently share their views and experiences about Apple and Google products on Twitter. However, the massive volume of tweets makes it challenging to assess the general public sentiment manually. A system that can automatically detect whether a tweet is positive, negative, or neutral would make this process easier and faster.\n",
    "\n",
    "## **Business Objectives**\n",
    "### Main Objective: \n",
    "*  The main goal of this project is to build an `NLP` model that can rate the sentiment of a Tweet based on its content.\n",
    "\n",
    "### Specific objectives:\n",
    "1. To compare the distribution of positive  and negative sentiments in tweets about Apple and Google products.\n",
    "2. To build and refine an NLP sentiment model, beginning with binary classification and later expanding to Multiclass, evaluated using appropriate performance metrics.\n",
    "3. To evaluate the model’s predictions and interpret sentiment trends to draw meaningful business insights.\n",
    "\n",
    "\n",
    "## **Reasearch Questions**\n",
    "1. Which of these two companies, Apple or Google, receives more positive or negative sentiment in tweets?\n",
    "2. How does expanding a sentiment model from binary to multiclass classification affect its accuracy and ability to capture real public sentiment?\n",
    "3. How accurately can the model predict tweet sentiments, and what do the results reveal about public perceptions of Apple and Google products?\n",
    "\n",
    "\n",
    "## **Project Goals**\n",
    "* To develop an effective Natural Language Processing (NLP) model capable of automatically determining the sentiment expressed in tweets about Apple and Google products.\n",
    "* To analyze and interpret public sentiment trends toward Apple and Google to provide meaningful insights that can support brand perception and marketing decisions.\n",
    "\n",
    "\n",
    "## **Success Criteria**\n",
    "* Model performance: The NLP model achieves a high level of accuracy and reliability in classifying tweet sentiments (positive, negative, and neutral)\n",
    "* Actionable insight: The analysis provides clear, data-driven insights into public perceptions of Apple and Google products.\n",
    "\n"
   ]
  },
  {
   "cell_type": "markdown",
   "id": "460c0eac-04c0-44e7-9d1c-3a0c10794260",
   "metadata": {},
   "source": [
    "## **Data Understanding**\n",
    "### Data source and Description:\n",
    "* **source**: This data is  from CrowdFlower. It is publicly available for use in data science projects. For more information about the data, follow this publicly hosted link[data.world](https://data.world/crowdflower)\n",
    "*  **Description**:  The dataset  contains Twitter tweets  from users about Apple and Google products. It includes 3 features and 9093 records. Our target is to predict the sentiment (positive, negative, or neutral) based on the text in each tweet.\n",
    "  \n",
    "\n",
    "* **Feature Name and their description**\n",
    "                 \n",
    "> **tweet_text**: The actual content of the tweet as written by the user. This serves as the main input                                                               for Natural Language Processing (NLP) to determine the expressed sentiment.\n",
    "\n",
    "> **is_there_an_emotion_directed_at_a_brand_or_product**: The target variable indicating whether a tweet expresses a positive, negative, or                                                                  neutral emotion toward a brand or product.\n",
    "\n",
    "> **emotion_in_tweet_is_directed_at**: Specifies the brand, company, or product that the emotion is directed at (e.g., *Apple,                                                             Google, iPhone, Android*). This helps in comparing sentiment between brands.                                  \n",
    "\n",
    "\n",
    "  "
   ]
  },
  {
   "cell_type": "markdown",
   "id": "5d35686d-6768-4b29-898b-b6cf99bf77dc",
   "metadata": {},
   "source": [
    "## Data Loading and Exploration \n",
    "###  Import neccessary libraries for the project:\n"
   ]
  },
  {
   "cell_type": "code",
   "execution_count": 4,
   "id": "d5def5bd-3dae-49d8-91d9-f159c87a23f0",
   "metadata": {},
   "outputs": [],
   "source": [
    "# Imports \n",
    "import pandas as pd\n",
    "import numpy as np\n",
    "import matplotlib.pyplot as plt\n",
    "import seaborn as sns\n",
    "import nltk # natural language toolkit\n",
    "import re # regular expressions\n",
    "import string\n",
    "from nltk.corpus import stopwords, words\n",
    "from nltk.tokenize import word_tokenize, RegexpTokenizer\n",
    "from nltk.stem import PorterStemmer, WordNetLemmatizer\n",
    "from nltk import FreqDist\n",
    "from sklearn.feature_extraction.text import TfidfVectorizer, CountVectorizer\n",
    "\n",
    "%matplotlib inline \n",
    "import warnings\n",
    "warnings.filterwarnings('ignore')"
   ]
  },
  {
   "cell_type": "code",
   "execution_count": 5,
   "id": "15d5301e-0c50-4f76-9801-ff5b95f5c532",
   "metadata": {},
   "outputs": [
    {
     "name": "stderr",
     "output_type": "stream",
     "text": [
      "[nltk_data] Downloading package punkt to\n",
      "[nltk_data]     C:\\Users\\Admin\\AppData\\Roaming\\nltk_data...\n",
      "[nltk_data]   Package punkt is already up-to-date!\n",
      "[nltk_data] Downloading package punkt_tab to\n",
      "[nltk_data]     C:\\Users\\Admin\\AppData\\Roaming\\nltk_data...\n",
      "[nltk_data]   Package punkt_tab is already up-to-date!\n",
      "[nltk_data] Downloading package stopwords to\n",
      "[nltk_data]     C:\\Users\\Admin\\AppData\\Roaming\\nltk_data...\n",
      "[nltk_data]   Package stopwords is already up-to-date!\n",
      "[nltk_data] Downloading package wordnet to\n",
      "[nltk_data]     C:\\Users\\Admin\\AppData\\Roaming\\nltk_data...\n",
      "[nltk_data]   Package wordnet is already up-to-date!\n",
      "[nltk_data] Downloading package omw-1.4 to\n",
      "[nltk_data]     C:\\Users\\Admin\\AppData\\Roaming\\nltk_data...\n",
      "[nltk_data]   Package omw-1.4 is already up-to-date!\n",
      "[nltk_data] Downloading package words to\n",
      "[nltk_data]     C:\\Users\\Admin\\AppData\\Roaming\\nltk_data...\n",
      "[nltk_data]   Package words is already up-to-date!\n"
     ]
    },
    {
     "data": {
      "text/plain": [
       "True"
      ]
     },
     "execution_count": 5,
     "metadata": {},
     "output_type": "execute_result"
    }
   ],
   "source": [
    "# Nltk necessary tools \n",
    "nltk.download('punkt')\n",
    "nltk.download(\"punkt_tab\")\n",
    "nltk.download('stopwords') \n",
    "nltk.download('wordnet')\n",
    "nltk.download('omw-1.4') \n",
    "nltk.download('words')"
   ]
  },
  {
   "cell_type": "markdown",
   "id": "b132f414-9c93-41cc-ad20-2f6e0962594e",
   "metadata": {},
   "source": [
    " Downloading  NLTK data resources later to use later: tokenizers, stopwords, WordNet lemmatizer resources, and the Gutenberg corpus.\n",
    "\n",
    "* punkt — required by word_tokenize.\n",
    "\n",
    "* stopwords — provides the English stopword list.\n",
    "\n",
    "* wordnet & omw-1.4 — needed for WordNetLemmatizer."
   ]
  },
  {
   "cell_type": "markdown",
   "id": "a3facfa8-d35e-4874-b536-0727aa97e866",
   "metadata": {},
   "source": [
    "## Data Exploration "
   ]
  },
  {
   "cell_type": "code",
   "execution_count": 8,
   "id": "f9290185-ba36-4917-9b14-1a0656c525ee",
   "metadata": {},
   "outputs": [
    {
     "data": {
      "text/html": [
       "<div>\n",
       "<style scoped>\n",
       "    .dataframe tbody tr th:only-of-type {\n",
       "        vertical-align: middle;\n",
       "    }\n",
       "\n",
       "    .dataframe tbody tr th {\n",
       "        vertical-align: top;\n",
       "    }\n",
       "\n",
       "    .dataframe thead th {\n",
       "        text-align: right;\n",
       "    }\n",
       "</style>\n",
       "<table border=\"1\" class=\"dataframe\">\n",
       "  <thead>\n",
       "    <tr style=\"text-align: right;\">\n",
       "      <th></th>\n",
       "      <th>tweet_text</th>\n",
       "      <th>emotion_in_tweet_is_directed_at</th>\n",
       "      <th>is_there_an_emotion_directed_at_a_brand_or_product</th>\n",
       "    </tr>\n",
       "  </thead>\n",
       "  <tbody>\n",
       "    <tr>\n",
       "      <th>0</th>\n",
       "      <td>.@wesley83 I have a 3G iPhone. After 3 hrs twe...</td>\n",
       "      <td>iPhone</td>\n",
       "      <td>Negative emotion</td>\n",
       "    </tr>\n",
       "    <tr>\n",
       "      <th>1</th>\n",
       "      <td>@jessedee Know about @fludapp ? Awesome iPad/i...</td>\n",
       "      <td>iPad or iPhone App</td>\n",
       "      <td>Positive emotion</td>\n",
       "    </tr>\n",
       "    <tr>\n",
       "      <th>2</th>\n",
       "      <td>@swonderlin Can not wait for #iPad 2 also. The...</td>\n",
       "      <td>iPad</td>\n",
       "      <td>Positive emotion</td>\n",
       "    </tr>\n",
       "    <tr>\n",
       "      <th>3</th>\n",
       "      <td>@sxsw I hope this year's festival isn't as cra...</td>\n",
       "      <td>iPad or iPhone App</td>\n",
       "      <td>Negative emotion</td>\n",
       "    </tr>\n",
       "    <tr>\n",
       "      <th>4</th>\n",
       "      <td>@sxtxstate great stuff on Fri #SXSW: Marissa M...</td>\n",
       "      <td>Google</td>\n",
       "      <td>Positive emotion</td>\n",
       "    </tr>\n",
       "  </tbody>\n",
       "</table>\n",
       "</div>"
      ],
      "text/plain": [
       "                                          tweet_text  \\\n",
       "0  .@wesley83 I have a 3G iPhone. After 3 hrs twe...   \n",
       "1  @jessedee Know about @fludapp ? Awesome iPad/i...   \n",
       "2  @swonderlin Can not wait for #iPad 2 also. The...   \n",
       "3  @sxsw I hope this year's festival isn't as cra...   \n",
       "4  @sxtxstate great stuff on Fri #SXSW: Marissa M...   \n",
       "\n",
       "  emotion_in_tweet_is_directed_at  \\\n",
       "0                          iPhone   \n",
       "1              iPad or iPhone App   \n",
       "2                            iPad   \n",
       "3              iPad or iPhone App   \n",
       "4                          Google   \n",
       "\n",
       "  is_there_an_emotion_directed_at_a_brand_or_product  \n",
       "0                                   Negative emotion  \n",
       "1                                   Positive emotion  \n",
       "2                                   Positive emotion  \n",
       "3                                   Negative emotion  \n",
       "4                                   Positive emotion  "
      ]
     },
     "execution_count": 8,
     "metadata": {},
     "output_type": "execute_result"
    }
   ],
   "source": [
    "# Loading the dataset\n",
    "Tweets_df = pd.read_csv(\"judge-1377884607_tweet_product_company.csv\", encoding = 'latin' )\n",
    "Tweets_df.head()"
   ]
  },
  {
   "cell_type": "markdown",
   "id": "8f9c1a0b-4d6c-4b84-9616-73be338ead86",
   "metadata": {},
   "source": [
    "### Data exploring class"
   ]
  },
  {
   "cell_type": "markdown",
   "id": "6eb743a4-3bab-4512-aee3-6a1a37bdf4d8",
   "metadata": {},
   "source": [
    "* This class consists of:\n",
    "  1. Data overview(basic info about the dataset)\n",
    "  2. Checking of missing values in the dataset, where in column `emotion_in_tweet_is_directed_at` the missing values  counted were 5802, while in     `tweet_text` column  missing vals counted is 1\n",
    "  3. Checking of Duplicates and found 22 of them in number\n",
    "  4. A  barh graph showing the count distribution of tweet sentiments  in the dataset."
   ]
  },
  {
   "cell_type": "code",
   "execution_count": 11,
   "id": "4fa4302d-b8ee-4139-8745-15ca2a84aec8",
   "metadata": {},
   "outputs": [],
   "source": [
    "class Data_exploring:\n",
    "    # A class for exploring and understanding a preloaded tweet dataset.\n",
    "    \n",
    "    def __init__(self, Tweets_df: pd.DataFrame):\n",
    "        # This initializes the dataframe.\n",
    "        self.df = Tweets_df\n",
    "        \n",
    "    def data_overview(self):\n",
    "        # Brings and info / basic summary of the dataset.\n",
    "        print(\"Tweets_df basic overview\")\n",
    "        print(self.df.info())\n",
    "        \n",
    "    def Missing_value_check(self):\n",
    "        # Check for missing values in the data.\n",
    "        print(\"Missing values summary\")\n",
    "        print(self.df.isnull().sum())\n",
    "        \n",
    "    def Duplicated_values_check(self):\n",
    "        # Checks for duplicated values in the dataset.\n",
    "        print(\"Duplicated values summary\")\n",
    "        print(self.df.duplicated().sum())\n",
    "        \n",
    "    def sentiment_distribution(self):\n",
    "        # Analyzes and visualizes the distribution of sentiments.\n",
    "        sentiment_col = 'is_there_an_emotion_directed_at_a_brand_or_product'\n",
    "        \n",
    "        if sentiment_col in self.df.columns:\n",
    "            print('Sentiment column counts')\n",
    "            print(self.df[sentiment_col].value_counts())\n",
    "            \n",
    "            # Visualization\n",
    "            plt.figure(figsize=(7, 5))\n",
    "            sns.countplot(\n",
    "                y=sentiment_col,\n",
    "                data=self.df,\n",
    "                order=self.df[sentiment_col].value_counts().index,\n",
    "                palette=\"viridis\"\n",
    "            )\n",
    "            plt.title(\"Distribution of Tweet Sentiments\")\n",
    "            plt.xlabel(\"Count\")\n",
    "            plt.ylabel(\"Sentiment Type\")\n",
    "            plt.show()\n",
    "        else:\n",
    "            print(f\"Column '{sentiment_col}' not found in dataset.\")\n"
   ]
  },
  {
   "cell_type": "code",
   "execution_count": 12,
   "id": "90bc75c3-1069-49c4-97d6-8d496507bcc1",
   "metadata": {},
   "outputs": [
    {
     "data": {
      "text/plain": [
       "<__main__.Data_exploring at 0x1940a9ff200>"
      ]
     },
     "execution_count": 12,
     "metadata": {},
     "output_type": "execute_result"
    }
   ],
   "source": [
    "# initiating the class \n",
    "EDA = Data_exploring(Tweets_df)\n",
    "EDA"
   ]
  },
  {
   "cell_type": "code",
   "execution_count": 13,
   "id": "7cb6cdad-6b41-4f1b-983e-7a2cd6191594",
   "metadata": {},
   "outputs": [
    {
     "name": "stdout",
     "output_type": "stream",
     "text": [
      "Tweets_df basic overview\n",
      "<class 'pandas.core.frame.DataFrame'>\n",
      "RangeIndex: 9093 entries, 0 to 9092\n",
      "Data columns (total 3 columns):\n",
      " #   Column                                              Non-Null Count  Dtype \n",
      "---  ------                                              --------------  ----- \n",
      " 0   tweet_text                                          9092 non-null   object\n",
      " 1   emotion_in_tweet_is_directed_at                     3291 non-null   object\n",
      " 2   is_there_an_emotion_directed_at_a_brand_or_product  9093 non-null   object\n",
      "dtypes: object(3)\n",
      "memory usage: 213.2+ KB\n",
      "None\n"
     ]
    }
   ],
   "source": [
    "EDA.data_overview()"
   ]
  },
  {
   "cell_type": "code",
   "execution_count": 14,
   "id": "b3563908-fd95-40e2-830d-e9328f60a7d1",
   "metadata": {},
   "outputs": [
    {
     "name": "stdout",
     "output_type": "stream",
     "text": [
      "Missing values summary\n",
      "tweet_text                                               1\n",
      "emotion_in_tweet_is_directed_at                       5802\n",
      "is_there_an_emotion_directed_at_a_brand_or_product       0\n",
      "dtype: int64\n"
     ]
    }
   ],
   "source": [
    "#  Missing values\n",
    "EDA.Missing_value_check()"
   ]
  },
  {
   "cell_type": "code",
   "execution_count": 15,
   "id": "09f075e5-93b8-4778-a67c-09c87e0da75b",
   "metadata": {},
   "outputs": [
    {
     "name": "stdout",
     "output_type": "stream",
     "text": [
      "Duplicated values summary\n",
      "22\n"
     ]
    }
   ],
   "source": [
    "# Duplicate values\n",
    "EDA.Duplicated_values_check()"
   ]
  },
  {
   "cell_type": "code",
   "execution_count": 16,
   "id": "fb08719a-8ceb-49ed-98be-5a0688ca45e6",
   "metadata": {},
   "outputs": [
    {
     "name": "stdout",
     "output_type": "stream",
     "text": [
      "Sentiment column counts\n",
      "is_there_an_emotion_directed_at_a_brand_or_product\n",
      "No emotion toward brand or product    5389\n",
      "Positive emotion                      2978\n",
      "Negative emotion                       570\n",
      "I can't tell                           156\n",
      "Name: count, dtype: int64\n"
     ]
    },
    {
     "data": {
      "image/png": "[encoded data removed]",
      "text/plain": [
       "<Figure size 700x500 with 1 Axes>"
      ]
     },
     "metadata": {},
     "output_type": "display_data"
    }
   ],
   "source": [
    "# Distribution of tweet sentiments\n",
    "EDA.sentiment_distribution()"
   ]
  },
  {
   "cell_type": "markdown",
   "id": "15abf3e1-b276-4a6d-b5fa-0f272928e877",
   "metadata": {},
   "source": [
    "*  According to the  diagram above the highest sentiment is `no emotion toward the brand or product` followed by `positive emotion`.\n",
    "*  This will be our target variable, and it requires  cleaning into 3 categories (positive, negative, neutral/no emotion)\n",
    "* The dataset needs further cleaning since, it has  22(duplicates), the `emotion_in_tweet_is_directed_at` columns as 5802 missing values and the`tweet_text` test has 1 missing value.\n",
    "*  So far, the data cannot be used for modelling since it's not ready. Let's implement the cleaning and preprocessing methods to make it fit for modelling. "
   ]
  },
  {
   "cell_type": "markdown",
   "id": "0dc164e4-7ae2-4233-a614-790d0687f379",
   "metadata": {},
   "source": [
    "## Data Cleaning and preprocessing."
   ]
  },
  {
   "cell_type": "markdown",
   "id": "a0b4149a-17e1-44e5-83e4-5261d8252f32",
   "metadata": {},
   "source": [
    "### Data cleaning class and preprocessing class"
   ]
  },
  {
   "cell_type": "markdown",
   "id": "1be7cee8-b8d9-45e7-bae1-cbeb94d22d4a",
   "metadata": {},
   "source": [
    "* This class contains:\n",
    "*  **Basic cleaning**\n",
    " 1.  The removal of duplicates processes from the dataframe\n",
    " 2.  Filling of missing values  by  dropping subset row with  missing value and using a placeholder **Unknown**.\n",
    "*  **Text preprocessing**\n",
    "* 3. cleaning text by removing the non-word items like(#, @, !!, etc)\n",
    "  4. Tokenize text by changing sentences into sepearte words.\n",
    "  5. removing stopwords\n",
    "  6. and lemmatizing the tokens\n",
    "* **Visualization**\n",
    "* 7. A histogram plotting the tweet length distribution.\n",
    "  8. A bar graph plotting the  the word frequency distribution."
   ]
  },
  {
   "cell_type": "code",
   "execution_count": 21,
   "id": "559143a5-25ac-405b-935d-d5e2bd19ef32",
   "metadata": {},
   "outputs": [],
   "source": [
    "# corrected version.\n",
    "class Data_cleaning_and_preprocessing:\n",
    "    \n",
    "    def __init__(self, Tweets_df: pd.DataFrame, text_column: str, brand_column: str = None, sentiment_column: str = None):\n",
    "        self.df = Tweets_df.copy()\n",
    "        self.text_column = text_column\n",
    "        self.brand_column = brand_column\n",
    "        self.sentiment_column = sentiment_column\n",
    "        self.lemmatizer = WordNetLemmatizer()\n",
    "        self.stop_words = set(stopwords.words(\"english\"))\n",
    "\n",
    "        # Filler or meaningless short tokens\n",
    "        self.meaningless_words = {\n",
    "            'rt', 'via', 'amp', 'im', 'u', 'ur', 'lol', 'dont', 'cant', 'ok',\n",
    "            'yeah', 'ha', 'hmm', 'ah', 'ya', 'idk', 'na', 'omg', 'gt', 'lt'\n",
    "        }\n",
    "\n",
    "        # English dictionary\n",
    "        self.english_vocab = set(w.lower() for w in words.words())\n",
    "        self.allowed_custom = {'ipad', 'iphone', 'google', 'android', 'mac', 'ios', 'app', 'tweet', 'sxsw'}\n",
    "\n",
    "    # ------------ BASIC CLEANING ----------------\n",
    "\n",
    "    def remove_duplicates(self):\n",
    "        self.df.drop_duplicates(inplace=True)\n",
    "        print(\"Duplicates removed:\", not self.df.duplicated().any())\n",
    "\n",
    "    def handling_missing_values(self, text_column, sec_column=None):\n",
    "        before = len(self.df)\n",
    "        self.df = self.df.dropna(subset=[text_column])\n",
    "        if sec_column:\n",
    "            self.df[sec_column] = self.df[sec_column].fillna(\"Unknown\")\n",
    "        after = len(self.df)\n",
    "        print(f\"Missing values handled — {before - after} rows dropped, rest filled.\")\n",
    "\n",
    "    # ------------ TEXT PREPROCESSING --------------\n",
    "\n",
    "    def Clean_text(self, text_column):\n",
    "        def clean(tweet):\n",
    "            tweet = tweet.lower().strip()\n",
    "            tweet = re.sub(r\"http\\S+|www\\S+|https\\S+\", '', tweet)   # URLs\n",
    "            tweet = re.sub(r\"@\\w+\", '', tweet)                      # Mentions\n",
    "            tweet = re.sub(r\"#\", '', tweet)                         # Hashtags\n",
    "            tweet = re.sub(r\"[^a-z\\s]\", '', tweet)                  # Non-letters\n",
    "            tweet = re.sub(r\"\\s+\", \" \", tweet)                      # Extra spaces\n",
    "            return tweet\n",
    "\n",
    "        self.df[text_column] = self.df[text_column].apply(clean)\n",
    "        print(\"Cleaning text complete.\")\n",
    "        print(\"Example cleaned text (index 0):\", self.df[text_column].iloc[0])\n",
    "\n",
    "    def tokenize_text(self):\n",
    "        print(\"Tokenizing tweets...\")\n",
    "        self.df['tokens'] = self.df[self.text_column].apply(lambda x: word_tokenize(x))\n",
    "        print(\"Tokenization complete.\")\n",
    "        print(\"Example tokenized text (index 0):\", self.df['tokens'].iloc[0])\n",
    "\n",
    "    def remove_stopwords(self):\n",
    "        print(\"Removing stopwords and meaningless tokens...\")\n",
    "        before = self.df['tokens'].apply(len).sum()\n",
    "\n",
    "        self.df['tokens'] = self.df['tokens'].apply(\n",
    "            lambda x: [\n",
    "                word for word in x\n",
    "                if word.isalpha()\n",
    "                and word not in self.stop_words\n",
    "                and word not in self.meaningless_words\n",
    "            ]\n",
    "        )\n",
    "\n",
    "        after = self.df['tokens'].apply(len).sum()\n",
    "        print(f\"Stopword removal complete. {before - after:,} tokens removed.\")\n",
    "        print(\"Example tokens after cleaning (index 0):\", self.df['tokens'].iloc[0])\n",
    "\n",
    "    def lemmatize_tokens(self):\n",
    "        print(\"Lemmatizing tokens...\")\n",
    "        self.df['tokens'] = self.df['tokens'].apply(\n",
    "            lambda x: [self.lemmatizer.lemmatize(word) for word in x]\n",
    "        )\n",
    "        print(\"Lemmatization complete.\")\n",
    "        print(\"Example lemmatized tokens (index 0):\", self.df['tokens'].iloc[0])\n",
    "\n",
    "    def remove_non_english_tokens(self):\n",
    "        \"\"\"\n",
    "        Removes tokens that are not valid English words (unless in custom tech list).\n",
    "        Keeps all word lengths — no cutoff on short words.\n",
    "        \"\"\"\n",
    "        print(\"Removing non-English or nonsensical words (keeping short valid ones)...\")\n",
    "        before = self.df['tokens'].apply(len).sum()\n",
    "\n",
    "        self.df['tokens'] = self.df['tokens'].apply(\n",
    "            lambda x: [\n",
    "                word for word in x\n",
    "                if (word in self.english_vocab or word in self.allowed_custom)\n",
    "            ]\n",
    "        )\n",
    "\n",
    "        after = self.df['tokens'].apply(len).sum()\n",
    "        print(f\"Non-English tokens removed. {before - after:,} tokens deleted.\")\n",
    "        print(\"Example cleaned tokens (index 0):\", self.df['tokens'].iloc[0])\n",
    "\n",
    "    # ------------ VISUALIZATIONS ----------------\n",
    "\n",
    "    def plot_tweet_length_distribution(self):\n",
    "        self.df['tweet_length'] = self.df[self.text_column].apply(len)\n",
    "        plt.figure(figsize=(10, 6))\n",
    "        sns.histplot(self.df['tweet_length'], bins=30, kde=True, color=\"green\")\n",
    "        plt.title(\"Distribution of Tweet Lengths (with KDE)\")\n",
    "        plt.xlabel(\"Tweet Length (characters)\")\n",
    "        plt.ylabel(\"Frequency\")\n",
    "        plt.show()\n",
    "\n",
    "    def plot_word_frequency(self, top_n=20):\n",
    "        all_words = [word for tokens in self.df['tokens'] for word in tokens]\n",
    "        common_words = Counter(all_words).most_common(top_n)\n",
    "        freq_df = pd.DataFrame(common_words, columns=['Word', 'Frequency'])\n",
    "        plt.figure(figsize=(10, 6))\n",
    "        sns.barplot(data=freq_df, x='Frequency', y='Word', palette='viridis')\n",
    "        plt.title(f\"Top {top_n} Most Frequent Words After Cleaning\")\n",
    "        plt.show()\n",
    "\n",
    "    # ------------ EXPORT CLEAN DATA ---------------\n",
    "\n",
    "    def get_processed_data(self):\n",
    "        return self.df\n"
   ]
  },
  {
   "cell_type": "code",
   "execution_count": 22,
   "id": "11d7add9-711f-46db-8504-8147f97f563a",
   "metadata": {},
   "outputs": [],
   "source": [
    "# set the class in use \n",
    "cleaner = Data_cleaning_and_preprocessing(\n",
    "    Tweets_df= Tweets_df,\n",
    "    text_column='tweet_text',\n",
    "    brand_column='emotion_in_tweet_is_directed_at',\n",
    "    sentiment_column='is_there_an_emotion_directed_at_a_brand_or_product'\n",
    ")\n"
   ]
  },
  {
   "cell_type": "code",
   "execution_count": 23,
   "id": "ffb2fe90-ad1f-4844-aa31-0377ca1f1929",
   "metadata": {},
   "outputs": [
    {
     "name": "stdout",
     "output_type": "stream",
     "text": [
      "Duplicates removed: True\n"
     ]
    }
   ],
   "source": [
    "# handling duplicates\n",
    "cleaner.remove_duplicates()"
   ]
  },
  {
   "cell_type": "code",
   "execution_count": 24,
   "id": "41c47144-00fd-43c9-bf69-f78c6d6defbb",
   "metadata": {},
   "outputs": [
    {
     "name": "stdout",
     "output_type": "stream",
     "text": [
      "Missing values handled — 1 rows dropped, rest filled.\n"
     ]
    }
   ],
   "source": [
    "# handling missing val\n",
    "cleaner.handling_missing_values(text_column='tweet_text', sec_column='emotion_in_tweet_is_directed_at')\n"
   ]
  },
  {
   "cell_type": "code",
   "execution_count": 25,
   "id": "33d5c7ed-d36f-4b17-8ac5-d826bb3de14f",
   "metadata": {},
   "outputs": [
    {
     "name": "stdout",
     "output_type": "stream",
     "text": [
      "Cleaning text complete.\n",
      "Example cleaned text (index 0):  i have a g iphone after hrs tweeting at riseaustin it was dead i need to upgrade plugin stations at sxsw\n"
     ]
    }
   ],
   "source": [
    "# make the texts lowercase and remove non-words\n",
    "cleaner.Clean_text(\"tweet_text\")\n"
   ]
  },
  {
   "cell_type": "code",
   "execution_count": 26,
   "id": "097df0fe-b212-4ed8-8e63-c8fe042a7435",
   "metadata": {},
   "outputs": [
    {
     "name": "stdout",
     "output_type": "stream",
     "text": [
      "Tokenizing tweets...\n",
      "Tokenization complete.\n",
      "Example tokenized text (index 0): ['i', 'have', 'a', 'g', 'iphone', 'after', 'hrs', 'tweeting', 'at', 'riseaustin', 'it', 'was', 'dead', 'i', 'need', 'to', 'upgrade', 'plugin', 'stations', 'at', 'sxsw']\n"
     ]
    }
   ],
   "source": [
    "# Tokenize the data\n",
    "cleaner.tokenize_text()\n"
   ]
  },
  {
   "cell_type": "code",
   "execution_count": 27,
   "id": "b5e305a8-5047-4f1e-8635-c1f1a7ce8d00",
   "metadata": {},
   "outputs": [
    {
     "name": "stdout",
     "output_type": "stream",
     "text": [
      "Removing stopwords and meaningless tokens...\n",
      "Stopword removal complete. 52,449 tokens removed.\n",
      "Example tokens after cleaning (index 0): ['g', 'iphone', 'hrs', 'tweeting', 'riseaustin', 'dead', 'need', 'upgrade', 'plugin', 'stations', 'sxsw']\n"
     ]
    }
   ],
   "source": [
    "# remove stop words \n",
    "cleaner.remove_stopwords()\n"
   ]
  },
  {
   "cell_type": "code",
   "execution_count": 28,
   "id": "ab200a81-4add-4bb7-a89b-abb9ba690c63",
   "metadata": {},
   "outputs": [
    {
     "name": "stdout",
     "output_type": "stream",
     "text": [
      "Lemmatizing tokens...\n",
      "Lemmatization complete.\n",
      "Example lemmatized tokens (index 0): ['g', 'iphone', 'hr', 'tweeting', 'riseaustin', 'dead', 'need', 'upgrade', 'plugin', 'station', 'sxsw']\n"
     ]
    }
   ],
   "source": [
    "# lemmatize  the tokens\n",
    "cleaner.lemmatize_tokens()"
   ]
  },
  {
   "cell_type": "code",
   "execution_count": 29,
   "id": "6ab9310f-17f2-4816-8eb8-998da34e52a4",
   "metadata": {},
   "outputs": [
    {
     "name": "stdout",
     "output_type": "stream",
     "text": [
      "Removing non-English or nonsensical words (keeping short valid ones)...\n",
      "Non-English tokens removed. 17,238 tokens deleted.\n",
      "Example cleaned tokens (index 0): ['g', 'iphone', 'dead', 'need', 'upgrade', 'station', 'sxsw']\n"
     ]
    }
   ],
   "source": [
    "cleaner.remove_non_english_tokens()"
   ]
  },
  {
   "cell_type": "markdown",
   "id": "46f8622d-aabe-4057-9de1-bbe57aea52a5",
   "metadata": {},
   "source": [
    "## Visualizations\n",
    "\n",
    "\n",
    "### Bivariate and Multivariate analysis mostly in action"
   ]
  },
  {
   "cell_type": "code",
   "execution_count": 31,
   "id": "68a33669-5985-46af-8f7b-1e53f7a32c93",
   "metadata": {},
   "outputs": [
    {
     "data": {
      "image/png": "[encoded data removed]",
      "text/plain": [
       "<Figure size 1000x600 with 1 Axes>"
      ]
     },
     "metadata": {},
     "output_type": "display_data"
    }
   ],
   "source": [
    "# A hist plot showing the length of the tweets.\n",
    "cleaner.plot_tweet_length_distribution()"
   ]
  },
  {
   "cell_type": "markdown",
   "id": "7828acaf-d873-4de1-af7c-e99fe13b30cb",
   "metadata": {},
   "source": [
    "* The distribution of tweets lengths is slightly right-skewed, indicating that most tweets are moderately short(between 80 - 120 characters)\n",
    "* This explains that twitter users  often express opinions concisely but occasionally write longer posts when elaborating on product experiences.\n"
   ]
  },
  {
   "cell_type": "code",
   "execution_count": 33,
   "id": "08bbb0e3-3510-4231-abd6-26b3da211475",
   "metadata": {},
   "outputs": [
    {
     "data": {
      "image/png": "[encoded data removed]",
      "text/plain": [
       "<Figure size 1000x600 with 1 Axes>"
      ]
     },
     "metadata": {},
     "output_type": "display_data"
    }
   ],
   "source": [
    "# A bar plot showing the word frequency\n",
    "from collections import Counter\n",
    "cleaner.plot_word_frequency(top_n=15)\n"
   ]
  },
  {
   "cell_type": "markdown",
   "id": "255d96aa-aef6-4dca-a4ac-46dd328ca6a6",
   "metadata": {},
   "source": [
    "* According to this bar plot, the data shows   to 20 common words that appear on the tokens. some of these words.\n",
    "* some of the words like sxsw, link, rt, amp,sxswi  should be cleaned out ..."
   ]
  },
  {
   "cell_type": "code",
   "execution_count": 35,
   "id": "5d9cd20b-ecf6-4d2a-a3b8-a39cf7249f78",
   "metadata": {},
   "outputs": [
    {
     "data": {
      "text/html": [
       "<div>\n",
       "<style scoped>\n",
       "    .dataframe tbody tr th:only-of-type {\n",
       "        vertical-align: middle;\n",
       "    }\n",
       "\n",
       "    .dataframe tbody tr th {\n",
       "        vertical-align: top;\n",
       "    }\n",
       "\n",
       "    .dataframe thead th {\n",
       "        text-align: right;\n",
       "    }\n",
       "</style>\n",
       "<table border=\"1\" class=\"dataframe\">\n",
       "  <thead>\n",
       "    <tr style=\"text-align: right;\">\n",
       "      <th></th>\n",
       "      <th>tweet_text</th>\n",
       "      <th>emotion_in_tweet_is_directed_at</th>\n",
       "      <th>is_there_an_emotion_directed_at_a_brand_or_product</th>\n",
       "      <th>tokens</th>\n",
       "      <th>tweet_length</th>\n",
       "    </tr>\n",
       "  </thead>\n",
       "  <tbody>\n",
       "    <tr>\n",
       "      <th>0</th>\n",
       "      <td>i have a g iphone after hrs tweeting at risea...</td>\n",
       "      <td>iPhone</td>\n",
       "      <td>Negative emotion</td>\n",
       "      <td>[g, iphone, dead, need, upgrade, station, sxsw]</td>\n",
       "      <td>105</td>\n",
       "    </tr>\n",
       "    <tr>\n",
       "      <th>1</th>\n",
       "      <td>know about awesome ipadiphone app that youll ...</td>\n",
       "      <td>iPad or iPhone App</td>\n",
       "      <td>Positive emotion</td>\n",
       "      <td>[know, awesome, app, likely, appreciate, desig...</td>\n",
       "      <td>113</td>\n",
       "    </tr>\n",
       "    <tr>\n",
       "      <th>2</th>\n",
       "      <td>can not wait for ipad also they should sale t...</td>\n",
       "      <td>iPad</td>\n",
       "      <td>Positive emotion</td>\n",
       "      <td>[wait, ipad, also, sale, sxsw]</td>\n",
       "      <td>62</td>\n",
       "    </tr>\n",
       "  </tbody>\n",
       "</table>\n",
       "</div>"
      ],
      "text/plain": [
       "                                          tweet_text  \\\n",
       "0   i have a g iphone after hrs tweeting at risea...   \n",
       "1   know about awesome ipadiphone app that youll ...   \n",
       "2   can not wait for ipad also they should sale t...   \n",
       "\n",
       "  emotion_in_tweet_is_directed_at  \\\n",
       "0                          iPhone   \n",
       "1              iPad or iPhone App   \n",
       "2                            iPad   \n",
       "\n",
       "  is_there_an_emotion_directed_at_a_brand_or_product  \\\n",
       "0                                   Negative emotion   \n",
       "1                                   Positive emotion   \n",
       "2                                   Positive emotion   \n",
       "\n",
       "                                              tokens  tweet_length  \n",
       "0    [g, iphone, dead, need, upgrade, station, sxsw]           105  \n",
       "1  [know, awesome, app, likely, appreciate, desig...           113  \n",
       "2                     [wait, ipad, also, sale, sxsw]            62  "
      ]
     },
     "execution_count": 35,
     "metadata": {},
     "output_type": "execute_result"
    }
   ],
   "source": [
    "# Dataset Half way cleaned \n",
    "processed_df = cleaner.get_processed_data()\n",
    "processed_df.head(3)"
   ]
  },
  {
   "cell_type": "markdown",
   "id": "21fb6c6f-86ef-4dfe-b15b-b01589350376",
   "metadata": {},
   "source": [
    "* **The data looks better form the previous one. We now have to do some feature engineering that  will lead to more cleaning of this dataframe.**  "
   ]
  },
  {
   "cell_type": "markdown",
   "id": "ae1473fd-fedc-41db-897b-063cf31d7787",
   "metadata": {},
   "source": [
    "## Feature engineering"
   ]
  },
  {
   "cell_type": "markdown",
   "id": "cb39dc3b-515e-4e36-b486-657ffab59eed",
   "metadata": {},
   "source": [
    "### Feature engineering class:\n",
    "* This class contains the Mapping of sentiments to three categories,  which are (`Positive_emotion`, `Negative_emotion`, `Neutral/No_emotion`).\n",
    "* It also contains the brand mapping  of the `emotion_in_tweet_is_directed_at` column  for more clarity.\n",
    "* It also contains visuals of the actions taken."
   ]
  },
  {
   "cell_type": "code",
   "execution_count": 39,
   "id": "3cf139f6-267f-4414-85c6-2f996f1e4a8d",
   "metadata": {},
   "outputs": [
    {
     "data": {
      "text/plain": [
       "emotion_in_tweet_is_directed_at\n",
       "Unknown                            5788\n",
       "iPad                                945\n",
       "Apple                               659\n",
       "iPad or iPhone App                  469\n",
       "Google                              428\n",
       "iPhone                              296\n",
       "Other Google product or service     293\n",
       "Android App                          80\n",
       "Android                              77\n",
       "Other Apple product or service       35\n",
       "Name: count, dtype: int64"
      ]
     },
     "execution_count": 39,
     "metadata": {},
     "output_type": "execute_result"
    }
   ],
   "source": [
    "processed_df['emotion_in_tweet_is_directed_at'].value_counts()"
   ]
  },
  {
   "cell_type": "code",
   "execution_count": 40,
   "id": "5b7d9dec-6ee8-41b9-ae9b-1ead5040e21f",
   "metadata": {},
   "outputs": [],
   "source": [
    "class Feature_Engineering:\n",
    "    \n",
    "    def __init__(self, df: pd.DataFrame, text_col: str, brand_col: str, sentiment_col: str):\n",
    "        self.df = df.copy()\n",
    "        self.text_col = text_col\n",
    "        self.brand_col = brand_col\n",
    "        self.sentiment_col = sentiment_col\n",
    "\n",
    "    # Sentiment Mapping\n",
    "    def map_sentiments(self):\n",
    "        sentiment_mapping = {\n",
    "            'Positive emotion': 'Positive',\n",
    "            'Negative emotion': 'Negative',\n",
    "            \"I can't tell\": 'Neutral/No emotion',\n",
    "            'No emotion toward brand or product': 'Neutral/No emotion'\n",
    "        }\n",
    "        self.df['mapped_sentiment'] = self.df[self.sentiment_col].map(sentiment_mapping)\n",
    "        print(\"Sentiment mapping complete....\")\n",
    "        display(self.df[[self.sentiment_col, 'mapped_sentiment']].head(10))\n",
    "\n",
    "    # Brand Mapping\n",
    "    def map_brands(self):\n",
    "        brand_mapping = {\n",
    "            'iPad': 'Apple',\n",
    "            'Apple': 'Apple',\n",
    "            'iPad or iPhone App': 'Apple',\n",
    "            'iPhone': 'Apple',\n",
    "            'Other Apple product or service': 'Apple',\n",
    "            'Google': 'Google',\n",
    "            'Other Google product or service': 'Google',\n",
    "            'Android App': 'Google',\n",
    "            'Android': 'Google',\n",
    "            'Unknown': 'Unknown'\n",
    "        }\n",
    "        # clean and normalize before mapping\n",
    "        self.df[self.brand_col] = self.df[self.brand_col].astype(str).str.strip()\n",
    "        # map\n",
    "        self.df['mapped_brand'] = self.df[self.brand_col].map(brand_mapping)\n",
    "        \n",
    "        print(\"Brand mapping complete.\")\n",
    "        print(\"Brand distribution after mapping:\")\n",
    "        print(self.df['mapped_brand'].value_counts())\n",
    "        \n",
    "        display(self.df[[self.brand_col, 'mapped_brand']].head(10))\n",
    "        \n",
    "\n",
    "    # Text Feature Visualizations\n",
    "\n",
    "    # Sentiment & Brand Visualizations\n",
    "    def plot_sentiment_distribution(self):\n",
    "        plt.figure(figsize=(11, 6))\n",
    "        sns.countplot(data=self.df, x='mapped_sentiment', order=self.df['mapped_sentiment'].value_counts().index)\n",
    "        plt.title(\"Distribution of Sentiment Categories\")\n",
    "        plt.xlabel(\"Sentiment Type\")\n",
    "        plt.ylabel(\"Tweet Count\")\n",
    "        plt.show()\n",
    "\n",
    "    def plot_brand_distribution(self):\n",
    "        plt.figure(figsize=(10, 6))\n",
    "        sns.countplot(data=self.df, x='mapped_brand', order=self.df['mapped_brand'].value_counts().index)\n",
    "        plt.title(\"Distribution of Brand Mentions (Apple vs Google)\")\n",
    "        plt.xlabel(\"Brand\")\n",
    "        plt.ylabel(\"Tweet Count\")\n",
    "        plt.show()\n",
    "\n",
    "    # Combined Brand vs Sentiment Plot\n",
    "    def plot_brand_sentiment_comparison(self):\n",
    "        \"\"\"Compare brand mentions by sentiment category.\"\"\"\n",
    "        plt.figure(figsize=(10, 6))\n",
    "        sns.countplot(data=self.df, x='mapped_brand', hue='mapped_sentiment', palette='cool')\n",
    "        plt.title(\"Brand Mentions by Sentiment (Apple vs Google)\")\n",
    "        plt.xlabel(\"Brand\")\n",
    "        plt.ylabel(\"Count\")\n",
    "        plt.legend(title=\"Sentiment\")\n",
    "        plt.show()\n",
    "        #having removed the Unknown category\n",
    "    def plot_brand_sentiment_comparison_no_Unknown(self):\n",
    "\n",
    "        filtered_df = self.df[self.df['mapped_brand'] != 'Unknown']\n",
    "        plt.figure(figsize=(10, 6))\n",
    "        sns.countplot(\n",
    "        data=filtered_df,\n",
    "        x='mapped_brand',\n",
    "        hue='mapped_sentiment',\n",
    "        palette='cool'\n",
    "        )\n",
    "        plt.title(\"Brand Mentions by Sentiment (Apple vs Google)\")\n",
    "        plt.xlabel(\"Brand\")\n",
    "        plt.ylabel(\"Count\")\n",
    "        plt.legend(title=\"Sentiment\")\n",
    "        plt.show()\n",
    "\n",
    "    # Return processed data\n",
    "    def get_features(self):\n",
    "        # Return the processed DataFrame for modeling.\n",
    "        return self.df\n"
   ]
  },
  {
   "cell_type": "code",
   "execution_count": 41,
   "id": "5555a5ee-30f0-4ad2-888d-f7464fa2ecb6",
   "metadata": {},
   "outputs": [],
   "source": [
    "# Class in use \n",
    "# Initialize the class\n",
    "features = Feature_Engineering(\n",
    "    df=cleaner.get_processed_data(),\n",
    "    text_col='tweet_text',\n",
    "    brand_col='emotion_in_tweet_is_directed_at',\n",
    "    sentiment_col='is_there_an_emotion_directed_at_a_brand_or_product'\n",
    ")\n"
   ]
  },
  {
   "cell_type": "code",
   "execution_count": 42,
   "id": "96cdd0af-4dae-4f6a-8445-07932691871c",
   "metadata": {},
   "outputs": [
    {
     "name": "stdout",
     "output_type": "stream",
     "text": [
      "Sentiment mapping complete....\n"
     ]
    },
    {
     "data": {
      "text/html": [
       "<div>\n",
       "<style scoped>\n",
       "    .dataframe tbody tr th:only-of-type {\n",
       "        vertical-align: middle;\n",
       "    }\n",
       "\n",
       "    .dataframe tbody tr th {\n",
       "        vertical-align: top;\n",
       "    }\n",
       "\n",
       "    .dataframe thead th {\n",
       "        text-align: right;\n",
       "    }\n",
       "</style>\n",
       "<table border=\"1\" class=\"dataframe\">\n",
       "  <thead>\n",
       "    <tr style=\"text-align: right;\">\n",
       "      <th></th>\n",
       "      <th>is_there_an_emotion_directed_at_a_brand_or_product</th>\n",
       "      <th>mapped_sentiment</th>\n",
       "    </tr>\n",
       "  </thead>\n",
       "  <tbody>\n",
       "    <tr>\n",
       "      <th>0</th>\n",
       "      <td>Negative emotion</td>\n",
       "      <td>Negative</td>\n",
       "    </tr>\n",
       "    <tr>\n",
       "      <th>1</th>\n",
       "      <td>Positive emotion</td>\n",
       "      <td>Positive</td>\n",
       "    </tr>\n",
       "    <tr>\n",
       "      <th>2</th>\n",
       "      <td>Positive emotion</td>\n",
       "      <td>Positive</td>\n",
       "    </tr>\n",
       "    <tr>\n",
       "      <th>3</th>\n",
       "      <td>Negative emotion</td>\n",
       "      <td>Negative</td>\n",
       "    </tr>\n",
       "    <tr>\n",
       "      <th>4</th>\n",
       "      <td>Positive emotion</td>\n",
       "      <td>Positive</td>\n",
       "    </tr>\n",
       "    <tr>\n",
       "      <th>5</th>\n",
       "      <td>No emotion toward brand or product</td>\n",
       "      <td>Neutral/No emotion</td>\n",
       "    </tr>\n",
       "    <tr>\n",
       "      <th>7</th>\n",
       "      <td>Positive emotion</td>\n",
       "      <td>Positive</td>\n",
       "    </tr>\n",
       "    <tr>\n",
       "      <th>8</th>\n",
       "      <td>Positive emotion</td>\n",
       "      <td>Positive</td>\n",
       "    </tr>\n",
       "    <tr>\n",
       "      <th>9</th>\n",
       "      <td>Positive emotion</td>\n",
       "      <td>Positive</td>\n",
       "    </tr>\n",
       "    <tr>\n",
       "      <th>10</th>\n",
       "      <td>Positive emotion</td>\n",
       "      <td>Positive</td>\n",
       "    </tr>\n",
       "  </tbody>\n",
       "</table>\n",
       "</div>"
      ],
      "text/plain": [
       "   is_there_an_emotion_directed_at_a_brand_or_product    mapped_sentiment\n",
       "0                                    Negative emotion            Negative\n",
       "1                                    Positive emotion            Positive\n",
       "2                                    Positive emotion            Positive\n",
       "3                                    Negative emotion            Negative\n",
       "4                                    Positive emotion            Positive\n",
       "5                  No emotion toward brand or product  Neutral/No emotion\n",
       "7                                    Positive emotion            Positive\n",
       "8                                    Positive emotion            Positive\n",
       "9                                    Positive emotion            Positive\n",
       "10                                   Positive emotion            Positive"
      ]
     },
     "metadata": {},
     "output_type": "display_data"
    }
   ],
   "source": [
    "# Run transformation\n",
    "# Sentiment mappings \n",
    "features.map_sentiments()\n"
   ]
  },
  {
   "cell_type": "code",
   "execution_count": 43,
   "id": "5c76c355-3bce-4dd5-912b-97fc2e570863",
   "metadata": {},
   "outputs": [
    {
     "name": "stdout",
     "output_type": "stream",
     "text": [
      "Brand mapping complete.\n",
      "Brand distribution after mapping:\n",
      "mapped_brand\n",
      "Unknown    5788\n",
      "Apple      2404\n",
      "Google      878\n",
      "Name: count, dtype: int64\n"
     ]
    },
    {
     "data": {
      "text/html": [
       "<div>\n",
       "<style scoped>\n",
       "    .dataframe tbody tr th:only-of-type {\n",
       "        vertical-align: middle;\n",
       "    }\n",
       "\n",
       "    .dataframe tbody tr th {\n",
       "        vertical-align: top;\n",
       "    }\n",
       "\n",
       "    .dataframe thead th {\n",
       "        text-align: right;\n",
       "    }\n",
       "</style>\n",
       "<table border=\"1\" class=\"dataframe\">\n",
       "  <thead>\n",
       "    <tr style=\"text-align: right;\">\n",
       "      <th></th>\n",
       "      <th>emotion_in_tweet_is_directed_at</th>\n",
       "      <th>mapped_brand</th>\n",
       "    </tr>\n",
       "  </thead>\n",
       "  <tbody>\n",
       "    <tr>\n",
       "      <th>0</th>\n",
       "      <td>iPhone</td>\n",
       "      <td>Apple</td>\n",
       "    </tr>\n",
       "    <tr>\n",
       "      <th>1</th>\n",
       "      <td>iPad or iPhone App</td>\n",
       "      <td>Apple</td>\n",
       "    </tr>\n",
       "    <tr>\n",
       "      <th>2</th>\n",
       "      <td>iPad</td>\n",
       "      <td>Apple</td>\n",
       "    </tr>\n",
       "    <tr>\n",
       "      <th>3</th>\n",
       "      <td>iPad or iPhone App</td>\n",
       "      <td>Apple</td>\n",
       "    </tr>\n",
       "    <tr>\n",
       "      <th>4</th>\n",
       "      <td>Google</td>\n",
       "      <td>Google</td>\n",
       "    </tr>\n",
       "    <tr>\n",
       "      <th>5</th>\n",
       "      <td>Unknown</td>\n",
       "      <td>Unknown</td>\n",
       "    </tr>\n",
       "    <tr>\n",
       "      <th>7</th>\n",
       "      <td>Android</td>\n",
       "      <td>Google</td>\n",
       "    </tr>\n",
       "    <tr>\n",
       "      <th>8</th>\n",
       "      <td>iPad or iPhone App</td>\n",
       "      <td>Apple</td>\n",
       "    </tr>\n",
       "    <tr>\n",
       "      <th>9</th>\n",
       "      <td>Apple</td>\n",
       "      <td>Apple</td>\n",
       "    </tr>\n",
       "    <tr>\n",
       "      <th>10</th>\n",
       "      <td>Android</td>\n",
       "      <td>Google</td>\n",
       "    </tr>\n",
       "  </tbody>\n",
       "</table>\n",
       "</div>"
      ],
      "text/plain": [
       "   emotion_in_tweet_is_directed_at mapped_brand\n",
       "0                           iPhone        Apple\n",
       "1               iPad or iPhone App        Apple\n",
       "2                             iPad        Apple\n",
       "3               iPad or iPhone App        Apple\n",
       "4                           Google       Google\n",
       "5                          Unknown      Unknown\n",
       "7                          Android       Google\n",
       "8               iPad or iPhone App        Apple\n",
       "9                            Apple        Apple\n",
       "10                         Android       Google"
      ]
     },
     "metadata": {},
     "output_type": "display_data"
    }
   ],
   "source": [
    "# Brand mapping \n",
    "features.map_brands()\n"
   ]
  },
  {
   "cell_type": "markdown",
   "id": "b8ef1a15-442d-4678-a554-f7bd783d526e",
   "metadata": {},
   "source": [
    "## Visualize "
   ]
  },
  {
   "cell_type": "code",
   "execution_count": 45,
   "id": "6c943777-2383-49c8-b31d-aa81c15469e4",
   "metadata": {},
   "outputs": [
    {
     "data": {
      "image/png": "[encoded data removed]",
      "text/plain": [
       "<Figure size 1100x600 with 1 Axes>"
      ]
     },
     "metadata": {},
     "output_type": "display_data"
    }
   ],
   "source": [
    "# sentiment Mapping visualization\n",
    "features.plot_sentiment_distribution()\n"
   ]
  },
  {
   "cell_type": "markdown",
   "id": "40f60786-4f9a-4f06-87eb-3f67d225ab41",
   "metadata": {},
   "source": [
    "*  our target variable seems  to  very imbalance .\n",
    "*  "
   ]
  },
  {
   "cell_type": "code",
   "execution_count": 47,
   "id": "43db0e84-4669-4cc0-aecf-211c4632235a",
   "metadata": {},
   "outputs": [
    {
     "data": {
      "image/png": "[encoded data removed]",
      "text/plain": [
       "<Figure size 1000x600 with 1 Axes>"
      ]
     },
     "metadata": {},
     "output_type": "display_data"
    }
   ],
   "source": [
    "# Branding  mapping visualization\n",
    "features.plot_brand_distribution()\n"
   ]
  },
  {
   "cell_type": "code",
   "execution_count": 48,
   "id": "ac91509f-8f4b-4bfa-9bf4-149c50d58bb9",
   "metadata": {},
   "outputs": [
    {
     "data": {
      "image/png": "[encoded data removed]",
      "text/plain": [
       "<Figure size 1000x600 with 1 Axes>"
      ]
     },
     "metadata": {},
     "output_type": "display_data"
    }
   ],
   "source": [
    "# comparison of the two \n",
    "features.plot_brand_sentiment_comparison()\n"
   ]
  },
  {
   "cell_type": "markdown",
   "id": "d6691c9e-48fc-47f7-9f73-c5537a48ad27",
   "metadata": {},
   "source": [
    "#### Which of these two companies, Apple or Google, receives more positive or negative sentiment in tweets?"
   ]
  },
  {
   "cell_type": "code",
   "execution_count": 50,
   "id": "38c9632c-6287-46a0-b27a-23133c7b4ad5",
   "metadata": {},
   "outputs": [
    {
     "data": {
      "image/png": "[encoded data removed]",
      "text/plain": [
       "<Figure size 1000x600 with 1 Axes>"
      ]
     },
     "metadata": {},
     "output_type": "display_data"
    }
   ],
   "source": [
    "features.plot_brand_sentiment_comparison_no_Unknown()"
   ]
  },
  {
   "cell_type": "markdown",
   "id": "bb313a88-eda1-4b9f-aeb5-3c69805ba6a8",
   "metadata": {},
   "source": [
    "*  The combined bar graph shows that the Apple brand receive more positive  and negative sentiments than the  google brand."
   ]
  },
  {
   "cell_type": "code",
   "execution_count": 52,
   "id": "bf131f4a-bbba-443a-b862-89caf4a14387",
   "metadata": {},
   "outputs": [
    {
     "data": {
      "text/html": [
       "<div>\n",
       "<style scoped>\n",
       "    .dataframe tbody tr th:only-of-type {\n",
       "        vertical-align: middle;\n",
       "    }\n",
       "\n",
       "    .dataframe tbody tr th {\n",
       "        vertical-align: top;\n",
       "    }\n",
       "\n",
       "    .dataframe thead th {\n",
       "        text-align: right;\n",
       "    }\n",
       "</style>\n",
       "<table border=\"1\" class=\"dataframe\">\n",
       "  <thead>\n",
       "    <tr style=\"text-align: right;\">\n",
       "      <th></th>\n",
       "      <th>tweet_text</th>\n",
       "      <th>emotion_in_tweet_is_directed_at</th>\n",
       "      <th>is_there_an_emotion_directed_at_a_brand_or_product</th>\n",
       "      <th>tokens</th>\n",
       "      <th>tweet_length</th>\n",
       "      <th>mapped_sentiment</th>\n",
       "      <th>mapped_brand</th>\n",
       "    </tr>\n",
       "  </thead>\n",
       "  <tbody>\n",
       "    <tr>\n",
       "      <th>0</th>\n",
       "      <td>i have a g iphone after hrs tweeting at risea...</td>\n",
       "      <td>iPhone</td>\n",
       "      <td>Negative emotion</td>\n",
       "      <td>[g, iphone, dead, need, upgrade, station, sxsw]</td>\n",
       "      <td>105</td>\n",
       "      <td>Negative</td>\n",
       "      <td>Apple</td>\n",
       "    </tr>\n",
       "    <tr>\n",
       "      <th>1</th>\n",
       "      <td>know about awesome ipadiphone app that youll ...</td>\n",
       "      <td>iPad or iPhone App</td>\n",
       "      <td>Positive emotion</td>\n",
       "      <td>[know, awesome, app, likely, appreciate, desig...</td>\n",
       "      <td>113</td>\n",
       "      <td>Positive</td>\n",
       "      <td>Apple</td>\n",
       "    </tr>\n",
       "    <tr>\n",
       "      <th>2</th>\n",
       "      <td>can not wait for ipad also they should sale t...</td>\n",
       "      <td>iPad</td>\n",
       "      <td>Positive emotion</td>\n",
       "      <td>[wait, ipad, also, sale, sxsw]</td>\n",
       "      <td>62</td>\n",
       "      <td>Positive</td>\n",
       "      <td>Apple</td>\n",
       "    </tr>\n",
       "  </tbody>\n",
       "</table>\n",
       "</div>"
      ],
      "text/plain": [
       "                                          tweet_text  \\\n",
       "0   i have a g iphone after hrs tweeting at risea...   \n",
       "1   know about awesome ipadiphone app that youll ...   \n",
       "2   can not wait for ipad also they should sale t...   \n",
       "\n",
       "  emotion_in_tweet_is_directed_at  \\\n",
       "0                          iPhone   \n",
       "1              iPad or iPhone App   \n",
       "2                            iPad   \n",
       "\n",
       "  is_there_an_emotion_directed_at_a_brand_or_product  \\\n",
       "0                                   Negative emotion   \n",
       "1                                   Positive emotion   \n",
       "2                                   Positive emotion   \n",
       "\n",
       "                                              tokens  tweet_length  \\\n",
       "0    [g, iphone, dead, need, upgrade, station, sxsw]           105   \n",
       "1  [know, awesome, app, likely, appreciate, desig...           113   \n",
       "2                     [wait, ipad, also, sale, sxsw]            62   \n",
       "\n",
       "  mapped_sentiment mapped_brand  \n",
       "0         Negative        Apple  \n",
       "1         Positive        Apple  \n",
       "2         Positive        Apple  "
      ]
     },
     "execution_count": 52,
     "metadata": {},
     "output_type": "execute_result"
    }
   ],
   "source": [
    "# Get the updated DataFrame\n",
    "final_df = features.get_features()\n",
    "final_df.head(3)"
   ]
  },
  {
   "cell_type": "markdown",
   "id": "8ab19565-379a-4066-b43c-2e5073488db6",
   "metadata": {},
   "source": [
    "### Encoding of the Target variable "
   ]
  },
  {
   "cell_type": "code",
   "execution_count": 54,
   "id": "d3675972-9186-4887-93d8-fda6affe5cc5",
   "metadata": {},
   "outputs": [
    {
     "name": "stdout",
     "output_type": "stream",
     "text": [
      "encoded_data sentiment_label\n",
      "0     569\n",
      "1    5531\n",
      "2    2970\n",
      "Name: count, dtype: int64\n",
      "original_data mapped_sentiment\n",
      "Negative               569\n",
      "Neutral/No emotion    5531\n",
      "Positive              2970\n",
      "Name: count, dtype: int64\n",
      "classes: ['Negative' 'Neutral/No emotion' 'Positive']\n"
     ]
    }
   ],
   "source": [
    "# label encode the  mapped_sentiment (target var)\n",
    "from sklearn.preprocessing import LabelEncoder\n",
    "\n",
    "encoder =LabelEncoder()\n",
    "final_df['sentiment_label']= encoder.fit_transform(final_df['mapped_sentiment'])\n",
    "\n",
    "print(\"encoded_data\", final_df['sentiment_label'].value_counts().sort_index())\n",
    "print(\"original_data\", final_df['mapped_sentiment'].value_counts().sort_index())\n",
    "print(\"classes:\", encoder.classes_)"
   ]
  },
  {
   "cell_type": "markdown",
   "id": "2b39e3c8-072b-4b52-9d4e-3d398179c902",
   "metadata": {},
   "source": [
    "## NLP MODELS"
   ]
  },
  {
   "cell_type": "markdown",
   "id": "c95c5910-109e-4ef7-94ab-b915ea0546bb",
   "metadata": {},
   "source": [
    "### Using tweet_text as the X and y as the Sentiment_label "
   ]
  },
  {
   "cell_type": "code",
   "execution_count": 57,
   "id": "9988edca-8f71-4095-b03f-4fff5b04b8d7",
   "metadata": {},
   "outputs": [
    {
     "name": "stdout",
     "output_type": "stream",
     "text": [
      "Binary classification setup:\n",
      "X shape: (3539,)\n",
      "y shape: (3539,)\n",
      "y value counts (0=Negative, 1=Positive):\n",
      "sentiment_label\n",
      "0     569\n",
      "1    2970\n",
      "Name: count, dtype: int64\n"
     ]
    }
   ],
   "source": [
    "# Use all data but create binary target\n",
    "X = final_df['tweet_text']\n",
    "# Create binary target: 1 for Positive (class 2), 0 for Negative (class 0), drop Neutral (class 1)\n",
    "binary_mask = final_df['sentiment_label'].isin([0, 2])\n",
    "X_binary = X[binary_mask]\n",
    "y_binary = final_df.loc[binary_mask, 'sentiment_label'].map({0: 0, 2: 1})\n",
    "\n",
    "print(\"Binary classification setup:\")\n",
    "print(\"X shape:\", X_binary.shape)\n",
    "print(\"y shape:\", y_binary.shape)\n",
    "print(\"y value counts (0=Negative, 1=Positive):\")\n",
    "print(y_binary.value_counts().sort_index())"
   ]
  },
  {
   "cell_type": "code",
   "execution_count": 58,
   "id": "937eda82-4ae0-478b-a0b7-231350b6efae",
   "metadata": {},
   "outputs": [
    {
     "name": "stdout",
     "output_type": "stream",
     "text": [
      "\n",
      "Training set size: 2831\n",
      "Testing set size: 708\n",
      "Training class distribution:\n",
      "sentiment_label\n",
      "0     455\n",
      "1    2376\n",
      "Name: count, dtype: int64\n",
      "Testing class distribution:\n",
      "sentiment_label\n",
      "0    114\n",
      "1    594\n",
      "Name: count, dtype: int64\n"
     ]
    }
   ],
   "source": [
    "from sklearn.model_selection import train_test_split\n",
    "# Split the data\n",
    "X_train, X_test, y_train, y_test = train_test_split(\n",
    "    X_binary, y_binary, \n",
    "    random_state=1, \n",
    "    test_size=0.2, \n",
    "    stratify=y_binary\n",
    ")\n",
    "\n",
    "print(f\"\\nTraining set size: {X_train.shape[0]}\")\n",
    "print(f\"Testing set size: {X_test.shape[0]}\")\n",
    "print(f\"Training class distribution:\\n{y_train.value_counts().sort_index()}\")\n",
    "print(f\"Testing class distribution:\\n{y_test.value_counts().sort_index()}\")"
   ]
  },
  {
   "cell_type": "markdown",
   "id": "be41f3d5-4b91-488f-8f3b-a86b9fed3f73",
   "metadata": {},
   "source": [
    "### Count Vectorization"
   ]
  },
  {
   "cell_type": "code",
   "execution_count": 60,
   "id": "132d8166-3c35-4d3b-897d-8e244c8b0be2",
   "metadata": {},
   "outputs": [],
   "source": [
    "## count vectorization\n",
    "# Create CountVectorizer and transform data\n",
    "#vectorizer = CountVectorizer(max_features=1000, stop_words='english')\n",
    "#X_train_dtm = vectorizer.fit_transform(X_train)\n",
    "#X_test_dtm = vectorizer.transform(X_test)\n",
    "\n",
    "#print(f\"\\nAfter vectorization:\")\n",
    "#print(f\"Training features shape: {X_train_dtm.shape}\")\n",
    "#print(f\"Testing features shape: {X_test_dtm.shape}\")"
   ]
  },
  {
   "cell_type": "code",
   "execution_count": 61,
   "id": "da7ff33a-6180-41ad-94fc-c5dccbba8d5a",
   "metadata": {},
   "outputs": [],
   "source": [
    "#from sklearn.feature_extraction.text import TfidfTransformer\n",
    "\n",
    "#tfidf_transformer = TfidfTransformer()\n",
    "#tfidf_transformer.fit(X_train_dtm)\n",
    "#tfidf_transformer.transform(X_train_dtm)"
   ]
  },
  {
   "cell_type": "markdown",
   "id": "11a7c1e4-d50c-4e0e-95a9-a1181a11c368",
   "metadata": {},
   "source": [
    "### Tf-IDF Vectorization"
   ]
  },
  {
   "cell_type": "code",
   "execution_count": 63,
   "id": "18d29598-2f51-421f-b312-139828a3d508",
   "metadata": {},
   "outputs": [
    {
     "name": "stdout",
     "output_type": "stream",
     "text": [
      "TF-IDF bigram matrix shape: (2831, 1000)\n",
      "Example bigram features:\n",
      "['aapl' 'able' 'abt' 'aclu' 'acquired' 'action' 'actually' 'ad' 'added'\n",
      " 'adoption' 'agileagency' 'agree' 'ahead' 'alarm' 'alternate' 'amazing'\n",
      " 'america' 'americaquot' 'amp' 'ampipad']\n"
     ]
    }
   ],
   "source": [
    "# initialize the  vector \n",
    "tfidf_vectorizer = TfidfVectorizer(max_features=1000, stop_words='english' )  \n",
    "   # limit number of features\n",
    "    #ngram_range=(1, 2),\n",
    "   # min_df=2,             # ignore infrequent terms\n",
    "   # max_df=0.8,           # ignore overly common terms\n",
    "  # remove English stopwords\n",
    "\n",
    " #Fit and transform the tweet text column\n",
    "X_tfidf_bigrams = tfidf_vectorizer.fit_transform(X_train)\n",
    "X_tfidf_test_bigrams = tfidf_vectorizer.transform(X_test)\n",
    "\n",
    "# Inspect results\n",
    "\n",
    "print(\"TF-IDF bigram matrix shape:\", X_tfidf_bigrams.shape)\n",
    "print(\"Example bigram features:\")\n",
    "print(tfidf_vectorizer.get_feature_names_out()[:20])\n"
   ]
  },
  {
   "cell_type": "markdown",
   "id": "7e6d6fd7-608d-4481-bd70-90ba4a642d1e",
   "metadata": {},
   "source": [
    "## Binary classification models "
   ]
  },
  {
   "cell_type": "markdown",
   "id": "1cba6bd7-d253-4e18-8839-e3921646ae45",
   "metadata": {},
   "source": [
    "###  MultinomialNB Model"
   ]
  },
  {
   "cell_type": "code",
   "execution_count": 66,
   "id": "3d225d75-bd56-447c-99a4-dda24b36bfae",
   "metadata": {},
   "outputs": [],
   "source": [
    "# import and instantiate a Multinomial Naive Bayes model\n",
    "from sklearn.naive_bayes import MultinomialNB\n",
    "nb = MultinomialNB()"
   ]
  },
  {
   "cell_type": "code",
   "execution_count": 67,
   "id": "6ab4fbf7-985c-400d-b1eb-914c8aa602e7",
   "metadata": {},
   "outputs": [
    {
     "name": "stdout",
     "output_type": "stream",
     "text": [
      "CPU times: total: 15.6 ms\n",
      "Wall time: 13.9 ms\n"
     ]
    },
    {
     "data": {
      "text/html": [
       "<style>#sk-container-id-1 {\n",
       "  /* Definition of color scheme common for light and dark mode */\n",
       "  --sklearn-color-text: black;\n",
       "  --sklearn-color-line: gray;\n",
       "  /* Definition of color scheme for unfitted estimators */\n",
       "  --sklearn-color-unfitted-level-0: #fff5e6;\n",
       "  --sklearn-color-unfitted-level-1: #f6e4d2;\n",
       "  --sklearn-color-unfitted-level-2: #ffe0b3;\n",
       "  --sklearn-color-unfitted-level-3: chocolate;\n",
       "  /* Definition of color scheme for fitted estimators */\n",
       "  --sklearn-color-fitted-level-0: #f0f8ff;\n",
       "  --sklearn-color-fitted-level-1: #d4ebff;\n",
       "  --sklearn-color-fitted-level-2: #b3dbfd;\n",
       "  --sklearn-color-fitted-level-3: cornflowerblue;\n",
       "\n",
       "  /* Specific color for light theme */\n",
       "  --sklearn-color-text-on-default-background: var(--sg-text-color, var(--theme-code-foreground, var(--jp-content-font-color1, black)));\n",
       "  --sklearn-color-background: var(--sg-background-color, var(--theme-background, var(--jp-layout-color0, white)));\n",
       "  --sklearn-color-border-box: var(--sg-text-color, var(--theme-code-foreground, var(--jp-content-font-color1, black)));\n",
       "  --sklearn-color-icon: #696969;\n",
       "\n",
       "  @media (prefers-color-scheme: dark) {\n",
       "    /* Redefinition of color scheme for dark theme */\n",
       "    --sklearn-color-text-on-default-background: var(--sg-text-color, var(--theme-code-foreground, var(--jp-content-font-color1, white)));\n",
       "    --sklearn-color-background: var(--sg-background-color, var(--theme-background, var(--jp-layout-color0, #111)));\n",
       "    --sklearn-color-border-box: var(--sg-text-color, var(--theme-code-foreground, var(--jp-content-font-color1, white)));\n",
       "    --sklearn-color-icon: #878787;\n",
       "  }\n",
       "}\n",
       "\n",
       "#sk-container-id-1 {\n",
       "  color: var(--sklearn-color-text);\n",
       "}\n",
       "\n",
       "#sk-container-id-1 pre {\n",
       "  padding: 0;\n",
       "}\n",
       "\n",
       "#sk-container-id-1 input.sk-hidden--visually {\n",
       "  border: 0;\n",
       "  clip: rect(1px 1px 1px 1px);\n",
       "  clip: rect(1px, 1px, 1px, 1px);\n",
       "  height: 1px;\n",
       "  margin: -1px;\n",
       "  overflow: hidden;\n",
       "  padding: 0;\n",
       "  position: absolute;\n",
       "  width: 1px;\n",
       "}\n",
       "\n",
       "#sk-container-id-1 div.sk-dashed-wrapped {\n",
       "  border: 1px dashed var(--sklearn-color-line);\n",
       "  margin: 0 0.4em 0.5em 0.4em;\n",
       "  box-sizing: border-box;\n",
       "  padding-bottom: 0.4em;\n",
       "  background-color: var(--sklearn-color-background);\n",
       "}\n",
       "\n",
       "#sk-container-id-1 div.sk-container {\n",
       "  /* jupyter's `normalize.less` sets `[hidden] { display: none; }`\n",
       "     but bootstrap.min.css set `[hidden] { display: none !important; }`\n",
       "     so we also need the `!important` here to be able to override the\n",
       "     default hidden behavior on the sphinx rendered scikit-learn.org.\n",
       "     See: https://github.com/scikit-learn/scikit-learn/issues/21755 */\n",
       "  display: inline-block !important;\n",
       "  position: relative;\n",
       "}\n",
       "\n",
       "#sk-container-id-1 div.sk-text-repr-fallback {\n",
       "  display: none;\n",
       "}\n",
       "\n",
       "div.sk-parallel-item,\n",
       "div.sk-serial,\n",
       "div.sk-item {\n",
       "  /* draw centered vertical line to link estimators */\n",
       "  background-image: linear-gradient(var(--sklearn-color-text-on-default-background), var(--sklearn-color-text-on-default-background));\n",
       "  background-size: 2px 100%;\n",
       "  background-repeat: no-repeat;\n",
       "  background-position: center center;\n",
       "}\n",
       "\n",
       "/* Parallel-specific style estimator block */\n",
       "\n",
       "#sk-container-id-1 div.sk-parallel-item::after {\n",
       "  content: \"\";\n",
       "  width: 100%;\n",
       "  border-bottom: 2px solid var(--sklearn-color-text-on-default-background);\n",
       "  flex-grow: 1;\n",
       "}\n",
       "\n",
       "#sk-container-id-1 div.sk-parallel {\n",
       "  display: flex;\n",
       "  align-items: stretch;\n",
       "  justify-content: center;\n",
       "  background-color: var(--sklearn-color-background);\n",
       "  position: relative;\n",
       "}\n",
       "\n",
       "#sk-container-id-1 div.sk-parallel-item {\n",
       "  display: flex;\n",
       "  flex-direction: column;\n",
       "}\n",
       "\n",
       "#sk-container-id-1 div.sk-parallel-item:first-child::after {\n",
       "  align-self: flex-end;\n",
       "  width: 50%;\n",
       "}\n",
       "\n",
       "#sk-container-id-1 div.sk-parallel-item:last-child::after {\n",
       "  align-self: flex-start;\n",
       "  width: 50%;\n",
       "}\n",
       "\n",
       "#sk-container-id-1 div.sk-parallel-item:only-child::after {\n",
       "  width: 0;\n",
       "}\n",
       "\n",
       "/* Serial-specific style estimator block */\n",
       "\n",
       "#sk-container-id-1 div.sk-serial {\n",
       "  display: flex;\n",
       "  flex-direction: column;\n",
       "  align-items: center;\n",
       "  background-color: var(--sklearn-color-background);\n",
       "  padding-right: 1em;\n",
       "  padding-left: 1em;\n",
       "}\n",
       "\n",
       "\n",
       "/* Toggleable style: style used for estimator/Pipeline/ColumnTransformer box that is\n",
       "clickable and can be expanded/collapsed.\n",
       "- Pipeline and ColumnTransformer use this feature and define the default style\n",
       "- Estimators will overwrite some part of the style using the `sk-estimator` class\n",
       "*/\n",
       "\n",
       "/* Pipeline and ColumnTransformer style (default) */\n",
       "\n",
       "#sk-container-id-1 div.sk-toggleable {\n",
       "  /* Default theme specific background. It is overwritten whether we have a\n",
       "  specific estimator or a Pipeline/ColumnTransformer */\n",
       "  background-color: var(--sklearn-color-background);\n",
       "}\n",
       "\n",
       "/* Toggleable label */\n",
       "#sk-container-id-1 label.sk-toggleable__label {\n",
       "  cursor: pointer;\n",
       "  display: block;\n",
       "  width: 100%;\n",
       "  margin-bottom: 0;\n",
       "  padding: 0.5em;\n",
       "  box-sizing: border-box;\n",
       "  text-align: center;\n",
       "}\n",
       "\n",
       "#sk-container-id-1 label.sk-toggleable__label-arrow:before {\n",
       "  /* Arrow on the left of the label */\n",
       "  content: \"▸\";\n",
       "  float: left;\n",
       "  margin-right: 0.25em;\n",
       "  color: var(--sklearn-color-icon);\n",
       "}\n",
       "\n",
       "#sk-container-id-1 label.sk-toggleable__label-arrow:hover:before {\n",
       "  color: var(--sklearn-color-text);\n",
       "}\n",
       "\n",
       "/* Toggleable content - dropdown */\n",
       "\n",
       "#sk-container-id-1 div.sk-toggleable__content {\n",
       "  max-height: 0;\n",
       "  max-width: 0;\n",
       "  overflow: hidden;\n",
       "  text-align: left;\n",
       "  /* unfitted */\n",
       "  background-color: var(--sklearn-color-unfitted-level-0);\n",
       "}\n",
       "\n",
       "#sk-container-id-1 div.sk-toggleable__content.fitted {\n",
       "  /* fitted */\n",
       "  background-color: var(--sklearn-color-fitted-level-0);\n",
       "}\n",
       "\n",
       "#sk-container-id-1 div.sk-toggleable__content pre {\n",
       "  margin: 0.2em;\n",
       "  border-radius: 0.25em;\n",
       "  color: var(--sklearn-color-text);\n",
       "  /* unfitted */\n",
       "  background-color: var(--sklearn-color-unfitted-level-0);\n",
       "}\n",
       "\n",
       "#sk-container-id-1 div.sk-toggleable__content.fitted pre {\n",
       "  /* unfitted */\n",
       "  background-color: var(--sklearn-color-fitted-level-0);\n",
       "}\n",
       "\n",
       "#sk-container-id-1 input.sk-toggleable__control:checked~div.sk-toggleable__content {\n",
       "  /* Expand drop-down */\n",
       "  max-height: 200px;\n",
       "  max-width: 100%;\n",
       "  overflow: auto;\n",
       "}\n",
       "\n",
       "#sk-container-id-1 input.sk-toggleable__control:checked~label.sk-toggleable__label-arrow:before {\n",
       "  content: \"▾\";\n",
       "}\n",
       "\n",
       "/* Pipeline/ColumnTransformer-specific style */\n",
       "\n",
       "#sk-container-id-1 div.sk-label input.sk-toggleable__control:checked~label.sk-toggleable__label {\n",
       "  color: var(--sklearn-color-text);\n",
       "  background-color: var(--sklearn-color-unfitted-level-2);\n",
       "}\n",
       "\n",
       "#sk-container-id-1 div.sk-label.fitted input.sk-toggleable__control:checked~label.sk-toggleable__label {\n",
       "  background-color: var(--sklearn-color-fitted-level-2);\n",
       "}\n",
       "\n",
       "/* Estimator-specific style */\n",
       "\n",
       "/* Colorize estimator box */\n",
       "#sk-container-id-1 div.sk-estimator input.sk-toggleable__control:checked~label.sk-toggleable__label {\n",
       "  /* unfitted */\n",
       "  background-color: var(--sklearn-color-unfitted-level-2);\n",
       "}\n",
       "\n",
       "#sk-container-id-1 div.sk-estimator.fitted input.sk-toggleable__control:checked~label.sk-toggleable__label {\n",
       "  /* fitted */\n",
       "  background-color: var(--sklearn-color-fitted-level-2);\n",
       "}\n",
       "\n",
       "#sk-container-id-1 div.sk-label label.sk-toggleable__label,\n",
       "#sk-container-id-1 div.sk-label label {\n",
       "  /* The background is the default theme color */\n",
       "  color: var(--sklearn-color-text-on-default-background);\n",
       "}\n",
       "\n",
       "/* On hover, darken the color of the background */\n",
       "#sk-container-id-1 div.sk-label:hover label.sk-toggleable__label {\n",
       "  color: var(--sklearn-color-text);\n",
       "  background-color: var(--sklearn-color-unfitted-level-2);\n",
       "}\n",
       "\n",
       "/* Label box, darken color on hover, fitted */\n",
       "#sk-container-id-1 div.sk-label.fitted:hover label.sk-toggleable__label.fitted {\n",
       "  color: var(--sklearn-color-text);\n",
       "  background-color: var(--sklearn-color-fitted-level-2);\n",
       "}\n",
       "\n",
       "/* Estimator label */\n",
       "\n",
       "#sk-container-id-1 div.sk-label label {\n",
       "  font-family: monospace;\n",
       "  font-weight: bold;\n",
       "  display: inline-block;\n",
       "  line-height: 1.2em;\n",
       "}\n",
       "\n",
       "#sk-container-id-1 div.sk-label-container {\n",
       "  text-align: center;\n",
       "}\n",
       "\n",
       "/* Estimator-specific */\n",
       "#sk-container-id-1 div.sk-estimator {\n",
       "  font-family: monospace;\n",
       "  border: 1px dotted var(--sklearn-color-border-box);\n",
       "  border-radius: 0.25em;\n",
       "  box-sizing: border-box;\n",
       "  margin-bottom: 0.5em;\n",
       "  /* unfitted */\n",
       "  background-color: var(--sklearn-color-unfitted-level-0);\n",
       "}\n",
       "\n",
       "#sk-container-id-1 div.sk-estimator.fitted {\n",
       "  /* fitted */\n",
       "  background-color: var(--sklearn-color-fitted-level-0);\n",
       "}\n",
       "\n",
       "/* on hover */\n",
       "#sk-container-id-1 div.sk-estimator:hover {\n",
       "  /* unfitted */\n",
       "  background-color: var(--sklearn-color-unfitted-level-2);\n",
       "}\n",
       "\n",
       "#sk-container-id-1 div.sk-estimator.fitted:hover {\n",
       "  /* fitted */\n",
       "  background-color: var(--sklearn-color-fitted-level-2);\n",
       "}\n",
       "\n",
       "/* Specification for estimator info (e.g. \"i\" and \"?\") */\n",
       "\n",
       "/* Common style for \"i\" and \"?\" */\n",
       "\n",
       ".sk-estimator-doc-link,\n",
       "a:link.sk-estimator-doc-link,\n",
       "a:visited.sk-estimator-doc-link {\n",
       "  float: right;\n",
       "  font-size: smaller;\n",
       "  line-height: 1em;\n",
       "  font-family: monospace;\n",
       "  background-color: var(--sklearn-color-background);\n",
       "  border-radius: 1em;\n",
       "  height: 1em;\n",
       "  width: 1em;\n",
       "  text-decoration: none !important;\n",
       "  margin-left: 1ex;\n",
       "  /* unfitted */\n",
       "  border: var(--sklearn-color-unfitted-level-1) 1pt solid;\n",
       "  color: var(--sklearn-color-unfitted-level-1);\n",
       "}\n",
       "\n",
       ".sk-estimator-doc-link.fitted,\n",
       "a:link.sk-estimator-doc-link.fitted,\n",
       "a:visited.sk-estimator-doc-link.fitted {\n",
       "  /* fitted */\n",
       "  border: var(--sklearn-color-fitted-level-1) 1pt solid;\n",
       "  color: var(--sklearn-color-fitted-level-1);\n",
       "}\n",
       "\n",
       "/* On hover */\n",
       "div.sk-estimator:hover .sk-estimator-doc-link:hover,\n",
       ".sk-estimator-doc-link:hover,\n",
       "div.sk-label-container:hover .sk-estimator-doc-link:hover,\n",
       ".sk-estimator-doc-link:hover {\n",
       "  /* unfitted */\n",
       "  background-color: var(--sklearn-color-unfitted-level-3);\n",
       "  color: var(--sklearn-color-background);\n",
       "  text-decoration: none;\n",
       "}\n",
       "\n",
       "div.sk-estimator.fitted:hover .sk-estimator-doc-link.fitted:hover,\n",
       ".sk-estimator-doc-link.fitted:hover,\n",
       "div.sk-label-container:hover .sk-estimator-doc-link.fitted:hover,\n",
       ".sk-estimator-doc-link.fitted:hover {\n",
       "  /* fitted */\n",
       "  background-color: var(--sklearn-color-fitted-level-3);\n",
       "  color: var(--sklearn-color-background);\n",
       "  text-decoration: none;\n",
       "}\n",
       "\n",
       "/* Span, style for the box shown on hovering the info icon */\n",
       ".sk-estimator-doc-link span {\n",
       "  display: none;\n",
       "  z-index: 9999;\n",
       "  position: relative;\n",
       "  font-weight: normal;\n",
       "  right: .2ex;\n",
       "  padding: .5ex;\n",
       "  margin: .5ex;\n",
       "  width: min-content;\n",
       "  min-width: 20ex;\n",
       "  max-width: 50ex;\n",
       "  color: var(--sklearn-color-text);\n",
       "  box-shadow: 2pt 2pt 4pt #999;\n",
       "  /* unfitted */\n",
       "  background: var(--sklearn-color-unfitted-level-0);\n",
       "  border: .5pt solid var(--sklearn-color-unfitted-level-3);\n",
       "}\n",
       "\n",
       ".sk-estimator-doc-link.fitted span {\n",
       "  /* fitted */\n",
       "  background: var(--sklearn-color-fitted-level-0);\n",
       "  border: var(--sklearn-color-fitted-level-3);\n",
       "}\n",
       "\n",
       ".sk-estimator-doc-link:hover span {\n",
       "  display: block;\n",
       "}\n",
       "\n",
       "/* \"?\"-specific style due to the `<a>` HTML tag */\n",
       "\n",
       "#sk-container-id-1 a.estimator_doc_link {\n",
       "  float: right;\n",
       "  font-size: 1rem;\n",
       "  line-height: 1em;\n",
       "  font-family: monospace;\n",
       "  background-color: var(--sklearn-color-background);\n",
       "  border-radius: 1rem;\n",
       "  height: 1rem;\n",
       "  width: 1rem;\n",
       "  text-decoration: none;\n",
       "  /* unfitted */\n",
       "  color: var(--sklearn-color-unfitted-level-1);\n",
       "  border: var(--sklearn-color-unfitted-level-1) 1pt solid;\n",
       "}\n",
       "\n",
       "#sk-container-id-1 a.estimator_doc_link.fitted {\n",
       "  /* fitted */\n",
       "  border: var(--sklearn-color-fitted-level-1) 1pt solid;\n",
       "  color: var(--sklearn-color-fitted-level-1);\n",
       "}\n",
       "\n",
       "/* On hover */\n",
       "#sk-container-id-1 a.estimator_doc_link:hover {\n",
       "  /* unfitted */\n",
       "  background-color: var(--sklearn-color-unfitted-level-3);\n",
       "  color: var(--sklearn-color-background);\n",
       "  text-decoration: none;\n",
       "}\n",
       "\n",
       "#sk-container-id-1 a.estimator_doc_link.fitted:hover {\n",
       "  /* fitted */\n",
       "  background-color: var(--sklearn-color-fitted-level-3);\n",
       "}\n",
       "</style><div id=\"sk-container-id-1\" class=\"sk-top-container\"><div class=\"sk-text-repr-fallback\"><pre>MultinomialNB()</pre><b>In a Jupyter environment, please rerun this cell to show the HTML representation or trust the notebook. <br />On GitHub, the HTML representation is unable to render, please try loading this page with nbviewer.org.</b></div><div class=\"sk-container\" hidden><div class=\"sk-item\"><div class=\"sk-estimator fitted sk-toggleable\"><input class=\"sk-toggleable__control sk-hidden--visually\" id=\"sk-estimator-id-1\" type=\"checkbox\" checked><label for=\"sk-estimator-id-1\" class=\"sk-toggleable__label fitted sk-toggleable__label-arrow fitted\">&nbsp;&nbsp;MultinomialNB<a class=\"sk-estimator-doc-link fitted\" rel=\"noreferrer\" target=\"_blank\" href=\"https://scikit-learn.org/1.5/modules/generated/sklearn.naive_bayes.MultinomialNB.html\">?<span>Documentation for MultinomialNB</span></a><span class=\"sk-estimator-doc-link fitted\">i<span>Fitted</span></span></label><div class=\"sk-toggleable__content fitted\"><pre>MultinomialNB()</pre></div> </div></div></div></div>"
      ],
      "text/plain": [
       "MultinomialNB()"
      ]
     },
     "execution_count": 67,
     "metadata": {},
     "output_type": "execute_result"
    }
   ],
   "source": [
    "# train the model using X_train_dtm (timing it with an IPython \"magic command\")\n",
    "%time nb.fit( X_tfidf_bigrams, y_train)"
   ]
  },
  {
   "cell_type": "code",
   "execution_count": 68,
   "id": "9eddc20f-cca6-4e35-aa7a-0ff18351d6b2",
   "metadata": {},
   "outputs": [
    {
     "name": "stdout",
     "output_type": "stream",
     "text": [
      "=======MODEL EVALUATION METRICS===========\n",
      " Accuracy: 0.8588\n",
      "\n",
      " Classification Report:\n",
      "              precision    recall  f1-score   support\n",
      "\n",
      "           0       0.89      0.14      0.24       114\n",
      "           1       0.86      1.00      0.92       594\n",
      "\n",
      "    accuracy                           0.86       708\n",
      "   macro avg       0.87      0.57      0.58       708\n",
      "weighted avg       0.86      0.86      0.81       708\n",
      "\n",
      "\n",
      " Confusion Matrix:\n",
      "[[ 16  98]\n",
      " [  2 592]]\n"
     ]
    },
    {
     "data": {
      "image/png": "[encoded data removed]",
      "text/plain": [
       "<Figure size 800x600 with 2 Axes>"
      ]
     },
     "metadata": {},
     "output_type": "display_data"
    },
    {
     "name": "stdout",
     "output_type": "stream",
     "text": [
      "\n",
      " Additional Metrics:\n",
      "• Weighted Precision: 0.8629\n",
      "• Weighted Recall: 0.8588\n",
      "• Weighted F1-Score: 0.8127\n"
     ]
    }
   ],
   "source": [
    "from sklearn import metrics\n",
    "# Make predictions\n",
    "y_pred_class = nb.predict(X_tfidf_test_bigrams)\n",
    "y_pred_proba = nb.predict_proba(X_tfidf_test_bigrams)  # If your model supports probability\n",
    "\n",
    "print(\"=======MODEL EVALUATION METRICS===========\")\n",
    "\n",
    "# 1. Accuracy\n",
    "accuracy = metrics.accuracy_score(y_test, y_pred_class)\n",
    "print(f\" Accuracy: {accuracy:.4f}\")\n",
    "print()\n",
    "\n",
    "# 2. Classification Report\n",
    "print(\" Classification Report:\")\n",
    "print(metrics.classification_report(y_test, y_pred_class))\n",
    "print()\n",
    "\n",
    "# 3. Confusion Matrix with Visualization\n",
    "class_names = ['Negative', 'Neutral', 'Positive']  # Update with your actual class names\n",
    "\n",
    "cm = metrics.confusion_matrix(y_test, y_pred_class)\n",
    "print(\" Confusion Matrix:\")\n",
    "print(cm)\n",
    "\n",
    "# Plot confusion matrix\n",
    "plt.figure(figsize=(8, 6))\n",
    "sns.heatmap(cm, annot=True, fmt='d', cmap='Blues', \n",
    "            xticklabels=class_names, yticklabels=class_names)\n",
    "plt.title('Confusion Matrix')\n",
    "plt.ylabel('Actual')\n",
    "plt.xlabel('Predicted')\n",
    "plt.show()\n",
    "\n",
    "# 4. Additional Metrics\n",
    "print(\"\\n Additional Metrics:\")\n",
    "print(f\"• Weighted Precision: {metrics.precision_score(y_test, y_pred_class, average='weighted'):.4f}\")\n",
    "print(f\"• Weighted Recall: {metrics.recall_score(y_test, y_pred_class, average='weighted'):.4f}\")\n",
    "print(f\"• Weighted F1-Score: {metrics.f1_score(y_test, y_pred_class, average='weighted'):.4f}\")"
   ]
  },
  {
   "cell_type": "markdown",
   "id": "963a1bfa-c6b5-436a-b1ce-70531b559df5",
   "metadata": {},
   "source": [
    "###  Logistics Regression"
   ]
  },
  {
   "cell_type": "code",
   "execution_count": 70,
   "id": "c3aa1663-108a-4b23-ba2c-3c198b7f3feb",
   "metadata": {},
   "outputs": [
    {
     "name": "stdout",
     "output_type": "stream",
     "text": [
      "=== BASIC LOGISTIC REGRESSION ===\n",
      "Training basic Logistic Regression...\n",
      "Basic Logistic Regression trained!\n",
      "Accuracy: 0.8559\n",
      "report:               precision    recall  f1-score   support\n",
      "\n",
      "           0       0.83      0.13      0.23       114\n",
      "           1       0.86      0.99      0.92       594\n",
      "\n",
      "    accuracy                           0.86       708\n",
      "   macro avg       0.84      0.56      0.57       708\n",
      "weighted avg       0.85      0.86      0.81       708\n",
      "\n"
     ]
    }
   ],
   "source": [
    "from sklearn.model_selection import train_test_split\n",
    "from sklearn.feature_extraction.text import TfidfVectorizer\n",
    "from sklearn.linear_model import LogisticRegression\n",
    "from sklearn.metrics import classification_report, confusion_matrix, accuracy_score, roc_auc_score, f1_score\n",
    "from sklearn.pipeline import Pipeline\n",
    "\n",
    "# Set up plotting style\n",
    "plt.style.use('default')\n",
    "sns.set_palette(\"husl\")\n",
    "\n",
    "# 1. BASIC LOGISTIC REGRESSION\n",
    "print(\"=== BASIC LOGISTIC REGRESSION ===\")\n",
    "\n",
    "# Create the pipeline\n",
    "basic_lr_pipeline = Pipeline([\n",
    "    ('tfidf', TfidfVectorizer(\n",
    "        max_features=5000,\n",
    "        stop_words='english',\n",
    "        ngram_range=(1, 2),\n",
    "        min_df=5,\n",
    "        max_df=0.7\n",
    "    )),\n",
    "    ('classifier', LogisticRegression(\n",
    "        random_state=42,\n",
    "        max_iter=1000,\n",
    "        solver='liblinear'  # Good for small to medium datasets\n",
    "    ))\n",
    "])\n",
    "\n",
    "# Train the model\n",
    "print(\"Training basic Logistic Regression...\")\n",
    "basic_lr_pipeline.fit(X_train, y_train)\n",
    "\n",
    "# Make predictions\n",
    "y_pred_basic = basic_lr_pipeline.predict(X_test)\n",
    "y_pred_proba_basic = basic_lr_pipeline.predict_proba(X_test)[:, 1]\n",
    "\n",
    "# Evaluate\n",
    "accuracy_basic = accuracy_score(y_test, y_pred_basic)\n",
    "report = classification_report(y_test, y_pred_basic)\n",
    "print(f\"Basic Logistic Regression trained!\")\n",
    "print(f\"Accuracy: {accuracy_basic:.4f}\")\n",
    "print(f\"report: {report}\")"
   ]
  },
  {
   "cell_type": "markdown",
   "id": "804b653f-2f1b-4db8-9b6e-44233a101577",
   "metadata": {},
   "source": [
    "### Modified Logistics "
   ]
  },
  {
   "cell_type": "code",
   "execution_count": 72,
   "id": "25c1d7d1-5609-4f6e-af6f-87904aa3c198",
   "metadata": {},
   "outputs": [
    {
     "name": "stdout",
     "output_type": "stream",
     "text": [
      "\n",
      "--- Training Basic_LR ---\n",
      "\n",
      "--- Training Balanced_LR ---\n",
      "\n",
      "--- Training L1_Regularization ---\n",
      "\n",
      "--- Training L2_Regularization ---\n",
      "\n",
      "--- Training Tuned_LR ---\n",
      "\n",
      "MODEL PERFORMANCE SUMMARY:\n",
      "\n",
      "                   Accuracy  ROC-AUC  F1-Macro  F1-Positive  F1-Negative\n",
      "Basic_LR             0.8559   0.7954    0.5739       0.9206       0.2273\n",
      "Balanced_LR          0.7980   0.8081    0.6826       0.8740       0.4911\n",
      "L1_Regularization    0.8573   0.7813    0.6072       0.9207       0.2937\n",
      "L2_Regularization    0.8559   0.7952    0.5739       0.9206       0.2273\n",
      "Tuned_LR             0.7585   0.7738    0.6586       0.8433       0.4738\n",
      "\n",
      "Best models by key metrics:\n",
      "F1-Macro: Balanced_LR (0.6826)\n",
      "F1-Negative: Balanced_LR (0.4911)\n",
      "ROC-AUC: Balanced_LR (0.8081)\n"
     ]
    },
    {
     "data": {
      "image/png": "[encoded data removed]",
      "text/plain": [
       "<Figure size 1600x1000 with 5 Axes>"
      ]
     },
     "metadata": {},
     "output_type": "display_data"
    },
    {
     "name": "stdout",
     "output_type": "stream",
     "text": [
      "\n",
      "Using best model: Balanced_LR\n",
      "\n",
      "Tweet 1:  check it rt sxsw free app festival explorer find the bands you want to see from your music tastes link\n",
      "True: 1, Predicted: 1, Confidence: 0.933\n",
      "\n",
      "Tweet 2: lol rt ill bet theres a lot of nerds at sxsw using the iphone light saber app in barroom brawls instead of their fists\n",
      "True: 1, Predicted: 1, Confidence: 0.556\n",
      "\n",
      "Tweet 3: about to surprise a customer waiting in line at the apple store in austin for the ipad with an sxsw cbatsxsw\n",
      "True: 1, Predicted: 1, Confidence: 0.618\n",
      "\n",
      "Tweet 4: great ui demo of on link xoom sxsw android tech tablet\n",
      "True: 1, Predicted: 1, Confidence: 0.875\n",
      "\n",
      "Tweet 5: rt quotthe future of local is contextual discoveryquot googles marissa mayer argues where is exceptionally valuable for any type of search sxsw\n",
      "True: 1, Predicted: 1, Confidence: 0.780\n",
      "\n",
      "\n",
      "Classification Report:\n",
      "\n",
      "              precision    recall  f1-score   support\n",
      "\n",
      "    Negative       0.41      0.61      0.49       114\n",
      "    Positive       0.92      0.84      0.87       594\n",
      "\n",
      "    accuracy                           0.80       708\n",
      "   macro avg       0.66      0.72      0.68       708\n",
      "weighted avg       0.84      0.80      0.81       708\n",
      "\n"
     ]
    }
   ],
   "source": [
    "# ============================================================\n",
    "# MULTIPLE LOGISTIC REGRESSION STRATEGIES FOR TEXT CLASSIFICATION\n",
    "# ============================================================\n",
    "\n",
    "import numpy as np\n",
    "import pandas as pd\n",
    "import matplotlib.pyplot as plt\n",
    "import seaborn as sns\n",
    "\n",
    "from sklearn.pipeline import Pipeline\n",
    "from sklearn.linear_model import LogisticRegression\n",
    "from sklearn.feature_extraction.text import TfidfVectorizer\n",
    "from sklearn.metrics import (\n",
    "    accuracy_score, f1_score, roc_auc_score,\n",
    "    confusion_matrix, classification_report\n",
    ")\n",
    "\n",
    "# ============================================================\n",
    "# 1. DEFINE LOGISTIC REGRESSION STRATEGIES\n",
    "# ============================================================\n",
    "\n",
    "def define_strategies():\n",
    "    return {\n",
    "        'Basic_LR': {\n",
    "            'solver': 'liblinear',\n",
    "            'max_iter': 1000,\n",
    "            'random_state': 42\n",
    "        },\n",
    "        'Balanced_LR': {\n",
    "            'class_weight': 'balanced',\n",
    "            'solver': 'liblinear',\n",
    "            'max_iter': 1000,\n",
    "            'random_state': 42\n",
    "        },\n",
    "        'L1_Regularization': {\n",
    "            'penalty': 'l1',\n",
    "            'solver': 'liblinear',\n",
    "            'C': 1.0,\n",
    "            'max_iter': 1000,\n",
    "            'random_state': 42\n",
    "        },\n",
    "        'L2_Regularization': {\n",
    "            'penalty': 'l2',\n",
    "            'solver': 'lbfgs',\n",
    "            'C': 1.0,\n",
    "            'max_iter': 1000,\n",
    "            'random_state': 42\n",
    "        },\n",
    "        'Tuned_LR': {\n",
    "            'class_weight': 'balanced',\n",
    "            'C': 0.1,\n",
    "            'solver': 'liblinear',\n",
    "            'max_iter': 1000,\n",
    "            'random_state': 42\n",
    "        }\n",
    "    }\n",
    "\n",
    "# ============================================================\n",
    "# 2. TRAIN & EVALUATE STRATEGIES\n",
    "# ============================================================\n",
    "\n",
    "def train_and_evaluate_strategies(X_train, y_train, X_test, y_test):\n",
    "    strategies = define_strategies()\n",
    "    results = {}\n",
    "\n",
    "    for name, params in strategies.items():\n",
    "        print(f\"\\n--- Training {name} ---\")\n",
    "\n",
    "        pipeline = Pipeline([\n",
    "            ('tfidf', TfidfVectorizer(\n",
    "                max_features=5000,\n",
    "                stop_words='english',\n",
    "                ngram_range=(1, 2),\n",
    "                min_df=5,\n",
    "                max_df=0.7,\n",
    "                lowercase=True,\n",
    "                strip_accents='unicode'\n",
    "            )),\n",
    "            ('classifier', LogisticRegression(**params))\n",
    "        ])\n",
    "\n",
    "        pipeline.fit(X_train, y_train)\n",
    "        y_pred = pipeline.predict(X_test)\n",
    "        y_proba = pipeline.predict_proba(X_test)[:, 1]\n",
    "\n",
    "        results[name] = {\n",
    "            'model': pipeline,\n",
    "            'accuracy': accuracy_score(y_test, y_pred),\n",
    "            'roc_auc': roc_auc_score(y_test, y_proba),\n",
    "            'f1_macro': f1_score(y_test, y_pred, average='macro'),\n",
    "            'f1_positive': f1_score(y_test, y_pred, pos_label=1),\n",
    "            'f1_negative': f1_score(y_test, y_pred, pos_label=0),\n",
    "            'predictions': y_pred,\n",
    "            'probabilities': y_proba\n",
    "        }\n",
    "\n",
    "    return results\n",
    "\n",
    "# ============================================================\n",
    "# 3. SUMMARIZE & COMPARE RESULTS\n",
    "# ============================================================\n",
    "\n",
    "def summarize_results(results):\n",
    "    comparison_df = pd.DataFrame({\n",
    "        name: {\n",
    "            'Accuracy': res['accuracy'],\n",
    "            'ROC-AUC': res['roc_auc'],\n",
    "            'F1-Macro': res['f1_macro'],\n",
    "            'F1-Positive': res['f1_positive'],\n",
    "            'F1-Negative': res['f1_negative']\n",
    "        } for name, res in results.items()\n",
    "    }).T\n",
    "\n",
    "    print(\"\\nMODEL PERFORMANCE SUMMARY:\\n\")\n",
    "    print(comparison_df.round(4))\n",
    "    print(\"\\nBest models by key metrics:\")\n",
    "    for metric in ['F1-Macro', 'F1-Negative', 'ROC-AUC']:\n",
    "        best_model = comparison_df[metric].idxmax()\n",
    "        best_score = comparison_df[metric].max()\n",
    "        print(f\"{metric}: {best_model} ({best_score:.4f})\")\n",
    "\n",
    "    return comparison_df\n",
    "\n",
    "# ============================================================\n",
    "# 4. VISUALIZE RESULTS\n",
    "# ============================================================\n",
    "\n",
    "def visualize_results(comparison_df, results, y_test):\n",
    "    plt.style.use('seaborn-v0_8')\n",
    "    plt.figure(figsize=(16, 10))\n",
    "    plt.suptitle(\"Text Classification: Logistic Regression Strategies\", fontsize=16, fontweight='bold')\n",
    "\n",
    "    # 4.1 Metric Comparison\n",
    "    plt.subplot(2, 2, 1)\n",
    "    metrics = ['Accuracy', 'F1-Macro', 'F1-Negative', 'F1-Positive']\n",
    "    comparison_df[metrics].plot(kind='bar', ax=plt.gca())\n",
    "    plt.title('Performance Metrics Comparison')\n",
    "    plt.ylabel('Score')\n",
    "    plt.xticks(rotation=45)\n",
    "    plt.tight_layout()\n",
    "\n",
    "    # 4.2 Confusion Matrix for Best Model\n",
    "    best_model_name = comparison_df['F1-Macro'].idxmax()\n",
    "    best_model = results[best_model_name]['model']\n",
    "    best_preds = results[best_model_name]['predictions']\n",
    "\n",
    "    plt.subplot(2, 2, 2)\n",
    "    cm = confusion_matrix(y_test, best_preds)\n",
    "    sns.heatmap(cm, annot=True, fmt='d', cmap='Blues',\n",
    "                xticklabels=['Negative', 'Positive'],\n",
    "                yticklabels=['Negative', 'Positive'])\n",
    "    plt.title(f'Confusion Matrix: {best_model_name}')\n",
    "    plt.ylabel('True')\n",
    "    plt.xlabel('Predicted')\n",
    "\n",
    "    # 4.3 Feature Importance (Positive)\n",
    "    plt.subplot(2, 2, 3)\n",
    "    feature_names = best_model.named_steps['tfidf'].get_feature_names_out()\n",
    "    coefs = best_model.named_steps['classifier'].coef_[0]\n",
    "    feature_importance = pd.DataFrame({'word': feature_names, 'coef': coefs})\n",
    "    top_pos = feature_importance.nlargest(10, 'coef')\n",
    "    plt.barh(top_pos['word'], top_pos['coef'], color='green')\n",
    "    plt.title('Top Words: Positive Sentiment')\n",
    "    plt.xlabel('Coefficient')\n",
    "\n",
    "    # 4.4 Feature Importance (Negative)\n",
    "    plt.subplot(2, 2, 4)\n",
    "    top_neg = feature_importance.nsmallest(10, 'coef')\n",
    "    plt.barh(top_neg['word'], top_neg['coef'], color='red')\n",
    "    plt.title('Top Words: Negative Sentiment')\n",
    "    plt.xlabel('Coefficient')\n",
    "\n",
    "    plt.tight_layout(rect=[0, 0, 1, 0.96])\n",
    "    plt.show()\n",
    "\n",
    "# ============================================================\n",
    "# 5. SAMPLE PREDICTIONS & REPORT\n",
    "# ============================================================\n",
    "\n",
    "def show_sample_predictions(X_test, y_test, results, comparison_df, n_samples=5):\n",
    "    best_model_name = comparison_df['F1-Macro'].idxmax()\n",
    "    best_model = results[best_model_name]['model']\n",
    "    preds = results[best_model_name]['predictions']\n",
    "    probs = results[best_model_name]['probabilities']\n",
    "\n",
    "    print(f\"\\nUsing best model: {best_model_name}\\n\")\n",
    "\n",
    "    indices = np.random.choice(len(X_test), size=n_samples, replace=False)\n",
    "    for i, idx in enumerate(indices):\n",
    "        tweet = X_test.iloc[idx] if hasattr(X_test, 'iloc') else X_test[idx]\n",
    "        true_label = y_test.iloc[idx] if hasattr(y_test, 'iloc') else y_test[idx]\n",
    "        pred_label = preds[idx]\n",
    "        confidence = probs[idx]\n",
    "\n",
    "        print(f\"Tweet {i+1}: {tweet}\")\n",
    "        print(f\"True: {true_label}, Predicted: {pred_label}, Confidence: {confidence:.3f}\\n\")\n",
    "\n",
    "    print(\"\\nClassification Report:\\n\")\n",
    "    print(classification_report(y_test, preds, target_names=['Negative', 'Positive']))\n",
    "\n",
    "# ============================================================\n",
    "# 6. MASTER PIPELINE EXECUTION\n",
    "# ============================================================\n",
    "\n",
    "def run_logistic_regression_pipeline(X_train, y_train, X_test, y_test):\n",
    "    results = train_and_evaluate_strategies(X_train, y_train, X_test, y_test)\n",
    "    comparison_df = summarize_results(results)\n",
    "    visualize_results(comparison_df, results, y_test)\n",
    "    show_sample_predictions(X_test, y_test, results, comparison_df)\n",
    "\n",
    "# ============================================================\n",
    "# EXECUTION (Example)\n",
    "# ============================================================\n",
    "run_logistic_regression_pipeline(X_train, y_train, X_test, y_test)\n"
   ]
  },
  {
   "cell_type": "markdown",
   "id": "09025546-aa5a-447c-aa91-39c3fa83a78c",
   "metadata": {},
   "source": [
    "### DistilBert fine-tuning pipeline"
   ]
  },
  {
   "cell_type": "code",
   "execution_count": 74,
   "id": "5987dff9-0b2f-492f-971e-53f81b74451a",
   "metadata": {},
   "outputs": [],
   "source": [
    "!pip install -q sentence-transformers\n"
   ]
  },
  {
   "cell_type": "code",
   "execution_count": 75,
   "id": "49ed7e5a-0931-4465-898c-e378b0373fdb",
   "metadata": {},
   "outputs": [],
   "source": [
    "# ============================================================\n",
    "# Fixed DistilBERT embeddings + LogisticRegression pipeline\n",
    "# - no progress-bar widgets (avoids 'Error displaying widget')\n",
    "# - robust handling so y_pred is always defined before evaluation\n",
    "import numpy as np\n",
    "import pandas as pd\n",
    "from sklearn.linear_model import LogisticRegression\n",
    "from sklearn.metrics import classification_report, confusion_matrix\n",
    "import seaborn as sns\n",
    "import matplotlib.pyplot as plt\n",
    "\n",
    "# sentence_transformers import may raise ModuleNotFoundError if not installed\n",
    "try:\n",
    "    from sentence_transformers import SentenceTransformer\n",
    "except Exception as e:\n",
    "    raise ImportError(\"sentence-transformers is not installed. Run `pip install sentence-transformers`\") from e\n",
    "\n",
    "\n",
    "def run_distilbert_embedding_pipeline(X_train, y_train, X_test, y_test, model_name='distilbert-base-nli-mean-tokens'):\n",
    "    \"\"\"\n",
    "    DistilBERT embeddings -> LogisticRegression classifier.\n",
    "    - Resets indices, converts to lists\n",
    "    - Disables widget progress bars (show_progress_bar=False)\n",
    "    - Returns classifier, embedding_model, predictions\n",
    "    \"\"\"\n",
    "\n",
    "    # 0. Basic checks\n",
    "    if len(X_train) == 0 or len(X_test) == 0:\n",
    "        raise ValueError(\"X_train/X_test appear empty. Please check your splits.\")\n",
    "\n",
    "    # 1. Reset indices (avoid Pandas KeyError)\n",
    "    X_train = X_train.reset_index(drop=True)\n",
    "    X_test = X_test.reset_index(drop=True)\n",
    "    y_train = y_train.reset_index(drop=True)\n",
    "    y_test = y_test.reset_index(drop=True)\n",
    "\n",
    "    # 2. Convert to plain Python lists (SentenceTransformer expects list-like inputs)\n",
    "    X_train_list = X_train.tolist()\n",
    "    X_test_list = X_test.tolist()\n",
    "\n",
    "    # 3. Load embedding model (no training)\n",
    "    print(\"Loading SentenceTransformer model:\", model_name)\n",
    "    embedder = SentenceTransformer(model_name)\n",
    "\n",
    "    # 4. Encode texts to embeddings (disable progress-bar widgets)\n",
    "    print(\"Encoding training set to embeddings...\")\n",
    "    X_train_embeddings = embedder.encode(X_train_list, show_progress_bar=False, convert_to_numpy=True)\n",
    "    print(\"Encoding test set to embeddings...\")\n",
    "    X_test_embeddings = embedder.encode(X_test_list, show_progress_bar=False, convert_to_numpy=True)\n",
    "\n",
    "    # 5. Fit classifier\n",
    "    print(\"Training Logistic Regression (class_weight='balanced')...\")\n",
    "    clf = LogisticRegression(class_weight='balanced', max_iter=2000, solver='liblinear', random_state=42)\n",
    "    clf.fit(X_train_embeddings, y_train)\n",
    "\n",
    "    # 6. Predict (ensure this runs)\n",
    "    try:\n",
    "        y_pred = clf.predict(X_test_embeddings)\n",
    "    except Exception as e:\n",
    "        # If prediction fails, raise a clear message\n",
    "        raise RuntimeError(\"Prediction with LogisticRegression failed.\") from e\n",
    "\n",
    "    # 7. Evaluation (safe because y_pred exists)\n",
    "    labels = np.unique(np.concatenate([y_train.values if hasattr(y_train, \"values\") else y_train,\n",
    "                                       y_test.values if hasattr(y_test, \"values\") else y_test]))\n",
    "    labels = list(np.sort(labels))\n",
    "    # define label names if common 2/3-class mapping is expected; otherwise generic\n",
    "    if len(labels) == 2:\n",
    "        label_names = ['Negative', 'Positive']\n",
    "    elif len(labels) == 3:\n",
    "        label_names = ['Negative', 'Positive', 'Neutral']\n",
    "    else:\n",
    "        label_names = [f'Class {i}' for i in labels]\n",
    "\n",
    "    print(\"\\nClassification Report:\\n\")\n",
    "    print(classification_report(y_test, y_pred, target_names=label_names, digits=3))\n",
    "\n",
    "    # 8. Confusion matrix (plot)\n",
    "    cm = confusion_matrix(y_test, y_pred, labels=labels)\n",
    "    plt.figure(figsize=(6, 5))\n",
    "    sns.heatmap(cm, annot=True, fmt='d', cmap='Blues',\n",
    "                xticklabels=label_names,\n",
    "                yticklabels=label_names)\n",
    "    plt.xlabel('Predicted')\n",
    "    plt.ylabel('True')\n",
    "    plt.title('DistilBERT Embeddings + Logistic Regression - Confusion Matrix')\n",
    "    plt.tight_layout()\n",
    "    plt.show()\n",
    "\n",
    "    return clf, embedder, y_pred\n"
   ]
  },
  {
   "cell_type": "code",
   "execution_count": 76,
   "id": "227588ca-81e8-4fc7-b95d-515dae28cff0",
   "metadata": {},
   "outputs": [
    {
     "name": "stdout",
     "output_type": "stream",
     "text": [
      "Loading SentenceTransformer model: distilbert-base-nli-mean-tokens\n",
      "Encoding training set to embeddings...\n",
      "Encoding test set to embeddings...\n",
      "Training Logistic Regression (class_weight='balanced')...\n",
      "\n",
      "Classification Report:\n",
      "\n",
      "              precision    recall  f1-score   support\n",
      "\n",
      "    Negative      0.510     0.684     0.584       114\n",
      "    Positive      0.935     0.874     0.903       594\n",
      "\n",
      "    accuracy                          0.843       708\n",
      "   macro avg      0.722     0.779     0.744       708\n",
      "weighted avg      0.867     0.843     0.852       708\n",
      "\n"
     ]
    },
    {
     "data": {
      "image/png": "[encoded data removed]",
      "text/plain": [
       "<Figure size 600x500 with 2 Axes>"
      ]
     },
     "metadata": {},
     "output_type": "display_data"
    }
   ],
   "source": [
    "clf, embedder, y_pred = run_distilbert_embedding_pipeline(X_train, y_train, X_test, y_test)\n"
   ]
  },
  {
   "cell_type": "markdown",
   "id": "0e24c555-01f4-4394-8e43-f2b818edc970",
   "metadata": {},
   "source": [
    "## Multi-classification model.\n"
   ]
  },
  {
   "cell_type": "code",
   "execution_count": 78,
   "id": "c2f41e82-2f31-4ec4-8db4-b157b1c2d033",
   "metadata": {},
   "outputs": [
    {
     "name": "stdout",
     "output_type": "stream",
     "text": [
      "\n",
      "=Brand Classification Report =\n",
      "              precision    recall  f1-score   support\n",
      "\n",
      "           0       0.62      0.64      0.63       483\n",
      "           1       0.52      0.52      0.52       178\n",
      "           2       0.78      0.77      0.77      1153\n",
      "\n",
      "    accuracy                           0.71      1814\n",
      "   macro avg       0.64      0.64      0.64      1814\n",
      "weighted avg       0.71      0.71      0.71      1814\n",
      "\n",
      "\n",
      "=== Sentiment Classification Report ===\n",
      "              precision    recall  f1-score   support\n",
      "\n",
      "           0       0.40      0.42      0.41       114\n",
      "           1       0.74      0.83      0.78      1106\n",
      "           2       0.63      0.49      0.56       594\n",
      "\n",
      "    accuracy                           0.69      1814\n",
      "   macro avg       0.59      0.58      0.58      1814\n",
      "weighted avg       0.69      0.69      0.68      1814\n",
      "\n"
     ]
    },
    {
     "data": {
      "image/png": "[encoded data removed]",
      "text/plain": [
       "<Figure size 1200x500 with 4 Axes>"
      ]
     },
     "metadata": {},
     "output_type": "display_data"
    },
    {
     "name": "stdout",
     "output_type": "stream",
     "text": [
      "\n",
      "Brand Accuracy: 0.7084\n",
      "Sentiment Accuracy: 0.6918\n"
     ]
    }
   ],
   "source": [
    "# ============================================================\n",
    "# COMBINED BRAND + SENTIMENT \n",
    "# ============================================================\n",
    "\n",
    "# Imports\n",
    "import pandas as pd\n",
    "import numpy as np\n",
    "from sklearn.model_selection import train_test_split\n",
    "from sklearn.feature_extraction.text import TfidfVectorizer\n",
    "from sklearn.linear_model import LogisticRegression\n",
    "from sklearn.multioutput import MultiOutputClassifier\n",
    "from sklearn.metrics import classification_report, confusion_matrix, accuracy_score\n",
    "import seaborn as sns\n",
    "import matplotlib.pyplot as plt\n",
    "\n",
    "# ============================================================\n",
    "# 1. DATA PREPARATION\n",
    "# ============================================================\n",
    "\n",
    "# Example assumes your dataset is named final_df\n",
    "# Columns: 'tweet_text', 'mapped_sentiment', 'mapped_brand'\n",
    "\n",
    "df = final_df.copy()\n",
    "\n",
    "# Encode brands (categorical) and ensure sentiment is numeric\n",
    "from sklearn.preprocessing import LabelEncoder\n",
    "\n",
    "brand_encoder = LabelEncoder()\n",
    "df['brand_encoded'] = brand_encoder.fit_transform(df['mapped_brand'])\n",
    "\n",
    "# Inputs and targets\n",
    "X = df['tweet_text']\n",
    "y_brand = df['brand_encoded']\n",
    "y_sentiment = df['sentiment_label']\n",
    "\n",
    "# Split data\n",
    "X_train, X_test, y_train_brand, y_test_brand, y_train_sent, y_test_sent = train_test_split(\n",
    "    X, y_brand, y_sentiment, test_size=0.2, random_state=42, stratify=y_sentiment\n",
    ")\n",
    "\n",
    "# Text vectorization\n",
    "vectorizer = TfidfVectorizer(max_features=5000, ngram_range=(1,2))\n",
    "X_train_tfidf = vectorizer.fit_transform(X_train)\n",
    "X_test_tfidf = vectorizer.transform(X_test)\n",
    "\n",
    "\n",
    "# ============================================================\n",
    "# 2. COMBINED PIPELINE FUNCTION\n",
    "# ============================================================\n",
    "\n",
    "def run_combined_pipeline(X_train_tfidf, X_test_tfidf, y_train_brand, y_test_brand, y_train_sent, y_test_sent):\n",
    "    \"\"\"\n",
    "    Pipeline that predicts both brand and sentiment using a MultiOutputClassifier.\n",
    "    Each output gets its own Logistic Regression model internally.\n",
    "    \"\"\"\n",
    "\n",
    "    # Combine both targets into one dataframe\n",
    "    y_train_combined = pd.concat([y_train_brand, y_train_sent], axis=1)\n",
    "    y_test_combined = pd.concat([y_test_brand, y_test_sent], axis=1)\n",
    "    y_train_combined.columns = ['brand', 'sentiment']\n",
    "    y_test_combined.columns = ['brand', 'sentiment']\n",
    "\n",
    "    # Define base model\n",
    "    base_model = LogisticRegression(max_iter=1000, class_weight='balanced', solver='liblinear')\n",
    "\n",
    "    # Multi-output model (predicts both targets simultaneously)\n",
    "    multi_output_model = MultiOutputClassifier(base_model)\n",
    "\n",
    "    # Train\n",
    "    multi_output_model.fit(X_train_tfidf, y_train_combined)\n",
    "\n",
    "    # Predict\n",
    "    y_pred_combined = multi_output_model.predict(X_test_tfidf)\n",
    "    y_pred_brand = y_pred_combined[:, 0]\n",
    "    y_pred_sent = y_pred_combined[:, 1]\n",
    "\n",
    "    # Evaluation\n",
    "    print(\"\\n=Brand Classification Report =\")\n",
    "    print(classification_report(y_test_combined['brand'], y_pred_brand))\n",
    "\n",
    "    print(\"\\n=== Sentiment Classification Report ===\")\n",
    "    print(classification_report(y_test_combined['sentiment'], y_pred_sent))\n",
    "\n",
    "    # Confusion matrices\n",
    "    fig, axes = plt.subplots(1, 2, figsize=(12, 5))\n",
    "    sns.heatmap(confusion_matrix(y_test_combined['brand'], y_pred_brand), annot=True, fmt='d', cmap='Blues', ax=axes[0])\n",
    "    axes[0].set_title(\"Brand Confusion Matrix\")\n",
    "    axes[0].set_xlabel(\"Predicted\")\n",
    "    axes[0].set_ylabel(\"True\")\n",
    "\n",
    "    sns.heatmap(confusion_matrix(y_test_combined['sentiment'], y_pred_sent), annot=True, fmt='d', cmap='Greens', ax=axes[1])\n",
    "    axes[1].set_title(\"Sentiment Confusion Matrix\")\n",
    "    axes[1].set_xlabel(\"Predicted\")\n",
    "    axes[1].set_ylabel(\"True\")\n",
    "\n",
    "    plt.tight_layout()\n",
    "    plt.show()\n",
    "\n",
    "    # Summary accuracy\n",
    "    brand_acc = accuracy_score(y_test_combined['brand'], y_pred_brand)\n",
    "    sent_acc = accuracy_score(y_test_combined['sentiment'], y_pred_sent)\n",
    "    print(f\"\\nBrand Accuracy: {brand_acc:.4f}\")\n",
    "    print(f\"Sentiment Accuracy: {sent_acc:.4f}\")\n",
    "\n",
    "    return multi_output_model, vectorizer\n",
    "\n",
    "\n",
    "# ============================================================\n",
    "# 3. EXECUTION\n",
    "# ============================================================\n",
    "\n",
    "combined_model, tfidf_vectorizer = run_combined_pipeline(\n",
    "    X_train_tfidf, X_test_tfidf,\n",
    "    y_train_brand, y_test_brand,\n",
    "    y_train_sent, y_test_sent\n",
    ")\n"
   ]
  },
  {
   "cell_type": "code",
   "execution_count": null,
   "id": "112a40d2-f57d-42fa-88c2-034df5dae46b",
   "metadata": {},
   "outputs": [],
   "source": []
  }
 ],
 "metadata": {
  "kernelspec": {
   "display_name": "Python [conda env:base] *",
   "language": "python",
   "name": "conda-base-py"
  },
  "language_info": {
   "codemirror_mode": {
    "name": "ipython",
    "version": 3
   },
   "file_extension": ".py",
   "mimetype": "text/x-python",
   "name": "python",
   "nbconvert_exporter": "python",
   "pygments_lexer": "ipython3",
   "version": "3.12.7"
  }
 },
 "nbformat": 4,
 "nbformat_minor": 5
}
