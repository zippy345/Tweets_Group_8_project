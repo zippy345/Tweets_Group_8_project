{
 "cells": [
  {
   "cell_type": "markdown",
   "id": "2bee3427-523e-4010-a77d-fd21c315a8bd",
   "metadata": {},
   "source": [
    "# 1.BUSINESS UNDERSTANDING\n",
    "### 1.1 Business overview\n",
    "Social media platforms like Twitter have become powerful tools for expressing opinions about brands and products. Companies such as Apple and Google receive thousands of mentions daily regarding their products, services, and updates.\n",
    "\n",
    "Analyzing this massive amount of unstructured text can help businesses understand public perception, brand reputation, and customer satisfaction.\n",
    "\n",
    "This project focuses on building a Natural Language Processing (NLP) model that automatically classifies tweets related to Apple and Google products as positive, negative, or neutral based on the sentiment expressed in the text."
   ]
  },
  {
   "cell_type": "markdown",
   "id": "d5743a4c-1026-4658-8d7f-4ce88741d8a5",
   "metadata": {},
   "source": [
    "## 1.2 Problem statement\n",
    "How can we automatically classify the sentiment of tweets about Apple and Google products using NLP techniques?"
   ]
  },
  {
   "cell_type": "markdown",
   "id": "d4d88e78-4db2-4ba5-a4f9-56b133cdd3a1",
   "metadata": {},
   "source": [
    "## 1.3 Business Objectives\n",
    "`Main Objective`\n",
    "\n",
    "To develop a machine learning model capable of accurately classifying the sentiment of tweets related to Apple and Google products as positive, negative, or neutral.\n",
    "\n",
    "`Specific Objectives`\n",
    "\n",
    "* To clean and preprocess raw Twitter text data for analysis.\n",
    "\n",
    "* To explore and visualize sentiment distribution between Apple and Google products.\n",
    "\n",
    "* To build and evaluate different NLP models for sentiment classification.\n",
    "\n",
    "* To compare model performance and identify the best-performing model.\n",
    "\n",
    "* To interpret results and provide insights on public opinion about Apple and Google."
   ]
  },
  {
   "cell_type": "markdown",
   "id": "52a8a834-2409-4407-b98a-e7f6d3686d89",
   "metadata": {},
   "source": [
    "## 1.4 Research Questions\n",
    "\n",
    "1. What is the overall sentiment (positive, negative, neutral) toward Apple and Google products on Twitter?\n",
    "\n",
    "2. Which brand receives more positive or negative mentions?\n",
    "\n",
    "3. Can a machine learning model accurately predict tweet sentiment based on text content?\n",
    "\n",
    "4. Which NLP techniques produce the best model performance?"
   ]
  },
  {
   "cell_type": "markdown",
   "id": "3c2196c1-25f6-46c3-a34f-95f84fcbd8d6",
   "metadata": {},
   "source": [
    "# 2. DATA UNDERSTANDING\n",
    "## 2.1 Data Source\n",
    "\n",
    "The dataset was obtained from CrowdFlower and accessed through data.world:\n",
    "Brands and Product Emotions Dataset\n",
    "\n",
    "It contains over 9,000 tweets labeled with sentiments and associated brands or products.\n",
    "\n",
    "The dataset contains 9,093 rows (tweets) and 3 columns\n",
    "\n",
    "Multiple columns, including text, brand, product, and sentiment labels."
   ]
  },
  {
   "cell_type": "markdown",
   "id": "f8fd92d6-d73f-4b00-8447-3528656261ed",
   "metadata": {},
   "source": [
    "# 3. DATA PREPARATION\n",
    "## 3.1 Overview\n",
    "\n",
    "The data preparation process will involve:\n",
    "\n",
    "* Importing and inspecting the dataset\n",
    "\n",
    "* Handling missing values\n",
    "\n",
    "* Filtering only Apple and Google tweets\n",
    "\n",
    "* Cleaning and preprocessing tweet text\n",
    "\n",
    "* Encoding sentiment labels\n",
    "\n",
    "* Splitting data into training and testing sets"
   ]
  },
  {
   "cell_type": "code",
   "execution_count": 1,
   "id": "9eed0552-376d-4313-a39f-18bb237b45b5",
   "metadata": {},
   "outputs": [],
   "source": [
    "#impoerting necessary libraries\n",
    "import pandas as pd\n",
    "import numpy as np\n",
    "import seaborn as sns\n",
    "import matplotlib.pyplot as plt\n"
   ]
  },
  {
   "cell_type": "code",
   "execution_count": 2,
   "id": "a0f870e5-3deb-4fdc-8233-00f785051b1c",
   "metadata": {},
   "outputs": [
    {
     "data": {
      "text/html": [
       "<div>\n",
       "<style scoped>\n",
       "    .dataframe tbody tr th:only-of-type {\n",
       "        vertical-align: middle;\n",
       "    }\n",
       "\n",
       "    .dataframe tbody tr th {\n",
       "        vertical-align: top;\n",
       "    }\n",
       "\n",
       "    .dataframe thead th {\n",
       "        text-align: right;\n",
       "    }\n",
       "</style>\n",
       "<table border=\"1\" class=\"dataframe\">\n",
       "  <thead>\n",
       "    <tr style=\"text-align: right;\">\n",
       "      <th></th>\n",
       "      <th>tweet_text</th>\n",
       "      <th>emotion_in_tweet_is_directed_at</th>\n",
       "      <th>is_there_an_emotion_directed_at_a_brand_or_product</th>\n",
       "    </tr>\n",
       "  </thead>\n",
       "  <tbody>\n",
       "    <tr>\n",
       "      <th>0</th>\n",
       "      <td>.@wesley83 I have a 3G iPhone. After 3 hrs twe...</td>\n",
       "      <td>iPhone</td>\n",
       "      <td>Negative emotion</td>\n",
       "    </tr>\n",
       "    <tr>\n",
       "      <th>1</th>\n",
       "      <td>@jessedee Know about @fludapp ? Awesome iPad/i...</td>\n",
       "      <td>iPad or iPhone App</td>\n",
       "      <td>Positive emotion</td>\n",
       "    </tr>\n",
       "    <tr>\n",
       "      <th>2</th>\n",
       "      <td>@swonderlin Can not wait for #iPad 2 also. The...</td>\n",
       "      <td>iPad</td>\n",
       "      <td>Positive emotion</td>\n",
       "    </tr>\n",
       "    <tr>\n",
       "      <th>3</th>\n",
       "      <td>@sxsw I hope this year's festival isn't as cra...</td>\n",
       "      <td>iPad or iPhone App</td>\n",
       "      <td>Negative emotion</td>\n",
       "    </tr>\n",
       "    <tr>\n",
       "      <th>4</th>\n",
       "      <td>@sxtxstate great stuff on Fri #SXSW: Marissa M...</td>\n",
       "      <td>Google</td>\n",
       "      <td>Positive emotion</td>\n",
       "    </tr>\n",
       "  </tbody>\n",
       "</table>\n",
       "</div>"
      ],
      "text/plain": [
       "                                          tweet_text  \\\n",
       "0  .@wesley83 I have a 3G iPhone. After 3 hrs twe...   \n",
       "1  @jessedee Know about @fludapp ? Awesome iPad/i...   \n",
       "2  @swonderlin Can not wait for #iPad 2 also. The...   \n",
       "3  @sxsw I hope this year's festival isn't as cra...   \n",
       "4  @sxtxstate great stuff on Fri #SXSW: Marissa M...   \n",
       "\n",
       "  emotion_in_tweet_is_directed_at  \\\n",
       "0                          iPhone   \n",
       "1              iPad or iPhone App   \n",
       "2                            iPad   \n",
       "3              iPad or iPhone App   \n",
       "4                          Google   \n",
       "\n",
       "  is_there_an_emotion_directed_at_a_brand_or_product  \n",
       "0                                   Negative emotion  \n",
       "1                                   Positive emotion  \n",
       "2                                   Positive emotion  \n",
       "3                                   Negative emotion  \n",
       "4                                   Positive emotion  "
      ]
     },
     "execution_count": 2,
     "metadata": {},
     "output_type": "execute_result"
    }
   ],
   "source": [
    "# Load the dataset\n",
    "df = pd.read_csv(\"judge-1377884607_tweet_product_company.csv\", encoding='latin1')\n",
    "df.head()"
   ]
  },
  {
   "cell_type": "code",
   "execution_count": 3,
   "id": "5ea40fe8-5e41-44e3-a2d3-22b5143dcf07",
   "metadata": {},
   "outputs": [
    {
     "data": {
      "text/plain": [
       "(9093, 3)"
      ]
     },
     "execution_count": 3,
     "metadata": {},
     "output_type": "execute_result"
    }
   ],
   "source": [
    "df. shape"
   ]
  },
  {
   "cell_type": "code",
   "execution_count": 4,
   "id": "bf42b975-1ba4-45cc-9dab-584babd89e4a",
   "metadata": {},
   "outputs": [
    {
     "name": "stdout",
     "output_type": "stream",
     "text": [
      "<class 'pandas.core.frame.DataFrame'>\n",
      "RangeIndex: 9093 entries, 0 to 9092\n",
      "Data columns (total 3 columns):\n",
      " #   Column                                              Non-Null Count  Dtype \n",
      "---  ------                                              --------------  ----- \n",
      " 0   tweet_text                                          9092 non-null   object\n",
      " 1   emotion_in_tweet_is_directed_at                     3291 non-null   object\n",
      " 2   is_there_an_emotion_directed_at_a_brand_or_product  9093 non-null   object\n",
      "dtypes: object(3)\n",
      "memory usage: 213.2+ KB\n"
     ]
    }
   ],
   "source": [
    "#checking for missing values\n",
    "df.info()"
   ]
  },
  {
   "cell_type": "code",
   "execution_count": 5,
   "id": "19573baf-8087-4ec9-8f84-1dcf59978f90",
   "metadata": {},
   "outputs": [
    {
     "data": {
      "text/plain": [
       "tweet_text                                               1\n",
       "emotion_in_tweet_is_directed_at                       5802\n",
       "is_there_an_emotion_directed_at_a_brand_or_product       0\n",
       "dtype: int64"
      ]
     },
     "execution_count": 5,
     "metadata": {},
     "output_type": "execute_result"
    }
   ],
   "source": [
    "#checking for missing values\n",
    "df.isnull().sum()"
   ]
  },
  {
   "cell_type": "code",
   "execution_count": 6,
   "id": "388b32c8-9162-402b-9ee8-af0a9a21d4a6",
   "metadata": {},
   "outputs": [
    {
     "data": {
      "text/plain": [
       "Index(['tweet_text', 'emotion_in_tweet_is_directed_at',\n",
       "       'is_there_an_emotion_directed_at_a_brand_or_product'],\n",
       "      dtype='object')"
      ]
     },
     "execution_count": 6,
     "metadata": {},
     "output_type": "execute_result"
    }
   ],
   "source": [
    "df.columns"
   ]
  },
  {
   "cell_type": "code",
   "execution_count": 7,
   "id": "aebc9c16-53a8-4706-8112-64b76d3f381b",
   "metadata": {},
   "outputs": [
    {
     "data": {
      "text/plain": [
       "0"
      ]
     },
     "execution_count": 7,
     "metadata": {},
     "output_type": "execute_result"
    }
   ],
   "source": [
    "# Handle missing values in tweet_text\n",
    "df = df.dropna(subset = ['tweet_text']).copy()\n",
    "\n",
    "# Confirm that there are no missing values in tweet_text\n",
    "df['tweet_text'].isnull().sum()"
   ]
  },
  {
   "cell_type": "code",
   "execution_count": 8,
   "id": "f23e3820-91de-4775-bbcb-4fa63e2dc6e1",
   "metadata": {},
   "outputs": [
    {
     "name": "stdout",
     "output_type": "stream",
     "text": [
      "emotion_in_tweet_is_directed_at\n",
      "iPad                               946\n",
      "Apple                              661\n",
      "iPad or iPhone App                 470\n",
      "Google                             430\n",
      "iPhone                             297\n",
      "Other Google product or service    293\n",
      "Android App                         81\n",
      "Android                             78\n",
      "Other Apple product or service      35\n",
      "Name: count, dtype: int64\n",
      "Missing values in this column: 5801\n"
     ]
    }
   ],
   "source": [
    "print(df['emotion_in_tweet_is_directed_at'].value_counts())\n",
    "\n",
    "# Check missing values\n",
    "print(f\"Missing values in this column: {df['emotion_in_tweet_is_directed_at'].isnull().sum()}\")"
   ]
  },
  {
   "cell_type": "code",
   "execution_count": 9,
   "id": "0f8e6a2b-073e-41b9-b153-0d8c1c9b41d0",
   "metadata": {},
   "outputs": [
    {
     "data": {
      "text/plain": [
       "22"
      ]
     },
     "execution_count": 9,
     "metadata": {},
     "output_type": "execute_result"
    }
   ],
   "source": [
    "#checking for duplicates\n",
    "df.duplicated().sum()"
   ]
  },
  {
   "cell_type": "code",
   "execution_count": 10,
   "id": "0030bb50-898b-4986-8d12-3dde850b32e9",
   "metadata": {},
   "outputs": [],
   "source": [
    "#drop duplicates\n",
    "df=df.drop_duplicates()"
   ]
  },
  {
   "cell_type": "code",
   "execution_count": 11,
   "id": "95bfe5cc-50e2-444b-a4ba-0a751092bf87",
   "metadata": {},
   "outputs": [
    {
     "data": {
      "text/html": [
       "<div>\n",
       "<style scoped>\n",
       "    .dataframe tbody tr th:only-of-type {\n",
       "        vertical-align: middle;\n",
       "    }\n",
       "\n",
       "    .dataframe tbody tr th {\n",
       "        vertical-align: top;\n",
       "    }\n",
       "\n",
       "    .dataframe thead th {\n",
       "        text-align: right;\n",
       "    }\n",
       "</style>\n",
       "<table border=\"1\" class=\"dataframe\">\n",
       "  <thead>\n",
       "    <tr style=\"text-align: right;\">\n",
       "      <th></th>\n",
       "      <th>tweet</th>\n",
       "      <th>product</th>\n",
       "      <th>sentiment</th>\n",
       "    </tr>\n",
       "  </thead>\n",
       "  <tbody>\n",
       "    <tr>\n",
       "      <th>0</th>\n",
       "      <td>.@wesley83 I have a 3G iPhone. After 3 hrs twe...</td>\n",
       "      <td>iPhone</td>\n",
       "      <td>Negative emotion</td>\n",
       "    </tr>\n",
       "    <tr>\n",
       "      <th>1</th>\n",
       "      <td>@jessedee Know about @fludapp ? Awesome iPad/i...</td>\n",
       "      <td>iPad or iPhone App</td>\n",
       "      <td>Positive emotion</td>\n",
       "    </tr>\n",
       "    <tr>\n",
       "      <th>2</th>\n",
       "      <td>@swonderlin Can not wait for #iPad 2 also. The...</td>\n",
       "      <td>iPad</td>\n",
       "      <td>Positive emotion</td>\n",
       "    </tr>\n",
       "    <tr>\n",
       "      <th>3</th>\n",
       "      <td>@sxsw I hope this year's festival isn't as cra...</td>\n",
       "      <td>iPad or iPhone App</td>\n",
       "      <td>Negative emotion</td>\n",
       "    </tr>\n",
       "    <tr>\n",
       "      <th>4</th>\n",
       "      <td>@sxtxstate great stuff on Fri #SXSW: Marissa M...</td>\n",
       "      <td>Google</td>\n",
       "      <td>Positive emotion</td>\n",
       "    </tr>\n",
       "  </tbody>\n",
       "</table>\n",
       "</div>"
      ],
      "text/plain": [
       "                                               tweet             product  \\\n",
       "0  .@wesley83 I have a 3G iPhone. After 3 hrs twe...              iPhone   \n",
       "1  @jessedee Know about @fludapp ? Awesome iPad/i...  iPad or iPhone App   \n",
       "2  @swonderlin Can not wait for #iPad 2 also. The...                iPad   \n",
       "3  @sxsw I hope this year's festival isn't as cra...  iPad or iPhone App   \n",
       "4  @sxtxstate great stuff on Fri #SXSW: Marissa M...              Google   \n",
       "\n",
       "          sentiment  \n",
       "0  Negative emotion  \n",
       "1  Positive emotion  \n",
       "2  Positive emotion  \n",
       "3  Negative emotion  \n",
       "4  Positive emotion  "
      ]
     },
     "execution_count": 11,
     "metadata": {},
     "output_type": "execute_result"
    }
   ],
   "source": [
    "#rename the columns\n",
    "df = df.rename(columns={\n",
    "    'tweet_text': 'tweet',\n",
    "    'emotion_in_tweet_is_directed_at': 'product',\n",
    "    'is_there_an_emotion_directed_at_a_brand_or_product': 'sentiment'\n",
    "})\n",
    "\n",
    "df.head()"
   ]
  },
  {
   "cell_type": "code",
   "execution_count": 12,
   "id": "a36919a7-12cb-4c33-bf89-27f256088b86",
   "metadata": {},
   "outputs": [
    {
     "data": {
      "text/plain": [
       "sentiment\n",
       "No emotion toward brand or product    5375\n",
       "Positive emotion                      2970\n",
       "Negative emotion                       569\n",
       "I can't tell                           156\n",
       "Name: count, dtype: int64"
      ]
     },
     "execution_count": 12,
     "metadata": {},
     "output_type": "execute_result"
    }
   ],
   "source": [
    "#checking unique sentiments\n",
    "df['sentiment'].value_counts()"
   ]
  },
  {
   "cell_type": "code",
   "execution_count": 13,
   "id": "7f1daa73-dd41-4b1d-ae57-ad4929a27b79",
   "metadata": {},
   "outputs": [
    {
     "data": {
      "text/html": [
       "<div>\n",
       "<style scoped>\n",
       "    .dataframe tbody tr th:only-of-type {\n",
       "        vertical-align: middle;\n",
       "    }\n",
       "\n",
       "    .dataframe tbody tr th {\n",
       "        vertical-align: top;\n",
       "    }\n",
       "\n",
       "    .dataframe thead th {\n",
       "        text-align: right;\n",
       "    }\n",
       "</style>\n",
       "<table border=\"1\" class=\"dataframe\">\n",
       "  <thead>\n",
       "    <tr style=\"text-align: right;\">\n",
       "      <th></th>\n",
       "      <th>tweet</th>\n",
       "      <th>sentiment</th>\n",
       "    </tr>\n",
       "  </thead>\n",
       "  <tbody>\n",
       "    <tr>\n",
       "      <th>0</th>\n",
       "      <td>.@wesley83 I have a 3G iPhone. After 3 hrs twe...</td>\n",
       "      <td>Negative emotion</td>\n",
       "    </tr>\n",
       "    <tr>\n",
       "      <th>1</th>\n",
       "      <td>@jessedee Know about @fludapp ? Awesome iPad/i...</td>\n",
       "      <td>Positive emotion</td>\n",
       "    </tr>\n",
       "    <tr>\n",
       "      <th>2</th>\n",
       "      <td>@swonderlin Can not wait for #iPad 2 also. The...</td>\n",
       "      <td>Positive emotion</td>\n",
       "    </tr>\n",
       "    <tr>\n",
       "      <th>3</th>\n",
       "      <td>@sxsw I hope this year's festival isn't as cra...</td>\n",
       "      <td>Negative emotion</td>\n",
       "    </tr>\n",
       "    <tr>\n",
       "      <th>4</th>\n",
       "      <td>@sxtxstate great stuff on Fri #SXSW: Marissa M...</td>\n",
       "      <td>Positive emotion</td>\n",
       "    </tr>\n",
       "    <tr>\n",
       "      <th>5</th>\n",
       "      <td>@teachntech00 New iPad Apps For #SpeechTherapy...</td>\n",
       "      <td>No emotion toward brand or product</td>\n",
       "    </tr>\n",
       "    <tr>\n",
       "      <th>7</th>\n",
       "      <td>#SXSW is just starting, #CTIA is around the co...</td>\n",
       "      <td>Positive emotion</td>\n",
       "    </tr>\n",
       "    <tr>\n",
       "      <th>8</th>\n",
       "      <td>Beautifully smart and simple idea RT @madebyma...</td>\n",
       "      <td>Positive emotion</td>\n",
       "    </tr>\n",
       "    <tr>\n",
       "      <th>9</th>\n",
       "      <td>Counting down the days to #sxsw plus strong Ca...</td>\n",
       "      <td>Positive emotion</td>\n",
       "    </tr>\n",
       "    <tr>\n",
       "      <th>10</th>\n",
       "      <td>Excited to meet the @samsungmobileus at #sxsw ...</td>\n",
       "      <td>Positive emotion</td>\n",
       "    </tr>\n",
       "  </tbody>\n",
       "</table>\n",
       "</div>"
      ],
      "text/plain": [
       "                                                tweet  \\\n",
       "0   .@wesley83 I have a 3G iPhone. After 3 hrs twe...   \n",
       "1   @jessedee Know about @fludapp ? Awesome iPad/i...   \n",
       "2   @swonderlin Can not wait for #iPad 2 also. The...   \n",
       "3   @sxsw I hope this year's festival isn't as cra...   \n",
       "4   @sxtxstate great stuff on Fri #SXSW: Marissa M...   \n",
       "5   @teachntech00 New iPad Apps For #SpeechTherapy...   \n",
       "7   #SXSW is just starting, #CTIA is around the co...   \n",
       "8   Beautifully smart and simple idea RT @madebyma...   \n",
       "9   Counting down the days to #sxsw plus strong Ca...   \n",
       "10  Excited to meet the @samsungmobileus at #sxsw ...   \n",
       "\n",
       "                             sentiment  \n",
       "0                     Negative emotion  \n",
       "1                     Positive emotion  \n",
       "2                     Positive emotion  \n",
       "3                     Negative emotion  \n",
       "4                     Positive emotion  \n",
       "5   No emotion toward brand or product  \n",
       "7                     Positive emotion  \n",
       "8                     Positive emotion  \n",
       "9                     Positive emotion  \n",
       "10                    Positive emotion  "
      ]
     },
     "execution_count": 13,
     "metadata": {},
     "output_type": "execute_result"
    }
   ],
   "source": [
    "# Check a few example tweets\n",
    "df[['tweet', 'sentiment']].head(10)"
   ]
  },
  {
   "cell_type": "markdown",
   "id": "b77b819f-d6c9-4f7e-8657-08e09d24dedb",
   "metadata": {},
   "source": [
    "### Cleaning the text\n"
   ]
  },
  {
   "cell_type": "code",
   "execution_count": 14,
   "id": "010abccb-8c90-4f25-8ab0-b0daabde7601",
   "metadata": {},
   "outputs": [
    {
     "data": {
      "text/plain": [
       "sentiment\n",
       "neutral     5531\n",
       "positive    2970\n",
       "negative     569\n",
       "Name: count, dtype: int64"
      ]
     },
     "execution_count": 14,
     "metadata": {},
     "output_type": "execute_result"
    }
   ],
   "source": [
    "# Replace detailed sentiments with simple ones\n",
    "df['sentiment'] = df['sentiment'].replace({\n",
    "    'Positive emotion': 'positive',\n",
    "    'Negative emotion': 'negative',\n",
    "    'No emotion toward brand or product': 'neutral',\n",
    "    \"I can't tell\": 'neutral'\n",
    "})\n",
    "\n",
    "# Check new label counts\n",
    "df['sentiment'].value_counts()\n"
   ]
  },
  {
   "cell_type": "code",
   "execution_count": 15,
   "id": "1a2b0c33-af8b-4b20-9a7a-a04dcc635c59",
   "metadata": {},
   "outputs": [
    {
     "data": {
      "text/html": [
       "<div>\n",
       "<style scoped>\n",
       "    .dataframe tbody tr th:only-of-type {\n",
       "        vertical-align: middle;\n",
       "    }\n",
       "\n",
       "    .dataframe tbody tr th {\n",
       "        vertical-align: top;\n",
       "    }\n",
       "\n",
       "    .dataframe thead th {\n",
       "        text-align: right;\n",
       "    }\n",
       "</style>\n",
       "<table border=\"1\" class=\"dataframe\">\n",
       "  <thead>\n",
       "    <tr style=\"text-align: right;\">\n",
       "      <th></th>\n",
       "      <th>tweet</th>\n",
       "      <th>clean_tweet</th>\n",
       "    </tr>\n",
       "  </thead>\n",
       "  <tbody>\n",
       "    <tr>\n",
       "      <th>0</th>\n",
       "      <td>.@wesley83 I have a 3G iPhone. After 3 hrs twe...</td>\n",
       "      <td>i have a g iphone after  hrs tweeting at risea...</td>\n",
       "    </tr>\n",
       "    <tr>\n",
       "      <th>1</th>\n",
       "      <td>@jessedee Know about @fludapp ? Awesome iPad/i...</td>\n",
       "      <td>know about   awesome ipadiphone app that youll...</td>\n",
       "    </tr>\n",
       "    <tr>\n",
       "      <th>2</th>\n",
       "      <td>@swonderlin Can not wait for #iPad 2 also. The...</td>\n",
       "      <td>can not wait for ipad  also they should sale t...</td>\n",
       "    </tr>\n",
       "    <tr>\n",
       "      <th>3</th>\n",
       "      <td>@sxsw I hope this year's festival isn't as cra...</td>\n",
       "      <td>i hope this years festival isnt as crashy as t...</td>\n",
       "    </tr>\n",
       "    <tr>\n",
       "      <th>4</th>\n",
       "      <td>@sxtxstate great stuff on Fri #SXSW: Marissa M...</td>\n",
       "      <td>great stuff on fri sxsw marissa mayer google t...</td>\n",
       "    </tr>\n",
       "    <tr>\n",
       "      <th>5</th>\n",
       "      <td>@teachntech00 New iPad Apps For #SpeechTherapy...</td>\n",
       "      <td>new ipad apps for speechtherapy and communicat...</td>\n",
       "    </tr>\n",
       "    <tr>\n",
       "      <th>7</th>\n",
       "      <td>#SXSW is just starting, #CTIA is around the co...</td>\n",
       "      <td>sxsw is just starting ctia is around the corne...</td>\n",
       "    </tr>\n",
       "    <tr>\n",
       "      <th>8</th>\n",
       "      <td>Beautifully smart and simple idea RT @madebyma...</td>\n",
       "      <td>beautifully smart and simple idea rt   wrote a...</td>\n",
       "    </tr>\n",
       "    <tr>\n",
       "      <th>9</th>\n",
       "      <td>Counting down the days to #sxsw plus strong Ca...</td>\n",
       "      <td>counting down the days to sxsw plus strong can...</td>\n",
       "    </tr>\n",
       "    <tr>\n",
       "      <th>10</th>\n",
       "      <td>Excited to meet the @samsungmobileus at #sxsw ...</td>\n",
       "      <td>excited to meet the  at sxsw so i can show the...</td>\n",
       "    </tr>\n",
       "  </tbody>\n",
       "</table>\n",
       "</div>"
      ],
      "text/plain": [
       "                                                tweet  \\\n",
       "0   .@wesley83 I have a 3G iPhone. After 3 hrs twe...   \n",
       "1   @jessedee Know about @fludapp ? Awesome iPad/i...   \n",
       "2   @swonderlin Can not wait for #iPad 2 also. The...   \n",
       "3   @sxsw I hope this year's festival isn't as cra...   \n",
       "4   @sxtxstate great stuff on Fri #SXSW: Marissa M...   \n",
       "5   @teachntech00 New iPad Apps For #SpeechTherapy...   \n",
       "7   #SXSW is just starting, #CTIA is around the co...   \n",
       "8   Beautifully smart and simple idea RT @madebyma...   \n",
       "9   Counting down the days to #sxsw plus strong Ca...   \n",
       "10  Excited to meet the @samsungmobileus at #sxsw ...   \n",
       "\n",
       "                                          clean_tweet  \n",
       "0   i have a g iphone after  hrs tweeting at risea...  \n",
       "1   know about   awesome ipadiphone app that youll...  \n",
       "2   can not wait for ipad  also they should sale t...  \n",
       "3   i hope this years festival isnt as crashy as t...  \n",
       "4   great stuff on fri sxsw marissa mayer google t...  \n",
       "5   new ipad apps for speechtherapy and communicat...  \n",
       "7   sxsw is just starting ctia is around the corne...  \n",
       "8   beautifully smart and simple idea rt   wrote a...  \n",
       "9   counting down the days to sxsw plus strong can...  \n",
       "10  excited to meet the  at sxsw so i can show the...  "
      ]
     },
     "execution_count": 15,
     "metadata": {},
     "output_type": "execute_result"
    }
   ],
   "source": [
    "import re\n",
    "\n",
    "# Convert all tweets to string just in case\n",
    "df['tweet'] = df['tweet'].astype(str)\n",
    "\n",
    "# Define a cleaning function\n",
    "def clean_tweet(text):\n",
    "    if not isinstance(text, str):\n",
    "        return \"\"\n",
    "    text = text.lower()                           # make all lowercase\n",
    "    text = re.sub(r'http\\S+|www.\\S+', '', text)   # remove URLs\n",
    "    text = re.sub(r'@\\w+|#', '', text)            # remove mentions and hashtags\n",
    "    text = re.sub(r'[^a-z\\s]', '', text)          # remove punctuation and numbers\n",
    "    text = text.strip()                           # remove extra spaces\n",
    "    return text\n",
    "\n",
    "# Apply cleaning\n",
    "df['clean_tweet'] = df['tweet'].apply(clean_tweet)\n",
    "\n",
    "# Check before and after\n",
    "df[['tweet', 'clean_tweet']].head(10)\n",
    "\n"
   ]
  },
  {
   "cell_type": "code",
   "execution_count": 18,
   "id": "3ae07d87-d8ea-4be3-b84b-c8eb62771271",
   "metadata": {},
   "outputs": [
    {
     "name": "stderr",
     "output_type": "stream",
     "text": [
      "C:\\Users\\Administrator\\AppData\\Local\\Temp\\ipykernel_20940\\3540181936.py:3: FutureWarning: \n",
      "\n",
      "Passing `palette` without assigning `hue` is deprecated and will be removed in v0.14.0. Assign the `x` variable to `hue` and set `legend=False` for the same effect.\n",
      "\n",
      "  sns.countplot(x='sentiment', data=df, palette='pastel')\n"
     ]
    },
    {
     "data": {
      "image/png": "[encoded data removed]",
      "text/plain": [
       "<Figure size 700x500 with 1 Axes>"
      ]
     },
     "metadata": {},
     "output_type": "display_data"
    }
   ],
   "source": [
    "#distribution of sentiment\n",
    "plt.figure(figsize=(7,5))\n",
    "sns.countplot(x='sentiment', data=df, palette='pastel')\n",
    "plt.title('Sentiment Distribution', fontsize=14)\n",
    "plt.xlabel('Sentiment')\n",
    "plt.ylabel('Number of Tweets')\n",
    "plt.show()\n"
   ]
  },
  {
   "cell_type": "code",
   "execution_count": 22,
   "id": "659692fd-5682-408a-a4d5-83aba043c4e3",
   "metadata": {},
   "outputs": [
    {
     "name": "stdout",
     "output_type": "stream",
     "text": [
      "brand_category\n",
      "Other/Unknown    5788\n",
      "Apple            2404\n",
      "Google            878\n",
      "Name: count, dtype: int64\n"
     ]
    }
   ],
   "source": [
    "brand_mapping = {\n",
    "    'iPad': 'Apple',\n",
    "    'Apple': 'Apple', \n",
    "    'iPad or iPhone App': 'Apple',\n",
    "    'iPhone': 'Apple',\n",
    "    'Other Apple product or service': 'Apple',\n",
    "    'Google': 'Google',\n",
    "    'Other Google product or service': 'Google',\n",
    "    'Android App': 'Google', \n",
    "    'Android': 'Google'\n",
    "}\n",
    "\n",
    "# Apply the mapping \n",
    "df['brand_category'] = df['product'].map(brand_mapping).fillna('Other/Unknown')\n",
    "\n",
    "# Check Value counts of the new column\n",
    "print(df['brand_category'].value_counts())"
   ]
  },
  {
   "cell_type": "code",
   "execution_count": 25,
   "id": "7d049faf-bfc2-4bbf-aaa8-b11b0e2dde1f",
   "metadata": {},
   "outputs": [
    {
     "name": "stderr",
     "output_type": "stream",
     "text": [
      "C:\\Users\\Administrator\\AppData\\Local\\Temp\\ipykernel_20940\\4232671203.py:5: FutureWarning: \n",
      "\n",
      "Passing `palette` without assigning `hue` is deprecated and will be removed in v0.14.0. Assign the `y` variable to `hue` and set `legend=False` for the same effect.\n",
      "\n",
      "  sns.barplot(x=top_products.values, y=top_products.index, palette='cool')\n"
     ]
    },
    {
     "data": {
      "image/png": "[encoded data removed]",
      "text/plain": [
       "<Figure size 800x500 with 1 Axes>"
      ]
     },
     "metadata": {},
     "output_type": "display_data"
    }
   ],
   "source": [
    "#top 10 products\n",
    "top_products = df['brand_category'].value_counts().head(10)\n",
    "\n",
    "plt.figure(figsize=(8,5))\n",
    "sns.barplot(x=top_products.values, y=top_products.index, palette='cool')\n",
    "plt.title('Top 10 Mentioned Products')\n",
    "plt.xlabel('Count')\n",
    "plt.ylabel('Product')\n",
    "plt.show()\n"
   ]
  },
  {
   "cell_type": "code",
   "execution_count": 26,
   "id": "c43f750e-7423-4e9e-91c8-3eeea3e746b8",
   "metadata": {},
   "outputs": [
    {
     "name": "stderr",
     "output_type": "stream",
     "text": [
      "C:\\Users\\Administrator\\AppData\\Local\\Temp\\ipykernel_20940\\202937148.py:4: FutureWarning: \n",
      "\n",
      "Passing `palette` without assigning `hue` is deprecated and will be removed in v0.14.0. Assign the `x` variable to `hue` and set `legend=False` for the same effect.\n",
      "\n",
      "  sns.boxplot(x='sentiment', y='tweet_length', data=df, palette='Set2')\n"
     ]
    },
    {
     "data": {
      "image/png": "[encoded data removed]",
      "text/plain": [
       "<Figure size 800x500 with 1 Axes>"
      ]
     },
     "metadata": {},
     "output_type": "display_data"
    }
   ],
   "source": [
    "df['tweet_length'] = df['clean_tweet'].apply(len)\n",
    "\n",
    "plt.figure(figsize=(8,5))\n",
    "sns.boxplot(x='sentiment', y='tweet_length', data=df, palette='Set2')\n",
    "plt.title('Tweet Length by Sentiment')\n",
    "plt.xlabel('Sentiment')\n",
    "plt.ylabel('Length of Tweet')\n",
    "plt.show()\n"
   ]
  },
  {
   "cell_type": "code",
   "execution_count": 29,
   "id": "4ef54dbd-0f30-479b-b152-b98ef7048dcb",
   "metadata": {},
   "outputs": [
    {
     "data": {
      "image/png": "[encoded data removed]",
      "text/plain": [
       "<Figure size 1000x600 with 1 Axes>"
      ]
     },
     "metadata": {},
     "output_type": "display_data"
    }
   ],
   "source": [
    "#sentiment by product\n",
    "plt.figure(figsize=(10,6))\n",
    "sns.countplot(data=df,x='product',hue='sentiment',palette='pastel',order=df['brand_category'].value_counts().iloc[:8].index)\n",
    "plt.title('Sentiment by Top 8 Products')\n",
    "plt.xlabel('Product')\n",
    "plt.ylabel('Number of Tweets')\n",
    "plt.xticks(rotation=45)\n",
    "plt.show()\n"
   ]
  },
  {
   "cell_type": "code",
   "execution_count": 30,
   "id": "f84f8100-a7b0-4fb9-9318-e89916a34ac2",
   "metadata": {},
   "outputs": [
    {
     "name": "stderr",
     "output_type": "stream",
     "text": [
      "C:\\Users\\Administrator\\AppData\\Local\\Temp\\ipykernel_20940\\3420069185.py:2: FutureWarning: \n",
      "\n",
      "Passing `palette` without assigning `hue` is deprecated and will be removed in v0.14.0. Assign the `x` variable to `hue` and set `legend=False` for the same effect.\n",
      "\n",
      "  sns.countplot(x='brand_category', data=df, palette='pastel')\n"
     ]
    },
    {
     "data": {
      "image/png": "[encoded data removed]",
      "text/plain": [
       "<Figure size 600x400 with 1 Axes>"
      ]
     },
     "metadata": {},
     "output_type": "display_data"
    }
   ],
   "source": [
    "plt.figure(figsize=(6,4))\n",
    "sns.countplot(x='brand_category', data=df, palette='pastel')\n",
    "plt.title('Distribution of Tweets by Brand', fontsize=14)\n",
    "plt.xlabel('Brand')\n",
    "plt.ylabel('Number of Tweets')\n",
    "plt.show()\n"
   ]
  },
  {
   "cell_type": "code",
   "execution_count": 32,
   "id": "24c3d9c7-0828-49f5-a9db-2d4be2b871c8",
   "metadata": {},
   "outputs": [
    {
     "data": {
      "text/plain": [
       "{'negative': 0, 'neutral': 1, 'positive': 2}"
      ]
     },
     "execution_count": 32,
     "metadata": {},
     "output_type": "execute_result"
    }
   ],
   "source": [
    "#Encoding\n",
    "from sklearn.preprocessing import LabelEncoder\n",
    "\n",
    "encoder = LabelEncoder()\n",
    "df['label'] = encoder.fit_transform(df['sentiment'])\n",
    "\n",
    "# See how labels were encoded\n",
    "dict(zip(encoder.classes_, encoder.transform(encoder.classes_)))\n"
   ]
  },
  {
   "cell_type": "code",
   "execution_count": 33,
   "id": "a1263188-b63b-44a2-ab9b-d1d51de0c97f",
   "metadata": {},
   "outputs": [
    {
     "name": "stdout",
     "output_type": "stream",
     "text": [
      "Training data: 7256 tweets\n",
      "Testing data: 1814 tweets\n"
     ]
    }
   ],
   "source": [
    "# Splitting the data\n",
    "from sklearn.model_selection import train_test_split\n",
    "\n",
    "X = df['clean_tweet']# text data\n",
    "y = df['label']# numeric sentiment\n",
    "\n",
    "X_train, X_test, y_train, y_test = train_test_split(X, y, test_size=0.2, random_state=42, stratify=y)\n",
    "\n",
    "print(f\"Training data: {len(X_train)} tweets\")\n",
    "print(f\"Testing data: {len(X_test)} tweets\")\n"
   ]
  },
  {
   "cell_type": "code",
   "execution_count": null,
   "id": "c119c091-aa0e-4093-9cec-907900216369",
   "metadata": {},
   "outputs": [],
   "source": []
  }
 ],
 "metadata": {
  "kernelspec": {
   "display_name": "Python 3 (ipykernel)",
   "language": "python",
   "name": "python3"
  },
  "language_info": {
   "codemirror_mode": {
    "name": "ipython",
    "version": 3
   },
   "file_extension": ".py",
   "mimetype": "text/x-python",
   "name": "python",
   "nbconvert_exporter": "python",
   "pygments_lexer": "ipython3",
   "version": "3.12.3"
  }
 },
 "nbformat": 4,
 "nbformat_minor": 5
}
